{
 "cells": [
  {
   "metadata": {},
   "cell_type": "markdown",
   "source": "# Process SNP map",
   "id": "d6b84466b1baa30b"
  },
  {
   "metadata": {},
   "cell_type": "markdown",
   "source": "## Step 1: Environment setup",
   "id": "dd4336cefb691efc"
  },
  {
   "metadata": {},
   "cell_type": "markdown",
   "source": "### Import libraries",
   "id": "64f5e5242dc5700c"
  },
  {
   "cell_type": "code",
   "id": "initial_id",
   "metadata": {
    "collapsed": true,
    "ExecuteTime": {
     "end_time": "2024-08-20T03:16:10.084674Z",
     "start_time": "2024-08-20T03:16:09.660779Z"
    }
   },
   "source": [
    "import warnings\n",
    "\n",
    "import pandas as pd\n",
    "from tqdm import tqdm\n",
    "\n",
    "from utils_data import SnpMap"
   ],
   "outputs": [],
   "execution_count": 1
  },
  {
   "metadata": {},
   "cell_type": "markdown",
   "source": "### Configure Environment",
   "id": "f148d4896beb127f"
  },
  {
   "metadata": {
    "ExecuteTime": {
     "end_time": "2024-08-20T03:16:10.087999Z",
     "start_time": "2024-08-20T03:16:10.085678Z"
    }
   },
   "cell_type": "code",
   "source": "warnings.filterwarnings(\"ignore\", category=pd.errors.DtypeWarning)",
   "id": "d9e1f5ba725c1fe2",
   "outputs": [],
   "execution_count": 2
  },
  {
   "metadata": {},
   "cell_type": "markdown",
   "source": "## Step 2: Process SNP map",
   "id": "c647ede4b3b8183"
  },
  {
   "metadata": {
    "ExecuteTime": {
     "end_time": "2024-08-20T03:23:16.832115Z",
     "start_time": "2024-08-20T03:16:10.087999Z"
    }
   },
   "cell_type": "code",
   "source": [
    "for i in tqdm(range(1, 23)):\n",
    "    snp_map = SnpMap().from_raw(f'../data/snp_map/raw/37/chromosome.{i}.txt')\n",
    "    snp_map.save(f'../data/snp_map/processed/37/chromosome.{i}.txt')"
   ],
   "id": "3d9495de27c8345f",
   "outputs": [
    {
     "name": "stderr",
     "output_type": "stream",
     "text": [
      "100%|██████████| 22/22 [07:06<00:00, 19.40s/it]\n"
     ]
    }
   ],
   "execution_count": 3
  }
 ],
 "metadata": {
  "kernelspec": {
   "display_name": "Python 3",
   "language": "python",
   "name": "python3"
  },
  "language_info": {
   "codemirror_mode": {
    "name": "ipython",
    "version": 2
   },
   "file_extension": ".py",
   "mimetype": "text/x-python",
   "name": "python",
   "nbconvert_exporter": "python",
   "pygments_lexer": "ipython2",
   "version": "2.7.6"
  }
 },
 "nbformat": 4,
 "nbformat_minor": 5
}
