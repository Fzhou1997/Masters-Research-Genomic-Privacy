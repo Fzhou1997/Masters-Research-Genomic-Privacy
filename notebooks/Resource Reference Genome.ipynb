{
 "cells": [
  {
   "metadata": {},
   "cell_type": "markdown",
   "source": "# Process Reference Genome",
   "id": "d32af4f3f542009"
  },
  {
   "metadata": {},
   "cell_type": "markdown",
   "source": "## Step 1: Environment Setup",
   "id": "60d6cd307a217618"
  },
  {
   "metadata": {},
   "cell_type": "markdown",
   "source": "### Import Libraries",
   "id": "8e4bffd25b768907"
  },
  {
   "cell_type": "code",
   "id": "initial_id",
   "metadata": {
    "collapsed": true,
    "ExecuteTime": {
     "end_time": "2024-10-15T20:49:32.601609Z",
     "start_time": "2024-10-15T20:49:32.184498Z"
    }
   },
   "source": [
    "from tqdm import tqdm\n",
    "from Bio import SeqIO\n",
    "\n",
    "from utils_data import ReferenceGenome"
   ],
   "outputs": [],
   "execution_count": 1
  },
  {
   "metadata": {},
   "cell_type": "markdown",
   "source": "## Step 2: Process Reference Genome",
   "id": "31efc3c40558faf7"
  },
  {
   "metadata": {
    "ExecuteTime": {
     "end_time": "2024-10-15T20:52:56.342257Z",
     "start_time": "2024-10-15T20:49:32.605573Z"
    }
   },
   "cell_type": "code",
   "source": [
    "for i in tqdm(range(1, 23)):\n",
    "    reference_genome = ReferenceGenome().from_raw(f'../data/ref_genome/raw/37/chromosome.{i}.fa')\n",
    "    reference_genome.save(f'../data/ref_genome/processed/37/chromosome.{i}.pkl')"
   ],
   "id": "8fc1d74c860aed8f",
   "outputs": [
    {
     "name": "stderr",
     "output_type": "stream",
     "text": [
      "100%|██████████| 22/22 [03:23<00:00,  9.26s/it]\n"
     ]
    }
   ],
   "execution_count": 2
  },
  {
   "metadata": {},
   "cell_type": "markdown",
   "source": "## Step 3: Verify Reference Genomes",
   "id": "100900648f9ec0a3"
  },
  {
   "metadata": {
    "ExecuteTime": {
     "end_time": "2024-10-15T20:58:38.760085Z",
     "start_time": "2024-10-15T20:53:02.216410Z"
    }
   },
   "cell_type": "code",
   "source": [
    "for i in tqdm(range(1, 23)):\n",
    "    reference_genome = ReferenceGenome().from_processed(f'../data/ref_genome/processed/37/chromosome.{i}.pkl')\n",
    "    record = str(SeqIO.read(f'../data/ref_genome/raw/37/chromosome.{i}.fa', 'fasta').seq)\n",
    "    assert record == str(reference_genome)"
   ],
   "id": "c480b2bc7481f06f",
   "outputs": [
    {
     "name": "stderr",
     "output_type": "stream",
     "text": [
      "100%|██████████| 22/22 [05:36<00:00, 15.30s/it]\n"
     ]
    }
   ],
   "execution_count": 3
  }
 ],
 "metadata": {
  "kernelspec": {
   "display_name": "Python 3",
   "language": "python",
   "name": "python3"
  },
  "language_info": {
   "codemirror_mode": {
    "name": "ipython",
    "version": 2
   },
   "file_extension": ".py",
   "mimetype": "text/x-python",
   "name": "python",
   "nbconvert_exporter": "python",
   "pygments_lexer": "ipython2",
   "version": "2.7.6"
  }
 },
 "nbformat": 4,
 "nbformat_minor": 5
}
