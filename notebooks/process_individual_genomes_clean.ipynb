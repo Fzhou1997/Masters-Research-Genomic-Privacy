{
 "cells": [
  {
   "cell_type": "code",
   "id": "initial_id",
   "metadata": {
    "collapsed": true,
    "ExecuteTime": {
     "end_time": "2024-08-26T21:14:35.257233Z",
     "start_time": "2024-08-26T21:14:34.887086Z"
    }
   },
   "source": [
    "import os\n",
    "import warnings\n",
    "\n",
    "import pandas as pd\n",
    "from tqdm import tqdm\n",
    "\n",
    "from utils_data import IndividualGenome"
   ],
   "outputs": [],
   "execution_count": 1
  },
  {
   "metadata": {
    "ExecuteTime": {
     "end_time": "2024-08-26T21:14:35.260835Z",
     "start_time": "2024-08-26T21:14:35.258348Z"
    }
   },
   "cell_type": "code",
   "source": "warnings.filterwarnings(\"ignore\", category=pd.errors.DtypeWarning)",
   "id": "ab72af680941ded7",
   "outputs": [],
   "execution_count": 2
  },
  {
   "metadata": {
    "ExecuteTime": {
     "end_time": "2024-08-26T21:14:35.271974Z",
     "start_time": "2024-08-26T21:14:35.260835Z"
    }
   },
   "cell_type": "code",
   "source": [
    "resources_dir = os.path.abspath('../res')\n",
    "build37_in_path = os.path.abspath('../data/ind_genomes/combined/37/')\n",
    "build37_in_files = os.listdir(build37_in_path)\n",
    "build37_out_path = os.path.abspath('../data/ind_genomes/cleaned/37/')"
   ],
   "id": "b3c40dbe517896cb",
   "outputs": [],
   "execution_count": 3
  },
  {
   "metadata": {
    "ExecuteTime": {
     "end_time": "2024-08-27T02:18:47.388253Z",
     "start_time": "2024-08-26T21:14:35.271974Z"
    }
   },
   "cell_type": "code",
   "source": [
    "for f in tqdm(build37_in_files):\n",
    "    genome = IndividualGenome(f'{build37_in_path}/{f}').clean()\n",
    "    if genome.count > 0:\n",
    "        genome.save(f'{build37_out_path}/{f}')"
   ],
   "id": "30f585115e3f7b5f",
   "outputs": [
    {
     "name": "stderr",
     "output_type": "stream",
     "text": [
      "100%|██████████| 5723/5723 [5:04:12<00:00,  3.19s/it]   \n"
     ]
    }
   ],
   "execution_count": 4
  }
 ],
 "metadata": {
  "kernelspec": {
   "display_name": "Python 3",
   "language": "python",
   "name": "python3"
  },
  "language_info": {
   "codemirror_mode": {
    "name": "ipython",
    "version": 2
   },
   "file_extension": ".py",
   "mimetype": "text/x-python",
   "name": "python",
   "nbconvert_exporter": "python",
   "pygments_lexer": "ipython2",
   "version": "2.7.6"
  }
 },
 "nbformat": 4,
 "nbformat_minor": 5
}
