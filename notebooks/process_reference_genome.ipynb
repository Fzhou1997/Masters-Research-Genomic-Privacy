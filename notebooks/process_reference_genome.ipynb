{
 "cells": [
  {
   "metadata": {},
   "cell_type": "markdown",
   "source": "# Process Reference Genome",
   "id": "d32af4f3f542009"
  },
  {
   "metadata": {},
   "cell_type": "markdown",
   "source": "## Step 1: Environment Setup",
   "id": "60d6cd307a217618"
  },
  {
   "metadata": {},
   "cell_type": "markdown",
   "source": "### Import Libraries",
   "id": "8e4bffd25b768907"
  },
  {
   "cell_type": "code",
   "id": "initial_id",
   "metadata": {
    "collapsed": true,
    "ExecuteTime": {
     "end_time": "2024-08-20T06:12:47.262752Z",
     "start_time": "2024-08-20T06:12:47.253884Z"
    }
   },
   "source": [
    "from tqdm import tqdm\n",
    "\n",
    "from utils_data import ReferenceGenome"
   ],
   "outputs": [],
   "execution_count": 7
  },
  {
   "metadata": {},
   "cell_type": "markdown",
   "source": "## Step 2: Process Reference Genome",
   "id": "31efc3c40558faf7"
  },
  {
   "metadata": {
    "ExecuteTime": {
     "end_time": "2024-08-20T06:13:11.652661Z",
     "start_time": "2024-08-20T06:12:47.262752Z"
    }
   },
   "cell_type": "code",
   "source": [
    "for i in tqdm(range(1, 23)):\n",
    "    reference_genome = ReferenceGenome().from_raw(f'../data/ref_genome/raw/37/chromosome.{i}.fa')\n",
    "    reference_genome.save(f'../data/ref_genome/processed/37/chromosome.{i}.txt')"
   ],
   "id": "8fc1d74c860aed8f",
   "outputs": [
    {
     "name": "stderr",
     "output_type": "stream",
     "text": [
      "100%|██████████| 22/22 [00:24<00:00,  1.11s/it]\n"
     ]
    }
   ],
   "execution_count": 8
  }
 ],
 "metadata": {
  "kernelspec": {
   "display_name": "Python 3",
   "language": "python",
   "name": "python3"
  },
  "language_info": {
   "codemirror_mode": {
    "name": "ipython",
    "version": 2
   },
   "file_extension": ".py",
   "mimetype": "text/x-python",
   "name": "python",
   "nbconvert_exporter": "python",
   "pygments_lexer": "ipython2",
   "version": "2.7.6"
  }
 },
 "nbformat": 4,
 "nbformat_minor": 5
}
