{
 "cells": [
  {
   "metadata": {},
   "cell_type": "markdown",
   "source": "## Import Libraries",
   "id": "a7b7e44464304f7a"
  },
  {
   "metadata": {},
   "cell_type": "markdown",
   "source": "### Python Libraries",
   "id": "9d8cf4afe950b0f"
  },
  {
   "cell_type": "code",
   "id": "initial_id",
   "metadata": {
    "collapsed": true,
    "ExecuteTime": {
     "end_time": "2024-11-08T03:56:20.241682Z",
     "start_time": "2024-11-08T03:56:18.953296Z"
    }
   },
   "source": [
    "from datetime import datetime\n",
    "\n",
    "from torch.optim.lr_scheduler import ReduceLROnPlateau"
   ],
   "outputs": [],
   "execution_count": 1
  },
  {
   "metadata": {},
   "cell_type": "markdown",
   "source": "### External Libraries",
   "id": "6c0015685cde92d6"
  },
  {
   "metadata": {
    "ExecuteTime": {
     "end_time": "2024-11-08T03:56:20.246612Z",
     "start_time": "2024-11-08T03:56:20.244162Z"
    }
   },
   "cell_type": "code",
   "source": [
    "import numpy as np\n",
    "import torch\n",
    "import torch.nn as nn"
   ],
   "id": "c81833762007e814",
   "outputs": [],
   "execution_count": 2
  },
  {
   "metadata": {},
   "cell_type": "markdown",
   "source": "### Custom Libraries",
   "id": "c29784b9d8f64f91"
  },
  {
   "metadata": {
    "ExecuteTime": {
     "end_time": "2024-11-08T03:56:22.719636Z",
     "start_time": "2024-11-08T03:56:20.470424Z"
    }
   },
   "cell_type": "code",
   "source": [
    "from utils_random import set_random_seed\n",
    "from utils_io import read_bitarrays\n",
    "from utils_torch.data import stratified_random_split\n",
    "from utils_attacker_lstm.data import DatasetAttackerLSTMPool, DataLoaderAttackerLSTM\n",
    "from utils_attacker_lstm.models import ModelAttackerConvLSTMLinear, TrainerAttackerLSTM, TesterAttackerLSTM, ManagerAttackerLSTM\n",
    "from utils_plot import plot_train_eval_loss_accuracy, plot_receiver_operating_characteristics_curve, plot_confusion_matrix"
   ],
   "id": "a7079510746aa99d",
   "outputs": [],
   "execution_count": 3
  },
  {
   "metadata": {},
   "cell_type": "markdown",
   "source": "## Set Parameters",
   "id": "6ec895d3bf12b80b"
  },
  {
   "metadata": {},
   "cell_type": "markdown",
   "source": "### Model Id",
   "id": "7713f6ce003c6e1e"
  },
  {
   "metadata": {
    "ExecuteTime": {
     "end_time": "2024-11-08T03:56:22.726062Z",
     "start_time": "2024-11-08T03:56:22.723269Z"
    }
   },
   "cell_type": "code",
   "source": "model_id = datetime.now().strftime('%m%d%H%M')",
   "id": "51d565423dc3b8de",
   "outputs": [],
   "execution_count": 4
  },
  {
   "metadata": {
    "ExecuteTime": {
     "end_time": "2024-11-08T03:56:22.737732Z",
     "start_time": "2024-11-08T03:56:22.734544Z"
    }
   },
   "cell_type": "code",
   "source": "random_seed = 0",
   "id": "78c2bbfee2c6579c",
   "outputs": [],
   "execution_count": 5
  },
  {
   "metadata": {},
   "cell_type": "markdown",
   "source": "### Data Params",
   "id": "2b5f5209e0eb0d73"
  },
  {
   "metadata": {
    "ExecuteTime": {
     "end_time": "2024-11-08T03:56:22.744321Z",
     "start_time": "2024-11-08T03:56:22.741292Z"
    }
   },
   "cell_type": "code",
   "source": [
    "num_snps = 80000\n",
    "train_eval_test_split = [0.7, 0.15, 0.15]"
   ],
   "id": "d9bcbc13ad4453b7",
   "outputs": [],
   "execution_count": 6
  },
  {
   "metadata": {},
   "cell_type": "markdown",
   "source": "### Loader Params",
   "id": "f974bf1f786a5caf"
  },
  {
   "metadata": {
    "ExecuteTime": {
     "end_time": "2024-11-08T03:56:22.751219Z",
     "start_time": "2024-11-08T03:56:22.747713Z"
    }
   },
   "cell_type": "code",
   "source": [
    "genome_batch_size = 32\n",
    "snp_batch_size = 80000"
   ],
   "id": "84bde9044b3c68bf",
   "outputs": [],
   "execution_count": 7
  },
  {
   "metadata": {},
   "cell_type": "markdown",
   "source": "### Model Params",
   "id": "9f1ea065e6c057eb"
  },
  {
   "metadata": {},
   "cell_type": "markdown",
   "source": "#### Conv1d Params",
   "id": "2391207ac50635e9"
  },
  {
   "metadata": {
    "ExecuteTime": {
     "end_time": "2024-11-08T03:56:22.769264Z",
     "start_time": "2024-11-08T03:56:22.754437Z"
    }
   },
   "cell_type": "code",
   "source": [
    "conv_num_layers = 1\n",
    "conv_channel_size = [3, 6]\n",
    "conv_kernel_size = [10]\n",
    "conv_stride = [2]\n",
    "conv_dilation = [1]\n",
    "conv_groups = [1]\n",
    "\n",
    "conv_activation = []\n",
    "conv_activation_kwargs = []\n",
    "\n",
    "conv_dropout_p = []\n",
    "conv_dropout_first = []\n",
    "\n",
    "conv_batch_norm = []\n",
    "conv_batch_norm_momentum = []"
   ],
   "id": "796bd8bb6de32599",
   "outputs": [],
   "execution_count": 8
  },
  {
   "metadata": {},
   "cell_type": "markdown",
   "source": "#### Conv1d to LSTM Params",
   "id": "8e07c2837ae26bd7"
  },
  {
   "metadata": {
    "ExecuteTime": {
     "end_time": "2024-11-08T03:56:22.776156Z",
     "start_time": "2024-11-08T03:56:22.772956Z"
    }
   },
   "cell_type": "code",
   "source": [
    "conv_lstm_activation = nn.ReLU\n",
    "conv_lstm_activation_kwargs = {}\n",
    "conv_lstm_dropout_p = 0.25\n",
    "conv_lstm_dropout_first = True\n",
    "conv_lstm_layer_norm = True"
   ],
   "id": "537a72508b85a658",
   "outputs": [],
   "execution_count": 9
  },
  {
   "metadata": {},
   "cell_type": "markdown",
   "source": "#### LSTM Params",
   "id": "5162b2e344f83fc"
  },
  {
   "metadata": {
    "ExecuteTime": {
     "end_time": "2024-11-08T03:56:22.783091Z",
     "start_time": "2024-11-08T03:56:22.779668Z"
    }
   },
   "cell_type": "code",
   "source": [
    "lstm_num_layers = 1\n",
    "lstm_input_size = 6\n",
    "lstm_hidden_size = [12]\n",
    "lstm_proj_size = [0]\n",
    "lstm_bidirectional = [True]\n",
    "\n",
    "lstm_dropout_p = []\n",
    "lstm_dropout_first = []\n",
    "\n",
    "lstm_layer_norm = []"
   ],
   "id": "326f09850324570e",
   "outputs": [],
   "execution_count": 10
  },
  {
   "metadata": {},
   "cell_type": "markdown",
   "source": "#### LSTM to Linear Params",
   "id": "44ae38c99b6aa85b"
  },
  {
   "metadata": {
    "ExecuteTime": {
     "end_time": "2024-11-08T03:56:22.791107Z",
     "start_time": "2024-11-08T03:56:22.786513Z"
    }
   },
   "cell_type": "code",
   "source": [
    "lstm_linear_dropout_p = 0.5\n",
    "lstm_linear_dropout_first = True\n",
    "\n",
    "lstm_linear_batch_norm = True\n",
    "lstm_linear_batch_norm_momentum = 0.1"
   ],
   "id": "7c8506081458c530",
   "outputs": [],
   "execution_count": 11
  },
  {
   "metadata": {},
   "cell_type": "markdown",
   "source": "#### Linear Params",
   "id": "355130bc32a55c8d"
  },
  {
   "metadata": {
    "ExecuteTime": {
     "end_time": "2024-11-08T03:56:22.798347Z",
     "start_time": "2024-11-08T03:56:22.794685Z"
    }
   },
   "cell_type": "code",
   "source": [
    "linear_num_layers = 1\n",
    "linear_num_features = [24, 1]\n",
    "\n",
    "linear_activation = []\n",
    "linear_activation_kwargs = []\n",
    "\n",
    "linear_dropout_p = []\n",
    "linear_dropout_first = []\n",
    "\n",
    "linear_batch_norm = []\n",
    "linear_batch_norm_momentum = []"
   ],
   "id": "e68ebad2c8b2ae6a",
   "outputs": [],
   "execution_count": 12
  },
  {
   "metadata": {},
   "cell_type": "markdown",
   "source": "### Trainer Params",
   "id": "4899d3e43b6cbcc9"
  },
  {
   "metadata": {
    "ExecuteTime": {
     "end_time": "2024-11-08T03:56:22.805266Z",
     "start_time": "2024-11-08T03:56:22.803223Z"
    }
   },
   "cell_type": "code",
   "source": [
    "num_epochs = 256\n",
    "learning_rate = 0.001"
   ],
   "id": "c87d5d53f44b8bc7",
   "outputs": [],
   "execution_count": 13
  },
  {
   "metadata": {},
   "cell_type": "markdown",
   "source": "### IO Params",
   "id": "453513fb6c5bdbe5"
  },
  {
   "metadata": {
    "ExecuteTime": {
     "end_time": "2024-11-08T03:56:22.812335Z",
     "start_time": "2024-11-08T03:56:22.809776Z"
    }
   },
   "cell_type": "code",
   "source": [
    "models_dir = \"../models\"\n",
    "models_file = \"models.csv\"\n",
    "plots_dir = \"../plots\""
   ],
   "id": "45fce2a3c2ce0f87",
   "outputs": [],
   "execution_count": 14
  },
  {
   "metadata": {},
   "cell_type": "markdown",
   "source": "## Set Torch Device",
   "id": "b02437072bd61f7"
  },
  {
   "metadata": {
    "ExecuteTime": {
     "end_time": "2024-11-08T03:56:22.842515Z",
     "start_time": "2024-11-08T03:56:22.817095Z"
    }
   },
   "cell_type": "code",
   "source": [
    "if torch.backends.mps.is_available():\n",
    "    device = torch.device('mps')\n",
    "elif torch.cuda.is_available():\n",
    "    device = torch.device('cuda')\n",
    "else:\n",
    "    device = torch.device('cpu')"
   ],
   "id": "1cb642c604c1098d",
   "outputs": [],
   "execution_count": 15
  },
  {
   "metadata": {},
   "cell_type": "markdown",
   "source": "## Set Random Seed",
   "id": "5391a0a68c0afb04"
  },
  {
   "metadata": {
    "ExecuteTime": {
     "end_time": "2024-11-08T03:56:22.852501Z",
     "start_time": "2024-11-08T03:56:22.846918Z"
    }
   },
   "cell_type": "code",
   "source": "set_random_seed(random_seed)",
   "id": "dfed5e45a302df45",
   "outputs": [],
   "execution_count": 16
  },
  {
   "metadata": {},
   "cell_type": "markdown",
   "source": "## Load Data",
   "id": "2386d88a7f9061b2"
  },
  {
   "metadata": {},
   "cell_type": "markdown",
   "source": "### Load Genomes",
   "id": "d91c0b5cb2ecf50b"
  },
  {
   "metadata": {
    "ExecuteTime": {
     "end_time": "2024-11-08T03:56:23.576704Z",
     "start_time": "2024-11-08T03:56:22.856432Z"
    }
   },
   "cell_type": "code",
   "source": [
    "genomes_pool = read_bitarrays('../data/test/In_Pop.pkl')[:, :num_snps]\n",
    "genomes_reference = read_bitarrays('../data/test/Not_In_Pop.pkl')[:, :num_snps]\n",
    "genomes = np.concatenate((genomes_pool, genomes_reference), axis=0)"
   ],
   "id": "8c4b51e2a71503d7",
   "outputs": [],
   "execution_count": 17
  },
  {
   "metadata": {},
   "cell_type": "markdown",
   "source": "### Load Labels",
   "id": "be2aff9bc4e6360e"
  },
  {
   "metadata": {
    "ExecuteTime": {
     "end_time": "2024-11-08T03:56:23.584209Z",
     "start_time": "2024-11-08T03:56:23.581214Z"
    }
   },
   "cell_type": "code",
   "source": [
    "labels_beacon = np.ones(genomes_pool.shape[0], dtype=bool)\n",
    "labels_reference = np.zeros(genomes_reference.shape[0], dtype=bool)\n",
    "labels = np.concatenate((labels_beacon, labels_reference), axis=0).astype(bool)"
   ],
   "id": "ac4c99cd1ee93eb7",
   "outputs": [],
   "execution_count": 18
  },
  {
   "metadata": {},
   "cell_type": "markdown",
   "source": "### Compute Frequencies",
   "id": "cc5bef3ad486f59a"
  },
  {
   "metadata": {
    "ExecuteTime": {
     "end_time": "2024-11-08T03:56:23.630873Z",
     "start_time": "2024-11-08T03:56:23.589058Z"
    }
   },
   "cell_type": "code",
   "source": [
    "frequencies_pool = np.mean(genomes_pool, axis=0)\n",
    "frequencies_reference = np.mean(genomes_reference, axis=0)"
   ],
   "id": "6107f26dde682508",
   "outputs": [],
   "execution_count": 19
  },
  {
   "metadata": {},
   "cell_type": "markdown",
   "source": "## Create Dataset",
   "id": "7c2bc9e3cb930343"
  },
  {
   "metadata": {
    "ExecuteTime": {
     "end_time": "2024-11-08T03:56:24.068207Z",
     "start_time": "2024-11-08T03:56:23.636889Z"
    }
   },
   "cell_type": "code",
   "source": [
    "dataset = DatasetAttackerLSTMPool(\n",
    "    target_genomes=genomes,\n",
    "    pool_frequencies=frequencies_pool,\n",
    "    reference_frequencies=frequencies_reference,\n",
    "    targets=labels)\n",
    "subset_train, subset_eval, subset_test = stratified_random_split(dataset, train_eval_test_split)"
   ],
   "id": "ccb194f1068e326c",
   "outputs": [],
   "execution_count": 20
  },
  {
   "metadata": {},
   "cell_type": "markdown",
   "source": "## Create DataLoaders",
   "id": "8501e2153e140cd9"
  },
  {
   "metadata": {
    "ExecuteTime": {
     "end_time": "2024-11-08T03:56:24.078915Z",
     "start_time": "2024-11-08T03:56:24.076410Z"
    }
   },
   "cell_type": "code",
   "source": [
    "loader_train = DataLoaderAttackerLSTM(subset_train, genome_batch_size, snp_batch_size, shuffle=True)\n",
    "loader_eval = DataLoaderAttackerLSTM(subset_eval, genome_batch_size, snp_batch_size, shuffle=False)\n",
    "loader_test = DataLoaderAttackerLSTM(subset_test, genome_batch_size, snp_batch_size, shuffle=False)"
   ],
   "id": "89f0d57a2235320e",
   "outputs": [],
   "execution_count": 21
  },
  {
   "metadata": {},
   "cell_type": "markdown",
   "source": "## Create Model",
   "id": "116a2c0c1acf995e"
  },
  {
   "metadata": {
    "ExecuteTime": {
     "end_time": "2024-11-08T03:56:24.210820Z",
     "start_time": "2024-11-08T03:56:24.087182Z"
    }
   },
   "cell_type": "code",
   "source": [
    "model = ModelAttackerConvLSTMLinear(\n",
    "    conv_num_layers=conv_num_layers,\n",
    "    conv_channel_size=conv_channel_size,\n",
    "    conv_kernel_size=conv_kernel_size,\n",
    "    conv_stride=conv_stride,\n",
    "    conv_dilation=conv_dilation,\n",
    "    conv_groups=conv_groups,\n",
    "    conv_activation=conv_activation,\n",
    "    conv_activation_kwargs=conv_activation_kwargs,\n",
    "    conv_dropout_p=conv_dropout_p,\n",
    "    conv_dropout_first=conv_dropout_first,\n",
    "    conv_batch_norm=conv_batch_norm,\n",
    "    conv_batch_norm_momentum=conv_batch_norm_momentum,\n",
    "    conv_lstm_activation=conv_lstm_activation,\n",
    "    conv_lstm_activation_kwargs=conv_lstm_activation_kwargs,\n",
    "    conv_lstm_dropout_p=conv_lstm_dropout_p,\n",
    "    conv_lstm_dropout_first=conv_lstm_dropout_first,\n",
    "    conv_lstm_layer_norm=conv_lstm_layer_norm,\n",
    "    lstm_num_layers=lstm_num_layers,\n",
    "    lstm_input_size=lstm_input_size,\n",
    "    lstm_hidden_size=lstm_hidden_size,\n",
    "    lstm_proj_size=lstm_proj_size,\n",
    "    lstm_bidirectional=lstm_bidirectional,\n",
    "    lstm_dropout_p=lstm_dropout_p,\n",
    "    lstm_dropout_first=lstm_dropout_first,\n",
    "    lstm_layer_norm=lstm_layer_norm,\n",
    "    lstm_linear_dropout_p=lstm_linear_dropout_p,\n",
    "    lstm_linear_dropout_first=lstm_linear_dropout_first,\n",
    "    lstm_linear_batch_norm=lstm_linear_batch_norm,\n",
    "    lstm_linear_batch_norm_momentum=lstm_linear_batch_norm_momentum,\n",
    "    linear_num_layers=linear_num_layers,\n",
    "    linear_num_features=linear_num_features,\n",
    "    linear_activation=linear_activation,\n",
    "    linear_activation_kwargs=linear_activation_kwargs,\n",
    "    linear_dropout_p=linear_dropout_p,\n",
    "    linear_dropout_first=linear_dropout_first,\n",
    "    linear_batch_norm=linear_batch_norm,\n",
    "    linear_batch_norm_momentum=linear_batch_norm_momentum\n",
    ")\n",
    "model.to(device)"
   ],
   "id": "3d2618ec60cd9846",
   "outputs": [
    {
     "data": {
      "text/plain": [
       "ModelAttackerConvLSTMLinear(\n",
       "  (lstm_modules): MultiLayerLSTM(\n",
       "    (_lstm_modules): ModuleList(\n",
       "      (0): LSTM(6, 12, batch_first=True, bidirectional=True)\n",
       "    )\n",
       "    (_dropout_modules): ModuleList()\n",
       "    (_layer_norm_modules): ModuleList()\n",
       "  )\n",
       "  (lstm_linear_dropout_module): Dropout(p=0.5, inplace=False)\n",
       "  (lstm_linear_batch_norm_module): BatchNorm1d(24, eps=1e-05, momentum=0.1, affine=True, track_running_stats=True)\n",
       "  (linear_modules): MultiLayerLinear(\n",
       "    (_multi_layer_modules): Sequential(\n",
       "      (0): Linear(in_features=24, out_features=1, bias=True)\n",
       "    )\n",
       "  )\n",
       "  (conv_modules): MultiLayerConv1d(\n",
       "    (_multi_layer_modules): Sequential(\n",
       "      (0): Conv1d(3, 6, kernel_size=(10,), stride=(2,))\n",
       "    )\n",
       "  )\n",
       "  (conv_lstm_activation_module): ReLU()\n",
       "  (conv_lstm_dropout_module): Dropout(p=0.25, inplace=False)\n",
       "  (conv_lstm_layer_norm_module): LayerNorm((6,), eps=1e-05, elementwise_affine=True)\n",
       ")"
      ]
     },
     "execution_count": 22,
     "metadata": {},
     "output_type": "execute_result"
    }
   ],
   "execution_count": 22
  },
  {
   "metadata": {},
   "cell_type": "markdown",
   "source": "## Create Trainer",
   "id": "89ef84c555981c50"
  },
  {
   "metadata": {},
   "cell_type": "markdown",
   "source": "### Create Criterion and Optimizer",
   "id": "a5f5ae80888cace9"
  },
  {
   "metadata": {
    "ExecuteTime": {
     "end_time": "2024-11-08T03:56:24.717195Z",
     "start_time": "2024-11-08T03:56:24.218643Z"
    }
   },
   "cell_type": "code",
   "source": [
    "criterion = nn.BCEWithLogitsLoss()\n",
    "optimizer = torch.optim.Adam(params=model.parameters(), \n",
    "                             lr=learning_rate)\n",
    "scheduler = ReduceLROnPlateau(optimizer=optimizer, \n",
    "                              mode='min', \n",
    "                              factor=0.5, \n",
    "                              patience=10)"
   ],
   "id": "8d056d32d35eb3af",
   "outputs": [],
   "execution_count": 23
  },
  {
   "metadata": {},
   "cell_type": "markdown",
   "source": "### Create Trainer",
   "id": "aa1fdd472d2395d2"
  },
  {
   "metadata": {
    "ExecuteTime": {
     "end_time": "2024-11-08T03:56:24.729084Z",
     "start_time": "2024-11-08T03:56:24.725910Z"
    }
   },
   "cell_type": "code",
   "source": [
    "trainer = TrainerAttackerLSTM(\n",
    "    model=model,\n",
    "    criterion=criterion,\n",
    "    optimizer=optimizer,\n",
    "    scheduler=None,\n",
    "    train_loader=loader_train,\n",
    "    eval_loader=loader_eval,\n",
    "    device=device,\n",
    "    max_grad_norm=1.0,\n",
    "    norm_type=2\n",
    ")"
   ],
   "id": "4fddc2b5a1d42fc0",
   "outputs": [],
   "execution_count": 24
  },
  {
   "metadata": {},
   "cell_type": "markdown",
   "source": "## Create Tester",
   "id": "4c845ab80dc45c38"
  },
  {
   "metadata": {
    "ExecuteTime": {
     "end_time": "2024-11-08T03:56:24.740497Z",
     "start_time": "2024-11-08T03:56:24.736158Z"
    }
   },
   "cell_type": "code",
   "source": [
    "tester = TesterAttackerLSTM(\n",
    "    model=model,\n",
    "    criterion=criterion,\n",
    "    test_loader=loader_test,\n",
    "    device=device\n",
    ")"
   ],
   "id": "d8ecd2c4a14f7937",
   "outputs": [],
   "execution_count": 25
  },
  {
   "metadata": {},
   "cell_type": "markdown",
   "source": "## Create Manager",
   "id": "f90f534b0dd78a9d"
  },
  {
   "metadata": {
    "ExecuteTime": {
     "end_time": "2024-11-08T03:56:24.752832Z",
     "start_time": "2024-11-08T03:56:24.746482Z"
    }
   },
   "cell_type": "code",
   "source": [
    "manager = ManagerAttackerLSTM(\n",
    "    models_dir=models_dir,\n",
    "    models_file=models_file\n",
    ")"
   ],
   "id": "1c75c0e8dc68c290",
   "outputs": [],
   "execution_count": 26
  },
  {
   "metadata": {},
   "cell_type": "markdown",
   "source": "## Train Model",
   "id": "f546d3d0142aa65"
  },
  {
   "metadata": {},
   "cell_type": "markdown",
   "source": "### Train Model",
   "id": "9f5aa03bb3d300b9"
  },
  {
   "metadata": {
    "jupyter": {
     "is_executing": true
    },
    "ExecuteTime": {
     "start_time": "2024-11-08T03:56:24.759312Z"
    }
   },
   "cell_type": "code",
   "source": "trainer.train(num_epochs=num_epochs, verbose=True)",
   "id": "98b4e83ad4186253",
   "outputs": [
    {
     "name": "stdout",
     "output_type": "stream",
     "text": [
      "Epoch 1/256\n",
      "Train Loss: 0.6942, Train Accuracy: 0.51\n",
      "Evaluation Loss: 0.6978, Evaluation Accuracy: 0.47\n",
      "Evaluation Loss Decreased: inf -> 0.6978. Saving Model...\n",
      "==================================================\n",
      "Epoch 2/256\n",
      "Train Loss: 0.7368, Train Accuracy: 0.48\n",
      "Evaluation Loss: 0.7018, Evaluation Accuracy: 0.48\n",
      "==================================================\n",
      "Epoch 3/256\n",
      "Train Loss: 0.7075, Train Accuracy: 0.53\n",
      "Evaluation Loss: 0.7055, Evaluation Accuracy: 0.47\n",
      "==================================================\n",
      "Epoch 4/256\n",
      "Train Loss: 0.7044, Train Accuracy: 0.52\n",
      "Evaluation Loss: 0.7040, Evaluation Accuracy: 0.46\n",
      "==================================================\n"
     ]
    }
   ],
   "execution_count": null
  },
  {
   "metadata": {},
   "cell_type": "markdown",
   "source": "### Print Metrics",
   "id": "5d9bdab880ffe0e5"
  },
  {
   "metadata": {},
   "cell_type": "code",
   "source": [
    "finish_time = datetime.now()\n",
    "best_eval_loss_epoch = trainer.best_eval_loss_epoch\n",
    "best_eval_loss = trainer.best_eval_loss\n",
    "best_eval_accuracy = trainer.eval_accuracies[best_eval_loss_epoch]\n",
    "\n",
    "print(f'Finished training at {finish_time}')\n",
    "print(f'Best evaluation loss epoch found at: {best_eval_loss_epoch}')\n",
    "print(f'Best evaluation loss found: {best_eval_loss:.4f}')\n",
    "print(f'Best evaluation accuracy found: {best_eval_accuracy:.4f}')"
   ],
   "id": "8e8ec64e8de7cfb9",
   "outputs": [],
   "execution_count": null
  },
  {
   "metadata": {},
   "cell_type": "markdown",
   "source": "### Plot Metrics",
   "id": "ca3f1aff1708e16a"
  },
  {
   "metadata": {},
   "cell_type": "code",
   "source": [
    "plot_train_eval_loss_accuracy(train_loss=trainer.train_losses,\n",
    "                              train_accuracy=trainer.train_accuracies,\n",
    "                              eval_loss=trainer.eval_losses,\n",
    "                              eval_accuracy=trainer.eval_accuracies,\n",
    "                              saved_epoch=best_eval_loss_epoch,\n",
    "                              output_path=plots_dir,\n",
    "                              output_file=f\"model_attacker_pool_{model_id}_train_eval_loss_acc.png\")"
   ],
   "id": "a8cb3348e9c5810e",
   "outputs": [],
   "execution_count": null
  },
  {
   "metadata": {},
   "cell_type": "markdown",
   "source": "## Test Model",
   "id": "3d50b35f8b1d9882"
  },
  {
   "metadata": {},
   "cell_type": "markdown",
   "source": "### Test Model",
   "id": "b2126f8fdab8dad8"
  },
  {
   "metadata": {},
   "cell_type": "code",
   "source": "tester.test()",
   "id": "70d47e25df917204",
   "outputs": [],
   "execution_count": null
  },
  {
   "metadata": {},
   "cell_type": "markdown",
   "source": "### Print Metrics",
   "id": "142af79c95fa3baa"
  },
  {
   "metadata": {},
   "cell_type": "code",
   "source": [
    "print(f'Test loss: {tester.loss:.4f}')\n",
    "print(f'Test accuracy: {tester.accuracy_score:.2f}')\n",
    "print(f'Test precision: {tester.precision_score:.2f}')\n",
    "print(f'Test recall: {tester.recall_score:.2f}')\n",
    "print(f'Test f1: {tester.f1_score:.2f}')\n",
    "print(f'Test AUC: {tester.auroc_score:.2f}')"
   ],
   "id": "ae825dd14a94c72f",
   "outputs": [],
   "execution_count": null
  },
  {
   "metadata": {},
   "cell_type": "markdown",
   "source": "### Plot ROC Curve",
   "id": "6378f506a034532b"
  },
  {
   "metadata": {},
   "cell_type": "code",
   "source": [
    "fpr, tpr, _ = tester.roc_curve\n",
    "plot_receiver_operating_characteristics_curve(false_positive_rates=fpr,\n",
    "                                              true_positive_rates=tpr,\n",
    "                                              auc=tester.auroc_score,\n",
    "                                              output_path=plots_dir,\n",
    "                                              output_file=f\"model_attacker_pool_{model_id}_roc_curve.png\")"
   ],
   "id": "90a24a512e50961c",
   "outputs": [],
   "execution_count": null
  },
  {
   "metadata": {},
   "cell_type": "markdown",
   "source": "### Plot Confusion Matrix",
   "id": "832f4f8ba3fe7d1c"
  },
  {
   "metadata": {},
   "cell_type": "code",
   "source": [
    "plot_confusion_matrix(confusion_matrix=tester.confusion_matrix_scores, \n",
    "                      task=\"binary\",\n",
    "                      output_path=plots_dir,\n",
    "                      output_file=f\"model_attacker_pool_{model_id}_confusion_matrix.png\")"
   ],
   "id": "d3e6f5be34d66cf3",
   "outputs": [],
   "execution_count": null
  },
  {
   "metadata": {},
   "cell_type": "markdown",
   "source": "## Save Model\n",
   "id": "4e09410733ef6cb"
  },
  {
   "metadata": {},
   "cell_type": "code",
   "source": [
    "manager.add_model(\n",
    "    model_id=model_id,\n",
    "    random_seed=random_seed,\n",
    "    data=dataset,\n",
    "    loader=loader_train,\n",
    "    model=model,\n",
    "    trainer=trainer,\n",
    "    tester=tester\n",
    ")"
   ],
   "id": "517eb3691eb16b12",
   "outputs": [],
   "execution_count": null
  },
  {
   "metadata": {},
   "cell_type": "markdown",
   "source": "",
   "id": "ade9f1c1a5771c2b"
  }
 ],
 "metadata": {
  "kernelspec": {
   "display_name": "Python 3",
   "language": "python",
   "name": "python3"
  },
  "language_info": {
   "codemirror_mode": {
    "name": "ipython",
    "version": 2
   },
   "file_extension": ".py",
   "mimetype": "text/x-python",
   "name": "python",
   "nbconvert_exporter": "python",
   "pygments_lexer": "ipython2",
   "version": "2.7.6"
  }
 },
 "nbformat": 4,
 "nbformat_minor": 5
}
