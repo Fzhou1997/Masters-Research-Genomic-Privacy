{
 "cells": [
  {
   "cell_type": "code",
   "execution_count": null,
   "id": "initial_id",
   "metadata": {
    "collapsed": true
   },
   "outputs": [],
   "source": [
    "from datetime import datetime\n",
    "\n",
    "import numpy as np\n",
    "import torch\n",
    "import torch.nn as nn\n",
    "\n",
    "from utils_io import read_bitarrays\n",
    "from utils_attacker_lstm import DatasetAttackerLSTMPool, DataLoaderAttackerLSTM, ModelAttackerConvLSTMLinear, LSTMAttackerTrainer, LSTMAttackerTester\n",
    "from utils_torch import stratified_random_split"
   ]
  },
  {
   "metadata": {},
   "cell_type": "code",
   "outputs": [],
   "execution_count": null,
   "source": [
    "num_snps = 40000\n",
    "genomes_pool = read_bitarrays('../data/test/In_Pop.pkl')[:, :num_snps]\n",
    "genomes_reference = read_bitarrays('../data/test/Not_In_Pop.pkl')[:, :num_snps]\n",
    "genomes = np.concatenate((genomes_pool, genomes_reference), axis=0)"
   ],
   "id": "65721e4bd754923b"
  },
  {
   "metadata": {},
   "cell_type": "code",
   "outputs": [],
   "execution_count": null,
   "source": [
    "labels_beacon = np.ones(genomes_pool.shape[0], dtype=bool)\n",
    "labels_reference = np.zeros(genomes_reference.shape[0], dtype=bool)\n",
    "labels = np.concatenate((labels_beacon, labels_reference), axis=0).astype(bool)"
   ],
   "id": "979c53a339941ed1"
  },
  {
   "metadata": {},
   "cell_type": "code",
   "outputs": [],
   "execution_count": null,
   "source": [
    "frequencies_pool = np.mean(genomes_pool, axis=0)\n",
    "frequencies_reference = np.mean(genomes_reference, axis=0)"
   ],
   "id": "b86c91c5b14c2cde"
  },
  {
   "metadata": {},
   "cell_type": "code",
   "outputs": [],
   "execution_count": null,
   "source": [
    "dataset = DatasetAttackerLSTMPool(\n",
    "    target_genomes=genomes,\n",
    "    pool_frequencies=frequencies_pool,\n",
    "    reference_frequencies=frequencies_reference,\n",
    "    labels=labels)\n",
    "subset_train, subset_eval, subset_test = stratified_random_split(dataset, [0.7, 0.15, 0.15])"
   ],
   "id": "965196a9307863a8"
  },
  {
   "metadata": {},
   "cell_type": "code",
   "outputs": [],
   "execution_count": null,
   "source": [
    "genomes_batch_size, snps_batch_size = 32, 20000\n",
    "loader_train = DataLoaderAttackerLSTM(subset_train, genomes_batch_size, snps_batch_size, shuffle=True)\n",
    "loader_eval = DataLoaderAttackerLSTM(subset_eval, genomes_batch_size, snps_batch_size, shuffle=False)\n",
    "loader_test = DataLoaderAttackerLSTM(subset_test, genomes_batch_size, snps_batch_size, shuffle=False)"
   ],
   "id": "c0fbeb1aaf191895"
  },
  {
   "metadata": {},
   "cell_type": "code",
   "outputs": [],
   "execution_count": null,
   "source": [
    "if torch.backends.mps.is_available():\n",
    "    device = torch.device('mps')\n",
    "elif torch.cuda.is_available():\n",
    "    device = torch.device('cuda')\n",
    "else:\n",
    "    device = torch.device('cpu')"
   ],
   "id": "cb761d0d6c730c8c"
  },
  {
   "metadata": {},
   "cell_type": "code",
   "outputs": [],
   "execution_count": null,
   "source": [
    "model = ModelAttackerConvLSTMLinear(\n",
    "    \n",
    ")"
   ],
   "id": "d504c5624bede5e"
  }
 ],
 "metadata": {
  "kernelspec": {
   "display_name": "Python 3",
   "language": "python",
   "name": "python3"
  },
  "language_info": {
   "codemirror_mode": {
    "name": "ipython",
    "version": 2
   },
   "file_extension": ".py",
   "mimetype": "text/x-python",
   "name": "python",
   "nbconvert_exporter": "python",
   "pygments_lexer": "ipython2",
   "version": "2.7.6"
  }
 },
 "nbformat": 4,
 "nbformat_minor": 5
}
