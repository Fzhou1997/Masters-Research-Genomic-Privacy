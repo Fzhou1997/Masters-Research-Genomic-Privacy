{
 "cells": [
  {
   "metadata": {},
   "cell_type": "markdown",
   "source": [
    "<H1 align=\"center\">Likelihood Ratio Test for Membership Inference Attack on Beacon Data</H1>\n",
    "\n",
    "<br>\n",
    "<strong> This notebook performs likelihood ratio test-based membership inference attacks on Beacon data for multiple sequence lengths. </strong>"
   ],
   "id": "7d23658275fd4c1"
  },
  {
   "metadata": {},
   "cell_type": "markdown",
   "source": "## 1. Importing Required Libraries",
   "id": "cbf7da05cafd33d8"
  },
  {
   "cell_type": "code",
   "id": "initial_id",
   "metadata": {
    "collapsed": true,
    "ExecuteTime": {
     "end_time": "2024-12-06T09:11:46.685162Z",
     "start_time": "2024-12-06T09:11:44.860144Z"
    }
   },
   "source": [
    "import numpy as np\n",
    "from sklearn.metrics import accuracy_score, precision_score, recall_score, f1_score, roc_auc_score, \\\n",
    "    roc_curve\n",
    "\n",
    "from src.utils_attacker_lrt import likelihood_ratio_statistic_beacon_optimized, \\\n",
    "    likelihood_ratio_test_threshold, likelihood_ratio_test\n",
    "from src.utils_io import read_bitarrays\n",
    "from src.utils_plot import plot_likelihood_ratio_statistics, \\\n",
    "    plot_receiver_operating_characteristics_curve, plot_likelihood_ratio_test_hyper_num_snps"
   ],
   "outputs": [],
   "execution_count": 1
  },
  {
   "metadata": {},
   "cell_type": "markdown",
   "source": "## 2. Setting Parameters",
   "id": "8853778f7311cdfc"
  },
  {
   "metadata": {},
   "cell_type": "code",
   "outputs": [],
   "execution_count": null,
   "source": [
    "false_positive_rate = 0.05\n",
    "num_snps_space = [10000, 20000, 30000, 40000, 50000, 60000, 70000, 80000, 90000, 100000]"
   ],
   "id": "5cff18aa80b082ae"
  },
  {
   "metadata": {},
   "cell_type": "markdown",
   "source": "## 3. Setting Environment Variables",
   "id": "fcac815c1426e6ca"
  },
  {
   "metadata": {
    "ExecuteTime": {
     "end_time": "2024-12-06T09:11:46.731988Z",
     "start_time": "2024-12-06T09:11:46.730171Z"
    }
   },
   "cell_type": "code",
   "source": [
    "plot_dir = \"../plots/lrt/beacon/\"\n",
    "plot_name_lrt = \"likelihood_ratio_statistics\"\n",
    "plot_title_lrt = \"Likelihood Ratio Statistics: Beacon\"\n",
    "plot_name_roc = \"roc_curve\"\n",
    "plot_title_roc = \"AUROC: Beacon\""
   ],
   "id": "b553324aff85c7f1",
   "outputs": [],
   "execution_count": 3
  },
  {
   "metadata": {},
   "cell_type": "markdown",
   "source": "## 4. Initializing Evaluation Metrics",
   "id": "41e2615d71b4bde5"
  },
  {
   "metadata": {
    "ExecuteTime": {
     "end_time": "2024-12-06T09:11:46.738547Z",
     "start_time": "2024-12-06T09:11:46.736908Z"
    }
   },
   "cell_type": "code",
   "source": [
    "accuracy_scores = []\n",
    "precision_scores = []\n",
    "recall_scores = []\n",
    "f1_scores = []\n",
    "roc_auc_scores = []"
   ],
   "id": "b226563a884050b8",
   "outputs": [],
   "execution_count": 4
  },
  {
   "metadata": {},
   "cell_type": "markdown",
   "source": "## 5. Performing Likelihood Ratio Test",
   "id": "d458a74006c93cab"
  },
  {
   "metadata": {
    "ExecuteTime": {
     "end_time": "2024-12-06T09:11:54.179742Z",
     "start_time": "2024-12-06T09:11:46.745768Z"
    }
   },
   "cell_type": "code",
   "source": [
    "for num_snps in num_snps_space:\n",
    "    print(\"=\" * 25)\n",
    "    print(f\"Number of SNPs: {num_snps}\")\n",
    "    # Load the data\n",
    "    genomes_beacon = read_bitarrays(\"../data/test/In_Pop.pkl\")[:, :num_snps]\n",
    "    genomes_reference = read_bitarrays(\"../data/test/Not_In_Pop.pkl\")[:, :num_snps]\n",
    "    genomes = np.concatenate((genomes_beacon, genomes_reference), axis=0)\n",
    "    # Compute the labels\n",
    "    labels_beacon = np.ones(genomes_beacon.shape[0], dtype=bool)\n",
    "    labels_reference = np.zeros(genomes_reference.shape[0], dtype=bool)\n",
    "    labels = np.concatenate((labels_beacon, labels_reference), axis=0)\n",
    "    # Compute the beacon responses and reference frequencies\n",
    "    minor_allele_presences_beacon = np.any(genomes_beacon, axis=0)\n",
    "    minor_allele_frequencies_reference = np.mean(genomes, axis=0)\n",
    "    # Compute the likelihood ratio statistics\n",
    "    likelihood_ratio_statistics_beacon = likelihood_ratio_statistic_beacon_optimized(\n",
    "        target_genomes=genomes_beacon,\n",
    "        beacon_presences=minor_allele_presences_beacon,\n",
    "        reference_frequencies=minor_allele_frequencies_reference,\n",
    "        num_beacon_genomes=genomes_beacon.shape[0])\n",
    "    likelihood_ratio_statistics_reference = likelihood_ratio_statistic_beacon_optimized(\n",
    "        target_genomes=genomes_reference,\n",
    "        beacon_presences=minor_allele_presences_beacon,\n",
    "        reference_frequencies=minor_allele_frequencies_reference,\n",
    "        num_beacon_genomes=genomes_beacon.shape[0])\n",
    "    likelihood_ratio_statistics = np.concatenate(\n",
    "        (likelihood_ratio_statistics_beacon, likelihood_ratio_statistics_reference), axis=0)\n",
    "    # Compute the threshold\n",
    "    threshold = likelihood_ratio_test_threshold(\n",
    "        likelihood_ratio_statistics=likelihood_ratio_statistics,\n",
    "        labels=labels,\n",
    "        false_positive_rate=false_positive_rate)\n",
    "    # Plot the likelihood ratio statistics\n",
    "    plot_likelihood_ratio_statistics(likelihood_ratio_statistics=likelihood_ratio_statistics,\n",
    "                                     membership_labels=labels,\n",
    "                                     threshold=threshold,\n",
    "                                     title=plot_title_lrt,\n",
    "                                     output_file=f\"{plot_dir}{plot_name_lrt}_{num_snps}.png\",\n",
    "                                     show=False)\n",
    "    # Perform the likelihood ratio test\n",
    "    inverted = np.mean(likelihood_ratio_statistics_beacon) < np.mean(\n",
    "        likelihood_ratio_statistics_reference)\n",
    "    predicted = likelihood_ratio_test(likelihood_ratio_statistics=likelihood_ratio_statistics,\n",
    "                                      threshold=threshold,\n",
    "                                      inverted=inverted)\n",
    "    # Compute the evaluation metrics\n",
    "    accuracy = accuracy_score(labels, predicted)\n",
    "    precision = precision_score(labels, predicted)\n",
    "    recall = recall_score(labels, predicted)\n",
    "    f1 = f1_score(labels, predicted)\n",
    "    roc_auc = roc_auc_score(labels, 1 - likelihood_ratio_statistics)\n",
    "    # Print the evaluation metrics\n",
    "    print(f\"Accuracy: {accuracy:.2f}\")\n",
    "    print(f\"Precision: {precision:.2f}\")\n",
    "    print(f\"Recall: {recall:.2f}\")\n",
    "    print(f\"F1: {f1:.2f}\")\n",
    "    print(f\"AUROC: {roc_auc:.2f}\")\n",
    "    # Append the evaluation metrics\n",
    "    accuracy_scores.append(accuracy)\n",
    "    precision_scores.append(precision)\n",
    "    recall_scores.append(recall)\n",
    "    f1_scores.append(f1)\n",
    "    roc_auc_scores.append(roc_auc)\n",
    "    # Plot the ROC curve\n",
    "    fpr, tpr, _ = roc_curve(labels, 1 - likelihood_ratio_statistics)\n",
    "    plot_receiver_operating_characteristics_curve(true_positive_rates=tpr,\n",
    "                                                  false_positive_rates=fpr,\n",
    "                                                  auc=roc_auc,\n",
    "                                                  title=plot_title_roc,\n",
    "                                                  output_file=f\"{plot_dir}{plot_name_roc}_{num_snps}.png\",\n",
    "                                                  show=False)"
   ],
   "id": "19c964713221f9f2",
   "outputs": [
    {
     "name": "stdout",
     "output_type": "stream",
     "text": [
      "=========================\n",
      "Number of SNPs: 10000\n",
      "Accuracy: 0.59\n",
      "Precision: 0.83\n",
      "Recall: 0.24\n",
      "F1: 0.37\n",
      "ROC AUC: 0.78\n",
      "=========================\n",
      "Number of SNPs: 20000\n",
      "Accuracy: 0.65\n",
      "Precision: 0.88\n",
      "Recall: 0.35\n",
      "F1: 0.50\n",
      "ROC AUC: 0.87\n",
      "=========================\n",
      "Number of SNPs: 30000\n",
      "Accuracy: 0.72\n",
      "Precision: 0.91\n",
      "Recall: 0.49\n",
      "F1: 0.64\n",
      "ROC AUC: 0.94\n",
      "=========================\n",
      "Number of SNPs: 40000\n",
      "Accuracy: 0.89\n",
      "Precision: 0.94\n",
      "Recall: 0.82\n",
      "F1: 0.88\n",
      "ROC AUC: 0.97\n",
      "=========================\n",
      "Number of SNPs: 50000\n",
      "Accuracy: 0.95\n",
      "Precision: 0.95\n",
      "Recall: 0.95\n",
      "F1: 0.95\n",
      "ROC AUC: 0.98\n",
      "=========================\n",
      "Number of SNPs: 60000\n",
      "Accuracy: 0.97\n",
      "Precision: 0.95\n",
      "Recall: 1.00\n",
      "F1: 0.97\n",
      "ROC AUC: 0.99\n",
      "=========================\n",
      "Number of SNPs: 70000\n",
      "Accuracy: 0.97\n",
      "Precision: 0.95\n",
      "Recall: 1.00\n",
      "F1: 0.98\n",
      "ROC AUC: 0.99\n",
      "=========================\n",
      "Number of SNPs: 80000\n",
      "Accuracy: 0.97\n",
      "Precision: 0.95\n",
      "Recall: 1.00\n",
      "F1: 0.98\n",
      "ROC AUC: 1.00\n",
      "=========================\n",
      "Number of SNPs: 90000\n",
      "Accuracy: 0.97\n",
      "Precision: 0.95\n",
      "Recall: 1.00\n",
      "F1: 0.98\n",
      "ROC AUC: 1.00\n",
      "=========================\n",
      "Number of SNPs: 100000\n",
      "Accuracy: 0.97\n",
      "Precision: 0.95\n",
      "Recall: 1.00\n",
      "F1: 0.98\n",
      "ROC AUC: 1.00\n"
     ]
    }
   ],
   "execution_count": 5
  },
  {
   "metadata": {},
   "cell_type": "markdown",
   "source": "## 6. Plotting the Evaluation Metrics",
   "id": "eaf28173edc36819"
  },
  {
   "metadata": {
    "ExecuteTime": {
     "end_time": "2024-12-06T09:11:54.298434Z",
     "start_time": "2024-12-06T09:11:54.188048Z"
    }
   },
   "cell_type": "code",
   "source": [
    "# Plot the evaluation metrics\n",
    "plot_likelihood_ratio_test_hyper_num_snps(num_snps=num_snps_space,\n",
    "                                          acc=accuracy_scores,\n",
    "                                          prec=precision_scores,\n",
    "                                          rec=recall_scores,\n",
    "                                          f1=f1_scores,\n",
    "                                          roc_auc=roc_auc_scores,\n",
    "                                          title=\"LRT Metrics By Sequence Length\",\n",
    "                                          output_file=f\"{plot_dir}lrt_metrics_by_num_snps.png\",\n",
    "                                          show=True)"
   ],
   "id": "af20ab3d58759405",
   "outputs": [
    {
     "data": {
      "text/plain": [
       "<Figure size 600x600 with 1 Axes>"
      ],
      "image/png": "[encoded data removed]"
     },
     "metadata": {},
     "output_type": "display_data"
    }
   ],
   "execution_count": 6
  },
  {
   "metadata": {
    "ExecuteTime": {
     "end_time": "2024-12-06T09:11:54.319197Z",
     "start_time": "2024-12-06T09:11:54.317605Z"
    }
   },
   "cell_type": "code",
   "source": "",
   "id": "8fb1883504ee9003",
   "outputs": [],
   "execution_count": null
  }
 ],
 "metadata": {
  "kernelspec": {
   "display_name": "Python 3",
   "language": "python",
   "name": "python3"
  },
  "language_info": {
   "codemirror_mode": {
    "name": "ipython",
    "version": 2
   },
   "file_extension": ".py",
   "mimetype": "text/x-python",
   "name": "python",
   "nbconvert_exporter": "python",
   "pygments_lexer": "ipython2",
   "version": "2.7.6"
  }
 },
 "nbformat": 4,
 "nbformat_minor": 5
}
