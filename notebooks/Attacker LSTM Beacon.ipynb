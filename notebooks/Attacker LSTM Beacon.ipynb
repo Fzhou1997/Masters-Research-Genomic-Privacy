{
 "cells": [
  {
   "cell_type": "code",
   "id": "initial_id",
   "metadata": {
    "collapsed": true,
    "ExecuteTime": {
     "end_time": "2024-10-14T05:45:32.022057Z",
     "start_time": "2024-10-14T05:45:23.894496Z"
    }
   },
   "source": [
    "from datetime import datetime\n",
    "\n",
    "import numpy as np\n",
    "import torch\n",
    "import torch.nn as nn\n",
    "from torch.optim.lr_scheduler import StepLR\n",
    "\n",
    "from utils_io import read_bitarrays\n",
    "from utils_classification import BeaconAttackerDataset, LSTMAttackerDataLoader, LSTMAttacker, LSTMAttackerTrainer, LSTMAttackerTester, stratified_random_split"
   ],
   "outputs": [
    {
     "ename": "ImportError",
     "evalue": "cannot import name 'BeaconAttacker' from 'utils_classification' (D:\\Education\\NEU\\CS7990 - Thesis\\Projects\\Genomic Privacy\\utils_classification\\__init__.py)",
     "output_type": "error",
     "traceback": [
      "\u001B[1;31m---------------------------------------------------------------------------\u001B[0m",
      "\u001B[1;31mImportError\u001B[0m                               Traceback (most recent call last)",
      "Cell \u001B[1;32mIn[1], line 10\u001B[0m\n\u001B[0;32m      7\u001B[0m \u001B[38;5;28;01mfrom\u001B[39;00m \u001B[38;5;21;01mtorch\u001B[39;00m\u001B[38;5;21;01m.\u001B[39;00m\u001B[38;5;21;01mutils\u001B[39;00m\u001B[38;5;21;01m.\u001B[39;00m\u001B[38;5;21;01mdata\u001B[39;00m \u001B[38;5;28;01mimport\u001B[39;00m DataLoader, random_split\n\u001B[0;32m      9\u001B[0m \u001B[38;5;28;01mfrom\u001B[39;00m \u001B[38;5;21;01mutils_io\u001B[39;00m \u001B[38;5;28;01mimport\u001B[39;00m read_bitarrays\n\u001B[1;32m---> 10\u001B[0m \u001B[38;5;28;01mfrom\u001B[39;00m \u001B[38;5;21;01mutils_classification\u001B[39;00m \u001B[38;5;28;01mimport\u001B[39;00m BeaconAttacker\n",
      "\u001B[1;31mImportError\u001B[0m: cannot import name 'BeaconAttacker' from 'utils_classification' (D:\\Education\\NEU\\CS7990 - Thesis\\Projects\\Genomic Privacy\\utils_classification\\__init__.py)"
     ]
    }
   ],
   "execution_count": 1
  },
  {
   "metadata": {},
   "cell_type": "code",
   "outputs": [],
   "execution_count": null,
   "source": [
    "num_snps = 40000\n",
    "genomes_beacon = read_bitarrays('../data/test/In_Pop.pkl')[:, :num_snps]\n",
    "genomes_reference = read_bitarrays('../data/test/Not_In_Pop.pkl')[:, :num_snps]\n",
    "genomes = np.concatenate((genomes_beacon, genomes_reference), axis=0)"
   ],
   "id": "7545051afabd4f9f"
  },
  {
   "metadata": {},
   "cell_type": "code",
   "outputs": [],
   "execution_count": null,
   "source": [
    "labels_beacon = np.ones(genomes_beacon.shape[0], dtype=bool)\n",
    "labels_reference = np.zeros(genomes_reference.shape[0], dtype=bool)\n",
    "labels = np.concatenate((labels_beacon, labels_reference), axis=0).astype(bool)"
   ],
   "id": "f4d3a9507db79549"
  },
  {
   "metadata": {},
   "cell_type": "code",
   "outputs": [],
   "execution_count": null,
   "source": [
    "presences_beacon = np.any(genomes_beacon, axis=0).astype(bool)\n",
    "frequencies_reference = np.mean(genomes, axis=0)"
   ],
   "id": "a70d93b7565990e8"
  },
  {
   "metadata": {},
   "cell_type": "code",
   "outputs": [],
   "execution_count": null,
   "source": [
    "dataset = BeaconAttackerDataset(\n",
    "    target_genomes=genomes,\n",
    "    beacon_presences=presences_beacon,\n",
    "    reference_frequencies=frequencies_reference,\n",
    "    labels=labels)\n",
    "subset_train, subset_eval, subset_test = stratified_random_split(dataset, [0.7, 0.15, 0.15])"
   ],
   "id": "b75b78c858de11f3"
  },
  {
   "metadata": {},
   "cell_type": "code",
   "outputs": [],
   "execution_count": null,
   "source": [
    "genomes_batch_size, snps_batch_size = 32, 10000\n",
    "loader_train = LSTMAttackerDataLoader(subset_train, genomes_batch_size, snps_batch_size, shuffle=True)\n",
    "loader_eval = LSTMAttackerDataLoader(subset_eval, genomes_batch_size, snps_batch_size, shuffle=False)\n",
    "loader_test = LSTMAttackerDataLoader(subset_test, genomes_batch_size, snps_batch_size, shuffle=False)"
   ],
   "id": "c13e3d9f7468d04e"
  },
  {
   "metadata": {},
   "cell_type": "code",
   "outputs": [],
   "execution_count": null,
   "source": [
    "if torch.backends.mps.is_available():\n",
    "    device = torch.device('mps')\n",
    "elif torch.cuda.is_available():\n",
    "    device = torch.device('cuda')\n",
    "else:\n",
    "    device = torch.device('cpu')"
   ],
   "id": "83c5f5f6066f1faf"
  },
  {
   "metadata": {},
   "cell_type": "code",
   "outputs": [],
   "execution_count": null,
   "source": [
    "model = LSTMAttacker(input_size=3, hidden_size=64, num_layers=1, bidirectional=False, dropout=0.5)\n",
    "model.to(device)"
   ],
   "id": "20be430fbcf1f801"
  },
  {
   "metadata": {},
   "cell_type": "code",
   "outputs": [],
   "execution_count": null,
   "source": [
    "criterion = nn.BCEWithLogitsLoss()\n",
    "optimizer = torch.optim.Adam(model.parameters(), lr=1e-3)\n",
    "scheduler = StepLR(optimizer, step_size=1, gamma=0.9) "
   ],
   "id": "50bf06c5c1961c60"
  },
  {
   "metadata": {},
   "cell_type": "code",
   "outputs": [],
   "execution_count": null,
   "source": "trainer = LSTMAttackerTrainer(model, criterion, optimizer, scheduler, loader_train, loader_eval, device)",
   "id": "3e15faf8e6649141"
  },
  {
   "metadata": {},
   "cell_type": "code",
   "outputs": [],
   "execution_count": null,
   "source": "losses_train, accuracies_train, losses_eval, accuracies_eval = trainer.train(num_epochs=256, verbose=True)",
   "id": "996aeab3badb0df6"
  },
  {
   "metadata": {},
   "cell_type": "code",
   "outputs": [],
   "execution_count": null,
   "source": [
    "model.save(\"../models\", f\"beacon_lstm_attacker_{datetime.now().strftime('%Y%m%d%H%M%S')}\")\n",
    "# model.load(\"../models\", \"beacon_lstm_attacker_20210919123456\")"
   ],
   "id": "7945ba4e9707e67b"
  },
  {
   "metadata": {},
   "cell_type": "code",
   "outputs": [],
   "execution_count": null,
   "source": "tester = LSTMAttackerTester(model, criterion, loader_test, device)",
   "id": "7707b7d4b9b16d1c"
  },
  {
   "metadata": {},
   "cell_type": "code",
   "outputs": [],
   "execution_count": null,
   "source": [
    "loss, accuracy, precision, recall, f1, auroc, cm = tester.test()\n",
    "print(f\"Loss: {loss:.4f}\")"
   ],
   "id": "9db6fbd2a64a94f1"
  },
  {
   "metadata": {},
   "cell_type": "code",
   "outputs": [],
   "execution_count": null,
   "source": "chance = np.mean(subset_test.targets)\n",
   "id": "7f8e53c34ffa225"
  }
 ],
 "metadata": {
  "kernelspec": {
   "display_name": "Python 3",
   "language": "python",
   "name": "python3"
  },
  "language_info": {
   "codemirror_mode": {
    "name": "ipython",
    "version": 2
   },
   "file_extension": ".py",
   "mimetype": "text/x-python",
   "name": "python",
   "nbconvert_exporter": "python",
   "pygments_lexer": "ipython2",
   "version": "2.7.6"
  }
 },
 "nbformat": 4,
 "nbformat_minor": 5
}
