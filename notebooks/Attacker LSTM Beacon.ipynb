{
 "cells": [
  {
   "metadata": {},
   "cell_type": "markdown",
   "source": [
    "<H1 align=\"center\">Long Short-Term Memory for Membership Inference Attack on Beacon Data</H1>\n",
    "\n",
    "<br>\n",
    "<strong>This notebook performs a long short-term memory membership inference attack on the beacon data with set hyperparameters.</strong>"
   ],
   "id": "39d11d630a239922"
  },
  {
   "metadata": {},
   "cell_type": "markdown",
   "source": "## Import Libraries",
   "id": "3bd5c4dbbb1f6ce8"
  },
  {
   "metadata": {},
   "cell_type": "markdown",
   "source": "### Python Libraries ",
   "id": "367f0c8b9244b92b"
  },
  {
   "metadata": {},
   "cell_type": "code",
   "source": "from datetime import datetime",
   "id": "a86a97881e7e1ae",
   "outputs": [],
   "execution_count": null
  },
  {
   "metadata": {},
   "cell_type": "markdown",
   "source": "### External Libraries",
   "id": "217916fbbb1654cf"
  },
  {
   "metadata": {},
   "cell_type": "code",
   "source": [
    "import torch\n",
    "import torch.nn as nn"
   ],
   "id": "f628140d1150ed81",
   "outputs": [],
   "execution_count": null
  },
  {
   "metadata": {},
   "cell_type": "markdown",
   "source": "### Custom Libraries",
   "id": "a02ce83c6b3d8dbb"
  },
  {
   "cell_type": "code",
   "id": "initial_id",
   "metadata": {
    "collapsed": true
   },
   "source": [
    "from src.utils_random import set_random_seed\n",
    "from src.utils_torch.data import stratified_random_split\n",
    "from src.utils_attacker_lstm.data import DatasetAttackerLSTMBeacon, DataLoaderAttackerLSTM\n",
    "from src.utils_attacker_lstm.models import ModelAttackerLSTM, TesterAttackerLSTM, TrainerAttackerLSTM, \\\n",
    "    ManagerAttackerLSTM\n",
    "from src.utils_plot import plot_train_eval_loss_accuracy, plot_receiver_operating_characteristics_curve, \\\n",
    "    plot_confusion_matrix, plot_long_short_term_memory"
   ],
   "outputs": [],
   "execution_count": null
  },
  {
   "metadata": {},
   "cell_type": "markdown",
   "source": "## Set Parameters",
   "id": "e7aa83aa959b4185"
  },
  {
   "metadata": {},
   "cell_type": "markdown",
   "source": "### Model Id",
   "id": "f535f15dca1d2ed1"
  },
  {
   "metadata": {},
   "cell_type": "code",
   "source": "model_id = \"999999\"",
   "id": "331b1b1eadafe66c",
   "outputs": [],
   "execution_count": null
  },
  {
   "metadata": {},
   "cell_type": "code",
   "source": "random_seed = 42",
   "id": "b97f3f15d8646578",
   "outputs": [],
   "execution_count": null
  },
  {
   "metadata": {},
   "cell_type": "markdown",
   "source": "### Data Params",
   "id": "dddd222b2efdde3f"
  },
  {
   "metadata": {},
   "cell_type": "code",
   "source": [
    "num_snps = 40000\n",
    "train_eval_test_split = [0.7, 0.15, 0.15]"
   ],
   "id": "7545051afabd4f9f",
   "outputs": [],
   "execution_count": null
  },
  {
   "metadata": {},
   "cell_type": "markdown",
   "source": "### Loader Params",
   "id": "753f41f44abb7845"
  },
  {
   "metadata": {},
   "cell_type": "code",
   "source": [
    "genome_batch_size = 32\n",
    "snp_batch_size = 80000"
   ],
   "id": "f4d3a9507db79549",
   "outputs": [],
   "execution_count": null
  },
  {
   "metadata": {},
   "cell_type": "markdown",
   "source": "### Model Params",
   "id": "2436118b48c4bfa5"
  },
  {
   "metadata": {},
   "cell_type": "markdown",
   "source": "#### Conv1d Params",
   "id": "c4168542a8fd3ed0"
  },
  {
   "metadata": {},
   "cell_type": "code",
   "source": [
    "conv_num_layers = 3\n",
    "conv_channel_size = [3, 16, 32, 16]\n",
    "conv_kernel_size = [20, 10, 10]\n",
    "conv_stride = [2, 2, 2]\n",
    "conv_dilation = [1, 1, 1]\n",
    "conv_groups = [1, 1, 1]\n",
    "\n",
    "conv_activation = [nn.ReLU, nn.ReLU]\n",
    "conv_activation_kwargs = [{}, {}]\n",
    "\n",
    "conv_dropout_p = [0.5, 0.5]\n",
    "conv_dropout_first = [True, True]\n",
    "\n",
    "conv_batch_norm = [True, True]\n",
    "conv_batch_norm_momentum = [0.1, 0.1]"
   ],
   "id": "a70d93b7565990e8",
   "outputs": [],
   "execution_count": null
  },
  {
   "metadata": {},
   "cell_type": "markdown",
   "source": "#### Conv1d to LSTM Params",
   "id": "93549b33882a1598"
  },
  {
   "metadata": {},
   "cell_type": "code",
   "source": [
    "conv_lstm_activation = nn.ReLU\n",
    "conv_lstm_activation_kwargs = {}\n",
    "conv_lstm_dropout_p = 0.5\n",
    "conv_lstm_dropout_first = True\n",
    "conv_lstm_layer_norm = True"
   ],
   "id": "8cd4041332942668",
   "outputs": [],
   "execution_count": null
  },
  {
   "metadata": {},
   "cell_type": "markdown",
   "source": "#### LSTM Params",
   "id": "609689c42f1b495b"
  },
  {
   "metadata": {},
   "cell_type": "code",
   "source": [
    "lstm_num_layers = 1\n",
    "lstm_input_size = 16\n",
    "lstm_hidden_size = [32]\n",
    "lstm_proj_size = [0]\n",
    "lstm_bidirectional = [True]\n",
    "\n",
    "lstm_dropout_p = []\n",
    "lstm_dropout_first = []\n",
    "\n",
    "lstm_layer_norm = []"
   ],
   "id": "cdac7e0522f85225",
   "outputs": [],
   "execution_count": null
  },
  {
   "metadata": {},
   "cell_type": "markdown",
   "source": "#### LSTM to Linear Params",
   "id": "8888fa525eee093"
  },
  {
   "metadata": {},
   "cell_type": "code",
   "source": [
    "lstm_linear_dropout_p = 0.5\n",
    "lstm_linear_dropout_first = True\n",
    "\n",
    "lstm_linear_batch_norm = True\n",
    "lstm_linear_batch_norm_momentum = 0.1"
   ],
   "id": "eb2620b23e5929cb",
   "outputs": [],
   "execution_count": null
  },
  {
   "metadata": {},
   "cell_type": "markdown",
   "source": "#### Linear Params",
   "id": "6f88f2556a50adeb"
  },
  {
   "metadata": {},
   "cell_type": "code",
   "source": [
    "linear_num_layers = 1\n",
    "linear_num_features = [64, 1]\n",
    "\n",
    "linear_activation = []\n",
    "linear_activation_kwargs = []\n",
    "\n",
    "linear_dropout_p = []\n",
    "linear_dropout_first = []\n",
    "\n",
    "linear_batch_norm = []\n",
    "linear_batch_norm_momentum = []"
   ],
   "id": "7613ca506ad3e5a",
   "outputs": [],
   "execution_count": null
  },
  {
   "metadata": {},
   "cell_type": "markdown",
   "source": "### Trainer Params",
   "id": "d0dba9cfa325977d"
  },
  {
   "metadata": {},
   "cell_type": "code",
   "source": [
    "num_epochs = 256\n",
    "learning_rate = 0.001"
   ],
   "id": "1702667d150c4441",
   "outputs": [],
   "execution_count": null
  },
  {
   "metadata": {},
   "cell_type": "markdown",
   "source": "### IO Params",
   "id": "12e4718a1c213226"
  },
  {
   "metadata": {},
   "cell_type": "code",
   "source": [
    "models_dir = \"../models\"\n",
    "models_file = \"models.csv\"\n",
    "plots_dir = \"../plots\""
   ],
   "id": "5811fe1f2ddb50b1",
   "outputs": [],
   "execution_count": null
  },
  {
   "metadata": {},
   "cell_type": "markdown",
   "source": "## Set Torch Device",
   "id": "e7b2c1f6144cb73"
  },
  {
   "metadata": {},
   "cell_type": "code",
   "source": [
    "if torch.backends.mps.is_available():\n",
    "    device = torch.device('mps')\n",
    "elif torch.cuda.is_available():\n",
    "    device = torch.device('cuda')\n",
    "else:\n",
    "    device = torch.device('cpu')"
   ],
   "id": "a4266e5e403c7b5b",
   "outputs": [],
   "execution_count": null
  },
  {
   "metadata": {},
   "cell_type": "markdown",
   "source": "## Set Random Seed",
   "id": "3c8b4b7178e83f3b"
  },
  {
   "metadata": {},
   "cell_type": "code",
   "source": "set_random_seed(random_seed)",
   "id": "f7c6a9c497fdd4e8",
   "outputs": [],
   "execution_count": null
  },
  {
   "metadata": {},
   "cell_type": "markdown",
   "source": "## Create Dataset",
   "id": "7ce61913afe12109"
  },
  {
   "metadata": {},
   "cell_type": "code",
   "source": [
    "dataset = DatasetAttackerLSTMBeacon(genomes_beacon_path='../data/test/In_Pop.pkl',\n",
    "                                    genomes_reference_path='../data/test/Not_In_Pop.pkl',\n",
    "                                    num_snps=num_snps)\n",
    "subset_train, subset_eval, subset_test = stratified_random_split(dataset, train_eval_test_split)"
   ],
   "id": "b75b78c858de11f3",
   "outputs": [],
   "execution_count": null
  },
  {
   "metadata": {},
   "cell_type": "markdown",
   "source": "## Create Data Loaders",
   "id": "5f7a1aa2f0591937"
  },
  {
   "metadata": {},
   "cell_type": "code",
   "source": [
    "dataloader_train = DataLoaderAttackerLSTM(dataset=subset_train,\n",
    "                                          genome_batch_size=genome_batch_size,\n",
    "                                          snp_batch_size=snp_batch_size,\n",
    "                                          shuffle=True)\n",
    "dataloader_eval = DataLoaderAttackerLSTM(dataset=subset_eval,\n",
    "                                         genome_batch_size=genome_batch_size,\n",
    "                                         snp_batch_size=snp_batch_size,\n",
    "                                         shuffle=False)\n",
    "dataloader_test = DataLoaderAttackerLSTM(dataset=subset_test,\n",
    "                                         genome_batch_size=genome_batch_size,\n",
    "                                         snp_batch_size=snp_batch_size,\n",
    "                                         shuffle=False)"
   ],
   "id": "c13e3d9f7468d04e",
   "outputs": [],
   "execution_count": null
  },
  {
   "metadata": {},
   "cell_type": "markdown",
   "source": "## Create Model",
   "id": "3d2b6c048dd2d5a5"
  },
  {
   "metadata": {},
   "cell_type": "code",
   "source": [
    "model = ModelAttackerLSTM(conv_num_layers=conv_num_layers,\n",
    "                          conv_channel_size=conv_channel_size,\n",
    "                          conv_kernel_size=conv_kernel_size,\n",
    "                          conv_stride=conv_stride,\n",
    "                          conv_dilation=conv_dilation,\n",
    "                          conv_groups=conv_groups,\n",
    "                          conv_activation=conv_activation,\n",
    "                          conv_activation_kwargs=conv_activation_kwargs,\n",
    "                          conv_dropout_p=conv_dropout_p,\n",
    "                          conv_dropout_first=conv_dropout_first,\n",
    "                          conv_batch_norm=conv_batch_norm,\n",
    "                          conv_batch_norm_momentum=conv_batch_norm_momentum,\n",
    "                          conv_lstm_activation=conv_lstm_activation,\n",
    "                          conv_lstm_activation_kwargs=conv_lstm_activation_kwargs,\n",
    "                          conv_lstm_dropout_p=conv_lstm_dropout_p,\n",
    "                          conv_lstm_dropout_first=conv_lstm_dropout_first,\n",
    "                          conv_lstm_layer_norm=conv_lstm_layer_norm,\n",
    "                          lstm_num_layers=lstm_num_layers,\n",
    "                          lstm_input_size=lstm_input_size,\n",
    "                          lstm_hidden_size=lstm_hidden_size,\n",
    "                          lstm_proj_size=lstm_proj_size,\n",
    "                          lstm_bidirectional=lstm_bidirectional,\n",
    "                          lstm_dropout_p=lstm_dropout_p,\n",
    "                          lstm_dropout_first=lstm_dropout_first,\n",
    "                          lstm_layer_norm=lstm_layer_norm,\n",
    "                          lstm_linear_dropout_p=lstm_linear_dropout_p,\n",
    "                          lstm_linear_dropout_first=lstm_linear_dropout_first,\n",
    "                          lstm_linear_batch_norm=lstm_linear_batch_norm,\n",
    "                          lstm_linear_batch_norm_momentum=lstm_linear_batch_norm_momentum,\n",
    "                          linear_num_layers=linear_num_layers,\n",
    "                          linear_num_features=linear_num_features,\n",
    "                          linear_activation=linear_activation,\n",
    "                          linear_activation_kwargs=linear_activation_kwargs,\n",
    "                          linear_dropout_p=linear_dropout_p,\n",
    "                          linear_dropout_first=linear_dropout_first,\n",
    "                          linear_batch_norm=linear_batch_norm,\n",
    "                          linear_batch_norm_momentum=linear_batch_norm_momentum)\n",
    "model.to(device)"
   ],
   "id": "20be430fbcf1f801",
   "outputs": [],
   "execution_count": null
  },
  {
   "metadata": {},
   "cell_type": "markdown",
   "source": "## Create Trainer",
   "id": "2372ab10ff5e9875"
  },
  {
   "metadata": {},
   "cell_type": "markdown",
   "source": "### Create Criterion and Optimizer",
   "id": "4511918df6ae35a3"
  },
  {
   "metadata": {},
   "cell_type": "code",
   "source": [
    "criterion = nn.BCEWithLogitsLoss()\n",
    "optimizer = torch.optim.Adam(params=model.parameters(),\n",
    "                             lr=learning_rate)\n",
    "scheduler = None"
   ],
   "id": "50bf06c5c1961c60",
   "outputs": [],
   "execution_count": null
  },
  {
   "metadata": {},
   "cell_type": "markdown",
   "source": "### Create Trainer",
   "id": "61613f245c2593cf"
  },
  {
   "metadata": {},
   "cell_type": "code",
   "source": [
    "trainer = TrainerAttackerLSTM(model=model,\n",
    "                              criterion=criterion,\n",
    "                              optimizer=optimizer,\n",
    "                              scheduler=scheduler,\n",
    "                              train_loader=dataloader_train,\n",
    "                              eval_loader=dataloader_eval,\n",
    "                              device=device,\n",
    "                              max_grad_norm=1.0,\n",
    "                              norm_type=2)"
   ],
   "id": "3e15faf8e6649141",
   "outputs": [],
   "execution_count": null
  },
  {
   "metadata": {},
   "cell_type": "markdown",
   "source": "## Create Tester",
   "id": "c8c343c3904836d8"
  },
  {
   "metadata": {},
   "cell_type": "code",
   "source": [
    "tester = TesterAttackerLSTM(model=model,\n",
    "                            criterion=criterion,\n",
    "                            test_loader=dataloader_test,\n",
    "                            device=device)"
   ],
   "id": "3ad17c701eec6b54",
   "outputs": [],
   "execution_count": null
  },
  {
   "metadata": {},
   "cell_type": "markdown",
   "source": "## Create Manager",
   "id": "596a1c9f7b109c63"
  },
  {
   "metadata": {},
   "cell_type": "code",
   "source": [
    "manager = ManagerAttackerLSTM(models_dir=models_dir,\n",
    "                              models_file=models_file)"
   ],
   "id": "7059e433562148f8",
   "outputs": [],
   "execution_count": null
  },
  {
   "metadata": {},
   "cell_type": "markdown",
   "source": "## Train Model",
   "id": "a24630fa58c781bc"
  },
  {
   "metadata": {},
   "cell_type": "markdown",
   "source": "### Train Model",
   "id": "ff367b69fe0c7936"
  },
  {
   "metadata": {},
   "cell_type": "code",
   "source": "trainer.train(num_epochs=256, verbose=True)",
   "id": "996aeab3badb0df6",
   "outputs": [],
   "execution_count": null
  },
  {
   "metadata": {},
   "cell_type": "markdown",
   "source": "",
   "id": "690d69fc7292d3f2"
  },
  {
   "metadata": {},
   "cell_type": "markdown",
   "source": "### Print Metrics",
   "id": "7f37f36e9ba8833a"
  },
  {
   "metadata": {},
   "cell_type": "code",
   "source": [
    "finish_time = datetime.now()\n",
    "best_eval_loss_epoch = trainer.best_eval_loss_epoch\n",
    "best_eval_loss = trainer.best_eval_loss\n",
    "best_eval_accuracy = trainer.eval_accuracies[best_eval_loss_epoch]\n",
    "\n",
    "print(f'Finished training at {finish_time}')\n",
    "print(f'Best evaluation loss epoch found at: {best_eval_loss_epoch}')\n",
    "print(f'Best evaluation loss found: {best_eval_loss:.4f}')\n",
    "print(f'Best evaluation accuracy found: {best_eval_accuracy:.4f}')"
   ],
   "id": "1603c3bec9b19ab8",
   "outputs": [],
   "execution_count": null
  },
  {
   "metadata": {},
   "cell_type": "markdown",
   "source": "### Plot Metrics",
   "id": "aa0213b0df160b1c"
  },
  {
   "metadata": {},
   "cell_type": "code",
   "source": [
    "plot_train_eval_loss_accuracy(train_loss=trainer.train_losses,\n",
    "                              train_accuracy=trainer.train_accuracies,\n",
    "                              eval_loss=trainer.eval_losses,\n",
    "                              eval_accuracy=trainer.eval_accuracies,\n",
    "                              saved_epoch=best_eval_loss_epoch,\n",
    "                              output_path=plots_dir,\n",
    "                              output_file=f\"model_attacker_beacon_{model_id}_train_eval_loss_acc.png\")"
   ],
   "id": "629719ca09d53660",
   "outputs": [],
   "execution_count": null
  },
  {
   "metadata": {},
   "cell_type": "markdown",
   "source": "## Test Model",
   "id": "d2c995a0b44f95f5"
  },
  {
   "metadata": {},
   "cell_type": "markdown",
   "source": "### Test Model",
   "id": "27058d092b7a3d56"
  },
  {
   "metadata": {},
   "cell_type": "code",
   "source": "tester.test()",
   "id": "f2062b3c5a0e3a7c",
   "outputs": [],
   "execution_count": null
  },
  {
   "metadata": {},
   "cell_type": "markdown",
   "source": "### Print Metrics",
   "id": "91516be64b39af49"
  },
  {
   "metadata": {},
   "cell_type": "code",
   "source": [
    "print(f'Test loss: {tester.loss:.4f}')\n",
    "print(f'Test accuracy: {tester.accuracy_score:.2f}')\n",
    "print(f'Test precision: {tester.precision_score:.2f}')\n",
    "print(f'Test recall: {tester.recall_score:.2f}')\n",
    "print(f'Test f1: {tester.f1_score:.2f}')\n",
    "print(f'Test AUC: {tester.auroc_score:.2f}')"
   ],
   "id": "9fd368b875fcaf1b",
   "outputs": [],
   "execution_count": null
  },
  {
   "metadata": {},
   "cell_type": "markdown",
   "source": "### Plot ROC Curve",
   "id": "c65586e48210b2d6"
  },
  {
   "metadata": {},
   "cell_type": "code",
   "source": [
    "fpr, tpr, _ = tester.roc_curve\n",
    "plot_receiver_operating_characteristics_curve(false_positive_rates=fpr,\n",
    "                                              true_positive_rates=tpr,\n",
    "                                              auc=tester.auroc_score,\n",
    "                                              output_path=plots_dir,\n",
    "                                              output_file=f\"model_attacker_beacon_{model_id}_roc_curve.png\")"
   ],
   "id": "2f2f9ee0e28a26d2",
   "outputs": [],
   "execution_count": null
  },
  {
   "metadata": {},
   "cell_type": "markdown",
   "source": "### Plot Confusion Matrix",
   "id": "bc14e596a02d383e"
  },
  {
   "metadata": {},
   "cell_type": "code",
   "source": [
    "plot_confusion_matrix(confusion_matrix=tester.confusion_matrix_scores,\n",
    "                      task=\"binary\",\n",
    "                      output_path=plots_dir,\n",
    "                      output_file=f\"model_attacker_beacon_{model_id}_confusion_matrix.png\")"
   ],
   "id": "919045fc8203f420",
   "outputs": [],
   "execution_count": null
  },
  {
   "metadata": {},
   "cell_type": "markdown",
   "source": "## Save Model",
   "id": "20faa900e68ae524"
  },
  {
   "metadata": {},
   "cell_type": "code",
   "source": [
    "manager.add_model(model_id=model_id,\n",
    "                  random_seed=random_seed,\n",
    "                  data=dataset,\n",
    "                  loader=dataloader_train,\n",
    "                  model=model,\n",
    "                  trainer=trainer,\n",
    "                  tester=tester)"
   ],
   "id": "7945ba4e9707e67b",
   "outputs": [],
   "execution_count": null
  },
  {
   "metadata": {},
   "cell_type": "markdown",
   "source": "## Plot Memory",
   "id": "8d8c72505e345710"
  },
  {
   "metadata": {},
   "cell_type": "code",
   "source": [
    "model.set_hidden_cell_mode(True)\n",
    "model.eval()\n",
    "with torch.no_grad():\n",
    "    x, y = dataloader_test.dataset[0]\n",
    "    x = x.unsqueeze(0).to(device)\n",
    "    hx = None\n",
    "    logits, out = model.forward(x, hx)\n",
    "out_last = out[-1]\n",
    "(h, c), (h_last, c_last) = out_last\n",
    "h, c = h.squeeze(0), c.squeeze(0)"
   ],
   "id": "b198b4215f351f72",
   "outputs": [],
   "execution_count": null
  },
  {
   "metadata": {},
   "cell_type": "code",
   "source": [
    "plot_long_short_term_memory(long_term_memory=c.cpu(),\n",
    "                            short_term_memory=h.cpu(),\n",
    "                            bidirectional=lstm_bidirectional[-1],\n",
    "                            output_path=plots_dir,\n",
    "                            output_file=f\"model_attacker_beacon_{model_id}_lstm.png\",\n",
    "                            show=False)"
   ],
   "id": "5e05264ec97a4920",
   "outputs": [],
   "execution_count": null
  }
 ],
 "metadata": {
  "kernelspec": {
   "display_name": "Python 3",
   "language": "python",
   "name": "python3"
  },
  "language_info": {
   "codemirror_mode": {
    "name": "ipython",
    "version": 2
   },
   "file_extension": ".py",
   "mimetype": "text/x-python",
   "name": "python",
   "nbconvert_exporter": "python",
   "pygments_lexer": "ipython2",
   "version": "2.7.6"
  }
 },
 "nbformat": 4,
 "nbformat_minor": 5
}
