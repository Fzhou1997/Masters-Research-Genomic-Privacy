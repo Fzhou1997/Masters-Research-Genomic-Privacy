{
 "cells": [
  {
   "cell_type": "code",
   "id": "initial_id",
   "metadata": {
    "collapsed": true,
    "ExecuteTime": {
     "end_time": "2024-08-23T22:04:51.916569Z",
     "start_time": "2024-08-23T22:04:51.455781Z"
    }
   },
   "source": [
    "import os\n",
    "import re\n",
    "import warnings\n",
    "\n",
    "import pandas as pd\n",
    "from snps import SNPs\n",
    "from tqdm import tqdm\n",
    "\n",
    "from utils_io import capture_print"
   ],
   "outputs": [],
   "execution_count": 1
  },
  {
   "metadata": {
    "ExecuteTime": {
     "end_time": "2024-08-23T22:04:51.919923Z",
     "start_time": "2024-08-23T22:04:51.917580Z"
    }
   },
   "cell_type": "code",
   "source": "warnings.filterwarnings(action='ignore', category=pd.errors.DtypeWarning)",
   "id": "184c54f5bb55b9e2",
   "outputs": [],
   "execution_count": 2
  },
  {
   "metadata": {
    "ExecuteTime": {
     "end_time": "2024-08-23T22:04:51.931423Z",
     "start_time": "2024-08-23T22:04:51.919923Z"
    }
   },
   "cell_type": "code",
   "source": [
    "build37_in_path = os.path.abspath('../data/ind_genomes/raw/37/')\n",
    "build37_out_path = os.path.abspath(\"../data/ind_genomes/combined/37/\")\n",
    "build37_files = os.listdir(build37_in_path)\n",
    "user_match_re = r'.*user.(\\d+).'\n",
    "file_match_re = r'.*file.(\\d+).'"
   ],
   "id": "91886adaf2a7c2e0",
   "outputs": [],
   "execution_count": 3
  },
  {
   "metadata": {
    "ExecuteTime": {
     "end_time": "2024-08-24T02:04:38.012450Z",
     "start_time": "2024-08-23T22:04:51.932454Z"
    }
   },
   "cell_type": "code",
   "source": [
    "prev_user = -1\n",
    "prev_snps = None\n",
    "curr_user = -1\n",
    "curr_file = -1\n",
    "for f in tqdm(build37_files):\n",
    "    curr_user = int(re.match(user_match_re, f)[1])\n",
    "    curr_file = int(re.match(file_match_re, f)[1])\n",
    "    with capture_print() as capture_output:\n",
    "        curr_snps = SNPs(os.path.join(build37_in_path, f))\n",
    "    if prev_user != curr_user:\n",
    "        if prev_snps is not None:\n",
    "            with capture_print() as capture_output:\n",
    "                prev_snps.to_csv(os.path.join(build37_out_path, f'user.{prev_user}.csv'))\n",
    "        prev_user = curr_user\n",
    "        prev_snps = curr_snps\n",
    "    else:\n",
    "        with capture_print() as capture_output:\n",
    "            curr_snps.merge(snps_objects=[prev_snps])\n",
    "            curr_snps.sort()\n",
    "        prev_snps = curr_snps"
   ],
   "id": "f62cdd10df5a25c2",
   "outputs": [
    {
     "name": "stderr",
     "output_type": "stream",
     "text": [
      "100%|██████████| 6284/6284 [3:59:46<00:00,  2.29s/it]   \n"
     ]
    }
   ],
   "execution_count": 4
  }
 ],
 "metadata": {
  "kernelspec": {
   "display_name": "Python 3",
   "language": "python",
   "name": "python3"
  },
  "language_info": {
   "codemirror_mode": {
    "name": "ipython",
    "version": 2
   },
   "file_extension": ".py",
   "mimetype": "text/x-python",
   "name": "python",
   "nbconvert_exporter": "python",
   "pygments_lexer": "ipython2",
   "version": "2.7.6"
  }
 },
 "nbformat": 4,
 "nbformat_minor": 5
}
