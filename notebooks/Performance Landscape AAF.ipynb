{
 "cells": [
  {
   "metadata": {},
   "cell_type": "markdown",
   "source": [
    "<H1 align=\"center\">Performance Landscape of AAF Models</H1>\n",
    "\n",
    "<br>\n",
    "<strong>This notebook analyzes and plots the performance landscape of the models trained on the AAF dataset by various hyperparameters.</strong>"
   ],
   "id": "8c699535e9ba4b74"
  },
  {
   "metadata": {},
   "cell_type": "markdown",
   "source": "## Importing Libraries",
   "id": "c472718066ff8f56"
  },
  {
   "cell_type": "code",
   "id": "initial_id",
   "metadata": {
    "collapsed": true
   },
   "source": [
    "import matplotlib.pyplot as plt\n",
    "import pandas as pd"
   ],
   "outputs": [],
   "execution_count": null
  },
  {
   "metadata": {},
   "cell_type": "markdown",
   "source": "## Loading the Models Data",
   "id": "5831bef2ebc33e87"
  },
  {
   "metadata": {},
   "cell_type": "code",
   "source": [
    "dataframe = pd.read_csv(\"../models/models.csv\")\n",
    "dataframe = dataframe[dataframe[\"data_structure\"] == \"aaf\"]\n",
    "dataframe"
   ],
   "id": "ca12debef27f57a",
   "outputs": [],
   "execution_count": null
  },
  {
   "metadata": {},
   "cell_type": "markdown",
   "source": "## Plotting the Performance Landscape",
   "id": "b8534a56509fe6f3"
  },
  {
   "metadata": {},
   "cell_type": "markdown",
   "source": "### Plotting the Overall Performance Landscape",
   "id": "8f8c37977be13677"
  },
  {
   "metadata": {},
   "cell_type": "code",
   "source": [
    "plt.figure(figsize=(6, 6))\n",
    "plt.hist(dataframe[\"tester_acc\"], bins=20, color=\"dodgerblue\", label=\"Testing Accuracies\")\n",
    "plt.xlabel(\"Accuracy\")\n",
    "plt.ylabel(\"Frequency\")\n",
    "plt.title(\"Performance Landscape of Pool Models\")\n",
    "plt.legend()\n",
    "plt.savefig(\"../plots/pool_performance_landscape.png\")\n",
    "plt.show()"
   ],
   "id": "73333c38e25798f9",
   "outputs": [],
   "execution_count": null
  },
  {
   "metadata": {},
   "cell_type": "markdown",
   "source": "### Plotting the Performance Landscape by Sequence Length",
   "id": "63b4981e426d0f88"
  },
  {
   "metadata": {},
   "cell_type": "code",
   "source": [
    "plt.figure(figsize=(6, 6))\n",
    "plt.scatter(dataframe[\"data_num_snps\"], dataframe[\"tester_acc\"], color=\"dodgerblue\")\n",
    "plt.xlabel(\"Number of SNPs\")\n",
    "plt.ylabel(\"Accuracy\")\n",
    "plt.title(\"Performance Landscape of Pool Models\")\n",
    "plt.savefig(\"../plots/pool_performance_landscape_num_snps.png\")\n",
    "plt.show()"
   ],
   "id": "13df0bf4789c547",
   "outputs": [],
   "execution_count": null
  },
  {
   "metadata": {},
   "cell_type": "markdown",
   "source": "### Plotting the Performance Landscape by Number of Convolutional Layers",
   "id": "f1a6b17342b4d49"
  },
  {
   "metadata": {},
   "cell_type": "code",
   "source": [
    "plt.figure(figsize=(6, 6))\n",
    "plt.scatter(dataframe[\"model_conv_num_layers\"], dataframe[\"tester_acc\"], color=\"dodgerblue\")\n",
    "plt.xlabel(\"Number of Convolutional Layers\")\n",
    "plt.ylabel(\"Accuracy\")\n",
    "plt.title(\"Pool Testing Accuracy vs Number of Convolutional Layers\")\n",
    "plt.savefig(\"../plots/pool_performance_landscape_num_conv_layers.png\")\n",
    "plt.show()"
   ],
   "id": "1f1530ab5b90ffbc",
   "outputs": [],
   "execution_count": null
  },
  {
   "metadata": {},
   "cell_type": "markdown",
   "source": "### Plotting the Performance Landscape by LSTM Number of Layers",
   "id": "9768c05d493a8d94"
  },
  {
   "metadata": {},
   "cell_type": "code",
   "source": [
    "plt.figure(figsize=(6, 6))\n",
    "plt.scatter(dataframe[\"model_lstm_num_layers\"], dataframe[\"tester_acc\"], color=\"dodgerblue\")\n",
    "plt.xlabel(\"Number of LSTM Layers\")\n",
    "plt.ylabel(\"Accuracy\")\n",
    "plt.title(\"Pool Testing Accuracy vs Number of LSTM Layers\")\n",
    "plt.savefig(\"../plots/pool_performance_landscape_num_lstm_layers.png\")\n",
    "plt.show()"
   ],
   "id": "ab0f4561f2f34c86",
   "outputs": [],
   "execution_count": null
  },
  {
   "metadata": {},
   "cell_type": "markdown",
   "source": "### Plotting the Performance Landscape by LSTM Bidirectional",
   "id": "cf3235c3f46338e1"
  },
  {
   "metadata": {},
   "cell_type": "code",
   "outputs": [],
   "execution_count": null,
   "source": [
    "series_bidrectional = dataframe[\"model_lstm_bidirectional\"].str.contains(\"True\")\n",
    "categories = pd.Categorical(series_bidrectional.map({True: 'True', False: 'False'}))\n",
    "plt.figure(figsize=(6, 6))\n",
    "plt.scatter(categories, dataframe['tester_acc'], color='dodgerblue')\n",
    "plt.ylabel('Tester Accuracy')\n",
    "plt.xlabel('Bidirectional')\n",
    "plt.title('Pool Testing Accuracy vs LSTM Bidirectional')\n",
    "plt.savefig(\"../plots/pool_performance_landscape_bidirectional.png\")\n",
    "plt.show()"
   ],
   "id": "dd36a41ade209ad0"
  },
  {
   "metadata": {},
   "cell_type": "markdown",
   "source": "### Plotting the Performance Landscape by Number of Linear Layers",
   "id": "2f51c3041f595336"
  },
  {
   "metadata": {},
   "cell_type": "code",
   "source": [
    "plt.figure(figsize=(6, 6))\n",
    "plt.scatter(dataframe[\"model_linear_num_layers\"], dataframe[\"tester_acc\"], color=\"dodgerblue\")\n",
    "plt.xlabel(\"Number of Linear Layers\")\n",
    "plt.ylabel(\"Accuracy\")\n",
    "plt.title(\"Pool Testing Accuracy vs Number of Linear Layers\")\n",
    "plt.savefig(\"../plots/pool_performance_landscape_num_linear_layers.png\")\n",
    "plt.show()"
   ],
   "id": "58844fe43f71a967",
   "outputs": [],
   "execution_count": null
  }
 ],
 "metadata": {
  "kernelspec": {
   "display_name": "Python 3",
   "language": "python",
   "name": "python3"
  },
  "language_info": {
   "codemirror_mode": {
    "name": "ipython",
    "version": 2
   },
   "file_extension": ".py",
   "mimetype": "text/x-python",
   "name": "python",
   "nbconvert_exporter": "python",
   "pygments_lexer": "ipython2",
   "version": "2.7.6"
  }
 },
 "nbformat": 4,
 "nbformat_minor": 5
}
