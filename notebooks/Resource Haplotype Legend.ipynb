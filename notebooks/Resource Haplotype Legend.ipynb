{
 "cells": [
  {
   "metadata": {
    "ExecuteTime": {
     "end_time": "2024-10-15T22:40:36.756831Z",
     "start_time": "2024-10-15T22:40:36.377408Z"
    }
   },
   "cell_type": "code",
   "source": "import pandas as pd",
   "id": "2db2e0ecb6529ee4",
   "outputs": [],
   "execution_count": 1
  },
  {
   "cell_type": "code",
   "id": "initial_id",
   "metadata": {
    "collapsed": true,
    "ExecuteTime": {
     "end_time": "2024-10-15T22:40:36.761911Z",
     "start_time": "2024-10-15T22:40:36.759603Z"
    }
   },
   "source": [
    "hap_legend_header = ['id', 'position', 'ref', 'alt']\n",
    "hap_legend_delimiter = \" \""
   ],
   "outputs": [],
   "execution_count": 2
  },
  {
   "metadata": {
    "ExecuteTime": {
     "end_time": "2024-10-15T22:40:37.025211Z",
     "start_time": "2024-10-15T22:40:37.023092Z"
    }
   },
   "cell_type": "code",
   "source": "path = '../data/hap_legend/37/chromosome.1.legend'",
   "id": "37e20364db0bc036",
   "outputs": [],
   "execution_count": 3
  },
  {
   "metadata": {
    "ExecuteTime": {
     "end_time": "2024-10-15T22:40:42.172161Z",
     "start_time": "2024-10-15T22:40:37.029459Z"
    }
   },
   "cell_type": "code",
   "source": [
    "hap_legend = pd.read_csv(path, delimiter=hap_legend_delimiter)\n",
    "hap_legend.head()"
   ],
   "id": "ff22e3bff12fded2",
   "outputs": [
    {
     "data": {
      "text/plain": [
       "                       id  position a0  a1             TYPE       AFR  \\\n",
       "0            1:10177:A:AC     10177  A  AC  Biallelic_INDEL  0.490923   \n",
       "1            1:10235:T:TA     10235  T  TA  Biallelic_INDEL  0.000000   \n",
       "2  rs145072688:10352:T:TA     10352  T  TA  Biallelic_INDEL  0.478820   \n",
       "3             1:10505:A:T     10505  A   T    Biallelic_SNP  0.000756   \n",
       "4             1:10506:C:G     10506  C   G    Biallelic_SNP  0.000756   \n",
       "\n",
       "        AMR       EAS       EUR       SAS       ALL  \n",
       "0  0.360231  0.336310  0.405567  0.494888  0.425319  \n",
       "1  0.001441  0.000000  0.000000  0.005112  0.001198  \n",
       "2  0.410663  0.430556  0.426441  0.419223  0.437500  \n",
       "3  0.000000  0.000000  0.000000  0.000000  0.000200  \n",
       "4  0.000000  0.000000  0.000000  0.000000  0.000200  "
      ],
      "text/html": [
       "<div>\n",
       "<style scoped>\n",
       "    .dataframe tbody tr th:only-of-type {\n",
       "        vertical-align: middle;\n",
       "    }\n",
       "\n",
       "    .dataframe tbody tr th {\n",
       "        vertical-align: top;\n",
       "    }\n",
       "\n",
       "    .dataframe thead th {\n",
       "        text-align: right;\n",
       "    }\n",
       "</style>\n",
       "<table border=\"1\" class=\"dataframe\">\n",
       "  <thead>\n",
       "    <tr style=\"text-align: right;\">\n",
       "      <th></th>\n",
       "      <th>id</th>\n",
       "      <th>position</th>\n",
       "      <th>a0</th>\n",
       "      <th>a1</th>\n",
       "      <th>TYPE</th>\n",
       "      <th>AFR</th>\n",
       "      <th>AMR</th>\n",
       "      <th>EAS</th>\n",
       "      <th>EUR</th>\n",
       "      <th>SAS</th>\n",
       "      <th>ALL</th>\n",
       "    </tr>\n",
       "  </thead>\n",
       "  <tbody>\n",
       "    <tr>\n",
       "      <th>0</th>\n",
       "      <td>1:10177:A:AC</td>\n",
       "      <td>10177</td>\n",
       "      <td>A</td>\n",
       "      <td>AC</td>\n",
       "      <td>Biallelic_INDEL</td>\n",
       "      <td>0.490923</td>\n",
       "      <td>0.360231</td>\n",
       "      <td>0.336310</td>\n",
       "      <td>0.405567</td>\n",
       "      <td>0.494888</td>\n",
       "      <td>0.425319</td>\n",
       "    </tr>\n",
       "    <tr>\n",
       "      <th>1</th>\n",
       "      <td>1:10235:T:TA</td>\n",
       "      <td>10235</td>\n",
       "      <td>T</td>\n",
       "      <td>TA</td>\n",
       "      <td>Biallelic_INDEL</td>\n",
       "      <td>0.000000</td>\n",
       "      <td>0.001441</td>\n",
       "      <td>0.000000</td>\n",
       "      <td>0.000000</td>\n",
       "      <td>0.005112</td>\n",
       "      <td>0.001198</td>\n",
       "    </tr>\n",
       "    <tr>\n",
       "      <th>2</th>\n",
       "      <td>rs145072688:10352:T:TA</td>\n",
       "      <td>10352</td>\n",
       "      <td>T</td>\n",
       "      <td>TA</td>\n",
       "      <td>Biallelic_INDEL</td>\n",
       "      <td>0.478820</td>\n",
       "      <td>0.410663</td>\n",
       "      <td>0.430556</td>\n",
       "      <td>0.426441</td>\n",
       "      <td>0.419223</td>\n",
       "      <td>0.437500</td>\n",
       "    </tr>\n",
       "    <tr>\n",
       "      <th>3</th>\n",
       "      <td>1:10505:A:T</td>\n",
       "      <td>10505</td>\n",
       "      <td>A</td>\n",
       "      <td>T</td>\n",
       "      <td>Biallelic_SNP</td>\n",
       "      <td>0.000756</td>\n",
       "      <td>0.000000</td>\n",
       "      <td>0.000000</td>\n",
       "      <td>0.000000</td>\n",
       "      <td>0.000000</td>\n",
       "      <td>0.000200</td>\n",
       "    </tr>\n",
       "    <tr>\n",
       "      <th>4</th>\n",
       "      <td>1:10506:C:G</td>\n",
       "      <td>10506</td>\n",
       "      <td>C</td>\n",
       "      <td>G</td>\n",
       "      <td>Biallelic_SNP</td>\n",
       "      <td>0.000756</td>\n",
       "      <td>0.000000</td>\n",
       "      <td>0.000000</td>\n",
       "      <td>0.000000</td>\n",
       "      <td>0.000000</td>\n",
       "      <td>0.000200</td>\n",
       "    </tr>\n",
       "  </tbody>\n",
       "</table>\n",
       "</div>"
      ]
     },
     "execution_count": 4,
     "metadata": {},
     "output_type": "execute_result"
    }
   ],
   "execution_count": 4
  },
  {
   "metadata": {
    "ExecuteTime": {
     "end_time": "2024-10-15T22:47:08.385200Z",
     "start_time": "2024-10-15T22:47:08.168711Z"
    }
   },
   "cell_type": "code",
   "source": "hap_legend['TYPE'].value_counts()",
   "id": "401b59b63e2f0e6",
   "outputs": [
    {
     "data": {
      "text/plain": [
       "TYPE\n",
       "Biallelic_SNP             6196151\n",
       "Biallelic_INDEL            237012\n",
       "Multiallelic_SNP            37903\n",
       "Multiallelic_INDEL          24831\n",
       "Biallelic_DEL                2437\n",
       "Biallelic_INS:ME:ALU          953\n",
       "Multiallelic_CNV              378\n",
       "Biallelic_DUP                 354\n",
       "Biallelic_INS:ME:LINE1        235\n",
       "Biallelic_INS:ME:SVA           85\n",
       "Biallelic_INV                  10\n",
       "Biallelic_INS:MT                9\n",
       "Name: count, dtype: int64"
      ]
     },
     "execution_count": 6,
     "metadata": {},
     "output_type": "execute_result"
    }
   ],
   "execution_count": 6
  },
  {
   "metadata": {
    "ExecuteTime": {
     "end_time": "2024-10-15T22:52:42.238523Z",
     "start_time": "2024-10-15T22:52:42.228337Z"
    }
   },
   "cell_type": "code",
   "source": "hap_legend.position.min(), hap_legend.position.max()",
   "id": "2341296bb893b7f7",
   "outputs": [
    {
     "data": {
      "text/plain": [
       "(10177, 249240543)"
      ]
     },
     "execution_count": 7,
     "metadata": {},
     "output_type": "execute_result"
    }
   ],
   "execution_count": 7
  },
  {
   "metadata": {
    "ExecuteTime": {
     "end_time": "2024-10-15T22:52:59.874887Z",
     "start_time": "2024-10-15T22:52:59.870392Z"
    }
   },
   "cell_type": "code",
   "source": "hap_legend.position.dtype",
   "id": "7795ff8bcd63860",
   "outputs": [
    {
     "data": {
      "text/plain": [
       "dtype('int64')"
      ]
     },
     "execution_count": 8,
     "metadata": {},
     "output_type": "execute_result"
    }
   ],
   "execution_count": 8
  },
  {
   "metadata": {
    "ExecuteTime": {
     "end_time": "2024-10-15T22:54:58.122336Z",
     "start_time": "2024-10-15T22:54:58.118464Z"
    }
   },
   "cell_type": "code",
   "source": "hap_legend.ALL.dtype",
   "id": "ebafd02901506832",
   "outputs": [
    {
     "data": {
      "text/plain": [
       "dtype('float64')"
      ]
     },
     "execution_count": 9,
     "metadata": {},
     "output_type": "execute_result"
    }
   ],
   "execution_count": 9
  },
  {
   "metadata": {},
   "cell_type": "code",
   "outputs": [],
   "execution_count": null,
   "source": "",
   "id": "7672dc1ff5e3d5bf"
  }
 ],
 "metadata": {
  "kernelspec": {
   "display_name": "Python 3",
   "language": "python",
   "name": "python3"
  },
  "language_info": {
   "codemirror_mode": {
    "name": "ipython",
    "version": 2
   },
   "file_extension": ".py",
   "mimetype": "text/x-python",
   "name": "python",
   "nbconvert_exporter": "python",
   "pygments_lexer": "ipython2",
   "version": "2.7.6"
  }
 },
 "nbformat": 4,
 "nbformat_minor": 5
}
