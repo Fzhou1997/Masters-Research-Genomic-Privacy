{
 "cells": [
  {
   "metadata": {},
   "cell_type": "markdown",
   "source": "# Process Gene Map",
   "id": "a1dd2808a45280eb"
  },
  {
   "metadata": {},
   "cell_type": "markdown",
   "source": "## Step 1: Environment Setup",
   "id": "701d77bf26d3e07d"
  },
  {
   "metadata": {},
   "cell_type": "markdown",
   "source": "### Import Libraries",
   "id": "c38c6f04f7396ba1"
  },
  {
   "cell_type": "code",
   "id": "initial_id",
   "metadata": {
    "collapsed": true,
    "ExecuteTime": {
     "end_time": "2024-08-20T14:53:38.763705Z",
     "start_time": "2024-08-20T14:53:38.305811Z"
    }
   },
   "source": [
    "import warnings\n",
    "\n",
    "from tqdm import tqdm\n",
    "import pandas as pd\n",
    "\n",
    "from utils_data import GeneMap"
   ],
   "outputs": [],
   "execution_count": 1
  },
  {
   "metadata": {},
   "cell_type": "markdown",
   "source": "### Configure Environment",
   "id": "9fbfc04e76037b09"
  },
  {
   "metadata": {
    "ExecuteTime": {
     "end_time": "2024-08-20T14:53:38.767565Z",
     "start_time": "2024-08-20T14:53:38.764706Z"
    }
   },
   "cell_type": "code",
   "source": "warnings.filterwarnings(\"ignore\", category=pd.errors.DtypeWarning)",
   "id": "18e9f9910fb99c82",
   "outputs": [],
   "execution_count": 2
  },
  {
   "metadata": {},
   "cell_type": "markdown",
   "source": "## Step 2: Process Gene Map",
   "id": "528cf8c27fd5b6e5"
  },
  {
   "metadata": {
    "ExecuteTime": {
     "end_time": "2024-08-20T15:00:28.820306Z",
     "start_time": "2024-08-20T14:53:38.767565Z"
    }
   },
   "cell_type": "code",
   "source": [
    "for i in tqdm(range(1, 23)):\n",
    "    gene_map = GeneMap().from_raw(f'../data/snp_map/raw/37/chromosome.{i}.txt')\n",
    "    gene_map.save(f'../data/gene_map/processed/37/chromosome.{i}.txt')"
   ],
   "id": "ac5f6f8532bce2c4",
   "outputs": [
    {
     "name": "stderr",
     "output_type": "stream",
     "text": [
      "100%|██████████| 22/22 [06:50<00:00, 18.64s/it]\n"
     ]
    }
   ],
   "execution_count": 3
  },
  {
   "metadata": {},
   "cell_type": "code",
   "outputs": [],
   "execution_count": null,
   "source": "",
   "id": "4361c60470a3d38c"
  }
 ],
 "metadata": {
  "kernelspec": {
   "display_name": "Python 3",
   "language": "python",
   "name": "python3"
  },
  "language_info": {
   "codemirror_mode": {
    "name": "ipython",
    "version": 2
   },
   "file_extension": ".py",
   "mimetype": "text/x-python",
   "name": "python",
   "nbconvert_exporter": "python",
   "pygments_lexer": "ipython2",
   "version": "2.7.6"
  }
 },
 "nbformat": 4,
 "nbformat_minor": 5
}
