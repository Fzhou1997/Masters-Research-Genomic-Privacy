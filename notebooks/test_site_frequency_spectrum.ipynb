{
 "cells": [
  {
   "cell_type": "code",
   "id": "initial_id",
   "metadata": {
    "collapsed": true,
    "ExecuteTime": {
     "end_time": "2024-09-11T17:27:35.902869Z",
     "start_time": "2024-09-11T17:27:35.104663Z"
    }
   },
   "source": [
    "import numpy as np\n",
    "import matplotlib.pyplot as plt\n",
    "from scipy import stats\n",
    "\n",
    "from utils_stats.site_frequency_spectrum import site_frequency_spectrum\n",
    "from utils_stats.site_frequency_spectrum_beta import site_frequency_spectrum_beta"
   ],
   "outputs": [],
   "execution_count": 1
  },
  {
   "metadata": {
    "ExecuteTime": {
     "end_time": "2024-09-11T17:27:35.908037Z",
     "start_time": "2024-09-11T17:27:35.906281Z"
    }
   },
   "cell_type": "code",
   "source": [
    "alpha_true = 2\n",
    "beta_true = 5\n",
    "num_sites = 1000\n",
    "num_genomes = 100"
   ],
   "id": "762ebc954c64734",
   "outputs": [],
   "execution_count": 2
  },
  {
   "metadata": {
    "ExecuteTime": {
     "end_time": "2024-09-11T17:27:35.948865Z",
     "start_time": "2024-09-11T17:27:35.945977Z"
    }
   },
   "cell_type": "code",
   "source": [
    "x = np.linspace(0, 1, 100)\n",
    "bin_width = (x.max() - x.min()) / len(x)\n",
    "scaling_factor = num_sites * bin_width\n",
    "\n",
    "simulated_allele_frequencies = np.random.beta(alpha_true, beta_true, size=num_sites)\n",
    "simulated_allele_counts = np.random.binomial(num_genomes, simulated_allele_frequencies)\n",
    "simulated_allele_frequency_spectrum = np.bincount(simulated_allele_counts)\n",
    "simulated_beta = stats.beta.pdf(x, alpha_true, beta_true) * scaling_factor"
   ],
   "id": "e09d723df272ed18",
   "outputs": [],
   "execution_count": 3
  },
  {
   "metadata": {
    "ExecuteTime": {
     "end_time": "2024-09-11T17:27:36.134188Z",
     "start_time": "2024-09-11T17:27:35.955847Z"
    }
   },
   "cell_type": "code",
   "source": [
    "plt.bar(range(len(simulated_allele_frequency_spectrum)), simulated_allele_frequency_spectrum)\n",
    "plt.plot(x * num_genomes, simulated_beta, 'r-', lw=2, label='True Beta Distribution')"
   ],
   "id": "f53e17a68049a9fd",
   "outputs": [
    {
     "data": {
      "text/plain": [
       "[<matplotlib.lines.Line2D at 0x13cf7d110>]"
      ]
     },
     "execution_count": 4,
     "metadata": {},
     "output_type": "execute_result"
    },
    {
     "data": {
      "text/plain": [
       "<Figure size 640x480 with 1 Axes>"
      ],
      "image/png": "[encoded data removed]"
     },
     "metadata": {},
     "output_type": "display_data"
    }
   ],
   "execution_count": 4
  },
  {
   "metadata": {
    "ExecuteTime": {
     "end_time": "2024-09-11T17:27:36.280174Z",
     "start_time": "2024-09-11T17:27:36.221352Z"
    }
   },
   "cell_type": "code",
   "source": [
    "estimated_allele_frequency_spectrum = site_frequency_spectrum(simulated_allele_counts)\n",
    "alpha_est, beta_est = site_frequency_spectrum_beta(simulated_allele_counts)"
   ],
   "id": "1af497fba66b70ed",
   "outputs": [
    {
     "ename": "FitDataError",
     "evalue": "Invalid values in `data`.  Maximum likelihood estimation with 'beta' requires that 0 < (x - loc)/scale  < 1 for each x in `data`.",
     "output_type": "error",
     "traceback": [
      "\u001B[0;31m---------------------------------------------------------------------------\u001B[0m",
      "\u001B[0;31mFitDataError\u001B[0m                              Traceback (most recent call last)",
      "\u001B[0;32m/var/folders/yz/md6mlfmx7_529y8g03cw1l_r0000gn/T/ipykernel_11251/3421809538.py\u001B[0m in \u001B[0;36m?\u001B[0;34m()\u001B[0m\n\u001B[1;32m      1\u001B[0m \u001B[0mestimated_allele_frequency_spectrum\u001B[0m \u001B[0;34m=\u001B[0m \u001B[0msite_frequency_spectrum\u001B[0m\u001B[0;34m(\u001B[0m\u001B[0msimulated_allele_counts\u001B[0m\u001B[0;34m)\u001B[0m\u001B[0;34m\u001B[0m\u001B[0;34m\u001B[0m\u001B[0m\n\u001B[0;32m----> 2\u001B[0;31m \u001B[0malpha_est\u001B[0m\u001B[0;34m,\u001B[0m \u001B[0mbeta_est\u001B[0m \u001B[0;34m=\u001B[0m \u001B[0msite_frequency_spectrum_beta\u001B[0m\u001B[0;34m(\u001B[0m\u001B[0msimulated_allele_counts\u001B[0m\u001B[0;34m)\u001B[0m\u001B[0;34m\u001B[0m\u001B[0;34m\u001B[0m\u001B[0m\n\u001B[0m",
      "\u001B[0;32m~/Desktop/NEU/Natural Language Processing/Assignments/Masters-Research-Genomic-Privacy/utils_stats/site_frequency_spectrum_beta.py\u001B[0m in \u001B[0;36m?\u001B[0;34m(alternate_allele_counts)\u001B[0m\n\u001B[1;32m     31\u001B[0m     \u001B[0mallele_frequencies\u001B[0m \u001B[0;34m=\u001B[0m \u001B[0mnp\u001B[0m\u001B[0;34m.\u001B[0m\u001B[0marange\u001B[0m\u001B[0;34m(\u001B[0m\u001B[0mlen\u001B[0m\u001B[0;34m(\u001B[0m\u001B[0msfs\u001B[0m\u001B[0;34m)\u001B[0m\u001B[0;34m)\u001B[0m \u001B[0;34m/\u001B[0m \u001B[0mlen\u001B[0m\u001B[0;34m(\u001B[0m\u001B[0msfs\u001B[0m\u001B[0;34m)\u001B[0m\u001B[0;34m\u001B[0m\u001B[0;34m\u001B[0m\u001B[0m\n\u001B[1;32m     32\u001B[0m     \u001B[0mnon_zero_indices\u001B[0m \u001B[0;34m=\u001B[0m \u001B[0msfs\u001B[0m \u001B[0;34m>\u001B[0m \u001B[0;36m0\u001B[0m\u001B[0;34m\u001B[0m\u001B[0;34m\u001B[0m\u001B[0m\n\u001B[1;32m     33\u001B[0m     \u001B[0mallele_frequencies\u001B[0m \u001B[0;34m=\u001B[0m \u001B[0mallele_frequencies\u001B[0m\u001B[0;34m[\u001B[0m\u001B[0mnon_zero_indices\u001B[0m\u001B[0;34m]\u001B[0m\u001B[0;34m\u001B[0m\u001B[0;34m\u001B[0m\u001B[0m\n\u001B[1;32m     34\u001B[0m     \u001B[0msfs\u001B[0m \u001B[0;34m=\u001B[0m \u001B[0msfs\u001B[0m\u001B[0;34m[\u001B[0m\u001B[0mnon_zero_indices\u001B[0m\u001B[0;34m]\u001B[0m\u001B[0;34m\u001B[0m\u001B[0;34m\u001B[0m\u001B[0m\n\u001B[0;32m---> 35\u001B[0;31m     \u001B[0malpha\u001B[0m\u001B[0;34m,\u001B[0m \u001B[0mbeta\u001B[0m\u001B[0;34m,\u001B[0m \u001B[0mloc\u001B[0m\u001B[0;34m,\u001B[0m \u001B[0mscale\u001B[0m \u001B[0;34m=\u001B[0m \u001B[0mstats\u001B[0m\u001B[0;34m.\u001B[0m\u001B[0mbeta\u001B[0m\u001B[0;34m.\u001B[0m\u001B[0mfit\u001B[0m\u001B[0;34m(\u001B[0m\u001B[0mallele_frequencies\u001B[0m\u001B[0;34m,\u001B[0m \u001B[0mfloc\u001B[0m\u001B[0;34m=\u001B[0m\u001B[0;36m0\u001B[0m\u001B[0;34m,\u001B[0m \u001B[0mfscale\u001B[0m\u001B[0;34m=\u001B[0m\u001B[0;36m1\u001B[0m\u001B[0;34m)\u001B[0m\u001B[0;34m\u001B[0m\u001B[0;34m\u001B[0m\u001B[0m\n\u001B[0m\u001B[1;32m     36\u001B[0m     \u001B[0;32mreturn\u001B[0m \u001B[0malpha\u001B[0m\u001B[0;34m,\u001B[0m \u001B[0mbeta\u001B[0m\u001B[0;34m\u001B[0m\u001B[0;34m\u001B[0m\u001B[0m\n",
      "\u001B[0;32m~/miniconda3/lib/python3.11/site-packages/scipy/stats/_continuous_distns.py\u001B[0m in \u001B[0;36m?\u001B[0;34m(self, data, *args, **kwds)\u001B[0m\n\u001B[1;32m     70\u001B[0m                 \u001B[0;31m# data is an instance of CensoredData, but actually holds\u001B[0m\u001B[0;34m\u001B[0m\u001B[0;34m\u001B[0m\u001B[0m\n\u001B[1;32m     71\u001B[0m                 \u001B[0;31m# no censored values, so replace it with the array of\u001B[0m\u001B[0;34m\u001B[0m\u001B[0;34m\u001B[0m\u001B[0m\n\u001B[1;32m     72\u001B[0m                 \u001B[0;31m# uncensored values.\u001B[0m\u001B[0;34m\u001B[0m\u001B[0;34m\u001B[0m\u001B[0m\n\u001B[1;32m     73\u001B[0m                 \u001B[0mdata\u001B[0m \u001B[0;34m=\u001B[0m \u001B[0mdata\u001B[0m\u001B[0;34m.\u001B[0m\u001B[0m_uncensored\u001B[0m\u001B[0;34m\u001B[0m\u001B[0;34m\u001B[0m\u001B[0m\n\u001B[0;32m---> 74\u001B[0;31m             \u001B[0;32mreturn\u001B[0m \u001B[0mfun\u001B[0m\u001B[0;34m(\u001B[0m\u001B[0mself\u001B[0m\u001B[0;34m,\u001B[0m \u001B[0mdata\u001B[0m\u001B[0;34m,\u001B[0m \u001B[0;34m*\u001B[0m\u001B[0margs\u001B[0m\u001B[0;34m,\u001B[0m \u001B[0;34m**\u001B[0m\u001B[0mkwds\u001B[0m\u001B[0;34m)\u001B[0m\u001B[0;34m\u001B[0m\u001B[0;34m\u001B[0m\u001B[0m\n\u001B[0m",
      "\u001B[0;32m~/miniconda3/lib/python3.11/site-packages/scipy/stats/_continuous_distns.py\u001B[0m in \u001B[0;36m?\u001B[0;34m(self, data, *args, **kwds)\u001B[0m\n\u001B[1;32m    765\u001B[0m \u001B[0;34m\u001B[0m\u001B[0m\n\u001B[1;32m    766\u001B[0m         \u001B[0;31m# Normalize the data to the interval [0, 1].\u001B[0m\u001B[0;34m\u001B[0m\u001B[0;34m\u001B[0m\u001B[0m\n\u001B[1;32m    767\u001B[0m         \u001B[0mdata\u001B[0m \u001B[0;34m=\u001B[0m \u001B[0;34m(\u001B[0m\u001B[0mnp\u001B[0m\u001B[0;34m.\u001B[0m\u001B[0mravel\u001B[0m\u001B[0;34m(\u001B[0m\u001B[0mdata\u001B[0m\u001B[0;34m)\u001B[0m \u001B[0;34m-\u001B[0m \u001B[0mfloc\u001B[0m\u001B[0;34m)\u001B[0m \u001B[0;34m/\u001B[0m \u001B[0mfscale\u001B[0m\u001B[0;34m\u001B[0m\u001B[0;34m\u001B[0m\u001B[0m\n\u001B[1;32m    768\u001B[0m         \u001B[0;32mif\u001B[0m \u001B[0mnp\u001B[0m\u001B[0;34m.\u001B[0m\u001B[0many\u001B[0m\u001B[0;34m(\u001B[0m\u001B[0mdata\u001B[0m \u001B[0;34m<=\u001B[0m \u001B[0;36m0\u001B[0m\u001B[0;34m)\u001B[0m \u001B[0;32mor\u001B[0m \u001B[0mnp\u001B[0m\u001B[0;34m.\u001B[0m\u001B[0many\u001B[0m\u001B[0;34m(\u001B[0m\u001B[0mdata\u001B[0m \u001B[0;34m>=\u001B[0m \u001B[0;36m1\u001B[0m\u001B[0;34m)\u001B[0m\u001B[0;34m:\u001B[0m\u001B[0;34m\u001B[0m\u001B[0;34m\u001B[0m\u001B[0m\n\u001B[0;32m--> 769\u001B[0;31m             \u001B[0;32mraise\u001B[0m \u001B[0mFitDataError\u001B[0m\u001B[0;34m(\u001B[0m\u001B[0;34m\"beta\"\u001B[0m\u001B[0;34m,\u001B[0m \u001B[0mlower\u001B[0m\u001B[0;34m=\u001B[0m\u001B[0mfloc\u001B[0m\u001B[0;34m,\u001B[0m \u001B[0mupper\u001B[0m\u001B[0;34m=\u001B[0m\u001B[0mfloc\u001B[0m \u001B[0;34m+\u001B[0m \u001B[0mfscale\u001B[0m\u001B[0;34m)\u001B[0m\u001B[0;34m\u001B[0m\u001B[0;34m\u001B[0m\u001B[0m\n\u001B[0m\u001B[1;32m    770\u001B[0m \u001B[0;34m\u001B[0m\u001B[0m\n\u001B[1;32m    771\u001B[0m         \u001B[0mxbar\u001B[0m \u001B[0;34m=\u001B[0m \u001B[0mdata\u001B[0m\u001B[0;34m.\u001B[0m\u001B[0mmean\u001B[0m\u001B[0;34m(\u001B[0m\u001B[0;34m)\u001B[0m\u001B[0;34m\u001B[0m\u001B[0;34m\u001B[0m\u001B[0m\n\u001B[1;32m    772\u001B[0m \u001B[0;34m\u001B[0m\u001B[0m\n",
      "\u001B[0;31mFitDataError\u001B[0m: Invalid values in `data`.  Maximum likelihood estimation with 'beta' requires that 0 < (x - loc)/scale  < 1 for each x in `data`."
     ]
    }
   ],
   "execution_count": 5
  },
  {
   "metadata": {
    "ExecuteTime": {
     "end_time": "2024-09-11T17:27:36.282974Z",
     "start_time": "2024-09-11T14:20:59.488725Z"
    }
   },
   "cell_type": "code",
   "source": [
    "print(f\"True alpha: {alpha_true}, True beta: {beta_true}\")\n",
    "print(f\"Estimated alpha: {alpha_est}, Estimated beta: {beta_est}\")"
   ],
   "id": "cc650cbce7c5334b",
   "outputs": [
    {
     "name": "stdout",
     "output_type": "stream",
     "text": [
      "True alpha: 2, True beta: 5\n",
      "Estimated alpha: 1.1515628383629832, Estimated beta: 1.3268441100647155\n"
     ]
    }
   ],
   "execution_count": 17
  }
 ],
 "metadata": {
  "kernelspec": {
   "display_name": "Python 3",
   "language": "python",
   "name": "python3"
  },
  "language_info": {
   "codemirror_mode": {
    "name": "ipython",
    "version": 2
   },
   "file_extension": ".py",
   "mimetype": "text/x-python",
   "name": "python",
   "nbconvert_exporter": "python",
   "pygments_lexer": "ipython2",
   "version": "2.7.6"
  }
 },
 "nbformat": 4,
 "nbformat_minor": 5
}
