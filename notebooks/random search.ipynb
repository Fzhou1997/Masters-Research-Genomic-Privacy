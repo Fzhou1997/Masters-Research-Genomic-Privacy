{
 "cells": [
  {
   "metadata": {},
   "cell_type": "code",
   "outputs": [],
   "execution_count": null,
   "source": [
    "import random\n",
    "from datetime import datetime"
   ],
   "id": "6be8de9a165f7967"
  },
  {
   "metadata": {},
   "cell_type": "code",
   "outputs": [],
   "execution_count": null,
   "source": "import torch",
   "id": "9678a88cdb64f98e"
  },
  {
   "metadata": {},
   "cell_type": "code",
   "outputs": [],
   "execution_count": null,
   "source": "from utils_random import set_random_seed",
   "id": "f05de7eef8ad2ae6"
  },
  {
   "metadata": {},
   "cell_type": "code",
   "outputs": [],
   "execution_count": null,
   "source": "model_id = datetime.now().strftime(\"%m%d%H%M\")",
   "id": "1b95408c029b87f7"
  },
  {
   "metadata": {},
   "cell_type": "code",
   "outputs": [],
   "execution_count": null,
   "source": "random_seed = random.randint(0, 2 ** 32 - 1)",
   "id": "c8bf978617a43f6"
  },
  {
   "metadata": {},
   "cell_type": "code",
   "outputs": [],
   "execution_count": null,
   "source": "set_random_seed(random_seed)",
   "id": "32b89c519b36ecde"
  },
  {
   "cell_type": "code",
   "execution_count": null,
   "id": "initial_id",
   "metadata": {
    "collapsed": true
   },
   "outputs": [],
   "source": "num_snps = random.choice([10000, 20000, 30000, 40000, 50000, 60000, 70000, 80000, 90000, 100000])"
  },
  {
   "metadata": {},
   "cell_type": "code",
   "outputs": [],
   "execution_count": null,
   "source": [
    "genome_batch_size = random.randint(16, 64)\n",
    "train_eval_test_split = [0.7, 0.15, 0.15]"
   ],
   "id": "7b54ad08427f8bee"
  },
  {
   "metadata": {},
   "cell_type": "code",
   "outputs": [],
   "execution_count": null,
   "source": [
    "conv_num_layers = random.randint(1, 8)\n",
    "conv_channel_size = [random.randint(16, 64) for _ in range(conv_num_layers)]\n",
    "conv_kernel_size = [random.randint(4, 32) for _ in range(conv_num_layers)]\n",
    "conv_stride = [random.randint(1, conv_kernel_size) for _ in range(conv_num_layers)]\n",
    "conv_dilation = [random.randint(1, 4) for _ in range(conv_num_layers)]\n",
    "conv_groups = [1 for _ in range(conv_num_layers)]\n",
    "\n",
    "conv_activation = random.choice(['relu', 'tanh', 'sigmoid', 'leaky_relu'])\n",
    "conv_activation_kwargs = [{} for _ in range(conv_num_layers)]\n",
    "\n",
    "conv_dropout_p = [random.uniform(0, 0.66) for _ in range(conv_num_layers - 1)]\n",
    "conv_dropout_first = [random.choice([True, False]) for _ in range(conv_num_layers - 1)]\n",
    "\n",
    "conv_batch_norm = [random.choice([True, False]) for _ in range(conv_num_layers)]\n",
    "conv_batch_norm_momentum = [random.uniform(0, 1) for _ in range(conv_num_layers)]"
   ],
   "id": "bde90a37963dbbea"
  },
  {
   "metadata": {},
   "cell_type": "code",
   "outputs": [],
   "execution_count": null,
   "source": [
    "conv_lstm_activation = random.choice(['relu', 'tanh', 'sigmoid', 'leaky_relu'])\n",
    "conv_lstm_activation_kwargs = {}\n",
    "\n",
    "conv_lstm_dropout_p = random.uniform(0, 0.66)\n",
    "conv_lstm_dropout_first = random.choice([True, False])\n",
    "\n",
    "conv_lstm_layer_norm = random.choice([True, False])"
   ],
   "id": "8aeab9d1d0f7a2fd"
  },
  {
   "metadata": {},
   "cell_type": "code",
   "outputs": [],
   "execution_count": null,
   "source": [
    "lstm_num_layers = random.randint(1, 4)\n",
    "lstm_input_size = conv_channel_size[-1]\n",
    "lstm_hidden_size = [random.randint(4, 64) for _ in range(lstm_num_layers)]\n",
    "lstm_proj_size = [0 for _ in range(lstm_num_layers)]\n",
    "lstm_bidirectional = [random.choice([True, False]) for _ in range(lstm_num_layers)]\n",
    "\n",
    "lstm_dropout_p = [random.uniform(0, 0.66) for _ in range(lstm_num_layers - 1)]\n",
    "lstm_dropout_first = [random.choice([True, False]) for _ in range(lstm_num_layers - 1)]\n",
    "\n",
    "lstm_layer_norm = [random.choice([True, False]) for _ in range(lstm_num_layers)]"
   ],
   "id": "b6efdabd4670bbe8"
  },
  {
   "metadata": {},
   "cell_type": "code",
   "outputs": [],
   "execution_count": null,
   "source": [
    "lstm_linear_dropout_p = random.uniform(0, 0.66)\n",
    "lstm_linear_first = random.choice([True, False])\n",
    "\n",
    "lstm_linear_batch_norm = random.choice([True, False])\n",
    "lstm_linear_batch_norm_momentum = random.uniform(0, 1)"
   ],
   "id": "ddba21d30f759917"
  },
  {
   "metadata": {},
   "cell_type": "code",
   "outputs": [],
   "execution_count": null,
   "source": [
    "linear_num_layers = random.randint(1, 4)\n",
    "linear_num_features = [lstm_hidden_size[-1] * (2 if any(lstm_bidirectional) else 1)] + [random.randint(4, 64) for _ in\n",
    "                                                                                        range(\n",
    "                                                                                            linear_num_layers - 2)] + [\n",
    "                          1]\n",
    "\n",
    "linear_activation = random.choice(['relu', 'tanh', 'sigmoid', 'leaky_relu'])\n",
    "linear_activation_kwargs = [{} for _ in range(linear_num_layers)]\n",
    "\n",
    "linear_dropout_p = [random.uniform(0, 0.66) for _ in range(linear_num_layers - 1)]\n",
    "linear_dropout_first = [random.choice([True, False]) for _ in range(linear_num_layers - 1)]\n",
    "\n",
    "linear_batch_norm = [random.choice([True, False]) for _ in range(linear_num_layers)]\n",
    "linear_batch_norm_momentum = [random.uniform(0, 1) for _ in range(linear_num_layers)]"
   ],
   "id": "c0e3cf349f1029c9"
  },
  {
   "metadata": {},
   "cell_type": "code",
   "outputs": [],
   "execution_count": null,
   "source": [
    "num_epochs = 256\n",
    "learning_rate = 0.001"
   ],
   "id": "fb0e5150c40fb622"
  },
  {
   "metadata": {},
   "cell_type": "code",
   "outputs": [],
   "execution_count": null,
   "source": [
    "models_dir = \"../models\"\n",
    "models_file = \"models.csv\"\n",
    "plots_dir = \"../plots\""
   ],
   "id": "ccfdf71826cd9254"
  },
  {
   "metadata": {},
   "cell_type": "code",
   "outputs": [],
   "execution_count": null,
   "source": [
    "if torch.backends.mps.is_available():\n",
    "    device = torch.device('mps')\n",
    "elif torch.cuda.is_available():\n",
    "    device = torch.device('cuda')\n",
    "else:\n",
    "    device = torch.device('cpu')"
   ],
   "id": "ca09a88e6f4c23e8"
  },
  {
   "metadata": {},
   "cell_type": "code",
   "outputs": [],
   "execution_count": null,
   "source": "",
   "id": "3b405bd8626bf420"
  }
 ],
 "metadata": {
  "kernelspec": {
   "display_name": "Python 3",
   "language": "python",
   "name": "python3"
  },
  "language_info": {
   "codemirror_mode": {
    "name": "ipython",
    "version": 2
   },
   "file_extension": ".py",
   "mimetype": "text/x-python",
   "name": "python",
   "nbconvert_exporter": "python",
   "pygments_lexer": "ipython2",
   "version": "2.7.6"
  }
 },
 "nbformat": 4,
 "nbformat_minor": 5
}
