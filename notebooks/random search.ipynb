{
 "cells": [
  {
   "metadata": {},
   "cell_type": "code",
   "outputs": [],
   "execution_count": null,
   "source": [
    "import random\n",
    "from datetime import datetime"
   ],
   "id": "6be8de9a165f7967"
  },
  {
   "metadata": {},
   "cell_type": "code",
   "outputs": [],
   "execution_count": null,
   "source": [
    "import torch\n",
    "from torch import nn"
   ],
   "id": "9678a88cdb64f98e"
  },
  {
   "metadata": {},
   "cell_type": "code",
   "outputs": [],
   "execution_count": null,
   "source": [
    "from utils_random import set_random_seed\n",
    "from utils_torch.data import stratified_random_split\n",
    "from utils_attacker_lstm.data import DatasetAttackerLSTMPool, DataLoaderAttackerLSTM\n",
    "from utils_attacker_lstm.models import ModelAttackerLSTMNew, TrainerAttackerLSTM, TesterAttackerLSTM, ManagerAttackerLSTM\n",
    "from utils_plot import plot_train_eval_loss_accuracy, plot_receiver_operating_characteristics_curve, plot_confusion_matrix"
   ],
   "id": "f05de7eef8ad2ae6"
  },
  {
   "metadata": {},
   "cell_type": "code",
   "outputs": [],
   "execution_count": null,
   "source": "model_id = datetime.now().strftime(\"%m%d%H%M\")",
   "id": "1b95408c029b87f7"
  },
  {
   "metadata": {},
   "cell_type": "code",
   "outputs": [],
   "execution_count": null,
   "source": "random_seed = random.randint(0, 2 ** 32 - 1)",
   "id": "c8bf978617a43f6"
  },
  {
   "metadata": {},
   "cell_type": "code",
   "outputs": [],
   "execution_count": null,
   "source": "set_random_seed(random_seed)",
   "id": "32b89c519b36ecde"
  },
  {
   "cell_type": "code",
   "execution_count": null,
   "id": "initial_id",
   "metadata": {
    "collapsed": true
   },
   "outputs": [],
   "source": [
    "num_snps = random.choice([10000, 20000, 30000, 40000, 50000, 60000, 70000, 80000, 90000, 100000])\n",
    "train_eval_test_split = [0.7, 0.15, 0.15]"
   ]
  },
  {
   "metadata": {},
   "cell_type": "code",
   "outputs": [],
   "execution_count": null,
   "source": [
    "genome_batch_size = random.randint(16, 64)\n",
    "snp_batch_size = num_snps"
   ],
   "id": "7b54ad08427f8bee"
  },
  {
   "metadata": {},
   "cell_type": "code",
   "outputs": [],
   "execution_count": null,
   "source": [
    "conv_num_layers = random.randint(1, 8)\n",
    "conv_channel_size = [random.randint(16, 64) for _ in range(conv_num_layers)]\n",
    "conv_kernel_size = [random.randint(4, 32) for _ in range(conv_num_layers)]\n",
    "conv_stride = [random.randint(1, conv_kernel_size) for _ in range(conv_num_layers)]\n",
    "conv_dilation = [random.randint(1, 4) for _ in range(conv_num_layers)]\n",
    "conv_groups = [1 for _ in range(conv_num_layers)]\n",
    "\n",
    "conv_activation = random.choice(['relu', 'tanh', 'sigmoid', 'leaky_relu'])\n",
    "conv_activation_kwargs = [{} for _ in range(conv_num_layers)]\n",
    "\n",
    "conv_dropout_p = [random.uniform(0, 0.66) for _ in range(conv_num_layers - 1)]\n",
    "conv_dropout_first = [random.choice([True, False]) for _ in range(conv_num_layers - 1)]\n",
    "\n",
    "conv_batch_norm = [random.choice([True, False]) for _ in range(conv_num_layers)]\n",
    "conv_batch_norm_momentum = [random.uniform(0, 1) for _ in range(conv_num_layers)]"
   ],
   "id": "bde90a37963dbbea"
  },
  {
   "metadata": {},
   "cell_type": "code",
   "outputs": [],
   "execution_count": null,
   "source": [
    "conv_lstm_activation = random.choice(['relu', 'tanh', 'sigmoid', 'leaky_relu'])\n",
    "conv_lstm_activation_kwargs = {}\n",
    "\n",
    "conv_lstm_dropout_p = random.uniform(0, 0.66)\n",
    "conv_lstm_dropout_first = random.choice([True, False])\n",
    "\n",
    "conv_lstm_layer_norm = random.choice([True, False])"
   ],
   "id": "8aeab9d1d0f7a2fd"
  },
  {
   "metadata": {},
   "cell_type": "code",
   "outputs": [],
   "execution_count": null,
   "source": [
    "lstm_num_layers = random.randint(1, 4)\n",
    "lstm_input_size = conv_channel_size[-1]\n",
    "lstm_hidden_size = [random.randint(4, 64) for _ in range(lstm_num_layers)]\n",
    "lstm_proj_size = [0 for _ in range(lstm_num_layers)]\n",
    "lstm_bidirectional = [random.choice([True, False]) for _ in range(lstm_num_layers)]\n",
    "\n",
    "lstm_dropout_p = [random.uniform(0, 0.66) for _ in range(lstm_num_layers - 1)]\n",
    "lstm_dropout_first = [random.choice([True, False]) for _ in range(lstm_num_layers - 1)]\n",
    "\n",
    "lstm_layer_norm = [random.choice([True, False]) for _ in range(lstm_num_layers)]"
   ],
   "id": "b6efdabd4670bbe8"
  },
  {
   "metadata": {},
   "cell_type": "code",
   "outputs": [],
   "execution_count": null,
   "source": [
    "lstm_linear_dropout_p = random.uniform(0, 0.66)\n",
    "lstm_linear_dropout_first = random.choice([True, False])\n",
    "\n",
    "lstm_linear_batch_norm = random.choice([True, False])\n",
    "lstm_linear_batch_norm_momentum = random.uniform(0, 1)"
   ],
   "id": "ddba21d30f759917"
  },
  {
   "metadata": {},
   "cell_type": "code",
   "outputs": [],
   "execution_count": null,
   "source": [
    "linear_num_layers = random.randint(1, 4)\n",
    "linear_num_features = [lstm_hidden_size[-1] * (2 if any(lstm_bidirectional) else 1)] + [random.randint(4, 64) for _ in\n",
    "                                                                                        range(\n",
    "                                                                                            linear_num_layers - 2)] + [\n",
    "                          1]\n",
    "\n",
    "linear_activation = random.choice(['relu', 'tanh', 'sigmoid', 'leaky_relu'])\n",
    "linear_activation_kwargs = [{} for _ in range(linear_num_layers)]\n",
    "\n",
    "linear_dropout_p = [random.uniform(0, 0.66) for _ in range(linear_num_layers - 1)]\n",
    "linear_dropout_first = [random.choice([True, False]) for _ in range(linear_num_layers - 1)]\n",
    "\n",
    "linear_batch_norm = [random.choice([True, False]) for _ in range(linear_num_layers)]\n",
    "linear_batch_norm_momentum = [random.uniform(0, 1) for _ in range(linear_num_layers)]"
   ],
   "id": "c0e3cf349f1029c9"
  },
  {
   "metadata": {},
   "cell_type": "code",
   "outputs": [],
   "execution_count": null,
   "source": [
    "num_epochs = 256\n",
    "learning_rate = 0.001"
   ],
   "id": "fb0e5150c40fb622"
  },
  {
   "metadata": {},
   "cell_type": "code",
   "outputs": [],
   "execution_count": null,
   "source": [
    "models_dir = \"../models\"\n",
    "models_file = \"models.csv\"\n",
    "plots_dir = \"../plots\""
   ],
   "id": "ccfdf71826cd9254"
  },
  {
   "metadata": {},
   "cell_type": "code",
   "outputs": [],
   "execution_count": null,
   "source": [
    "if torch.backends.mps.is_available():\n",
    "    device = torch.device('mps')\n",
    "elif torch.cuda.is_available():\n",
    "    device = torch.device('cuda')\n",
    "else:\n",
    "    device = torch.device('cpu')"
   ],
   "id": "ca09a88e6f4c23e8"
  },
  {
   "metadata": {},
   "cell_type": "code",
   "outputs": [],
   "execution_count": null,
   "source": [
    "dataset = DatasetAttackerLSTMPool(\n",
    "    genomes_pool_path=\"../data/test/In_Pop.pkl\",\n",
    "    genomes_reference_path=\"../data/test/Not_In_Pop.pkl.pkl\",\n",
    "    num_snps=num_snps)\n",
    "subset_train, subset_eval, subset_test = stratified_random_split(dataset=dataset,\n",
    "                                                                 ratios=train_eval_test_split)"
   ],
   "id": "3b405bd8626bf420"
  },
  {
   "metadata": {},
   "cell_type": "code",
   "outputs": [],
   "execution_count": null,
   "source": [
    "dataloader_train = DataLoaderAttackerLSTM(\n",
    "    dataset=subset_train,\n",
    "    genome_batch_size=genome_batch_size,\n",
    "    snp_batch_size=snp_batch_size,\n",
    "    shuffle=True)\n",
    "dataloader_eval = DataLoaderAttackerLSTM(\n",
    "    dataset=subset_eval,\n",
    "    genome_batch_size=genome_batch_size,\n",
    "    snp_batch_size=snp_batch_size,\n",
    "    shuffle=False)\n",
    "dataloader_test = DataLoaderAttackerLSTM(\n",
    "    dataset=subset_test,\n",
    "    genome_batch_size=genome_batch_size,\n",
    "    snp_batch_size=snp_batch_size,\n",
    "    shuffle=False)"
   ],
   "id": "dd53d97e5c293738"
  },
  {
   "metadata": {},
   "cell_type": "code",
   "outputs": [],
   "execution_count": null,
   "source": [
    "model = ModelAttackerLSTMNew(\n",
    "    conv_num_layers=conv_num_layers,\n",
    "    conv_channel_size=conv_channel_size,\n",
    "    conv_kernel_size=conv_kernel_size,\n",
    "    conv_stride=conv_stride,\n",
    "    conv_dilation=conv_dilation,\n",
    "    conv_groups=conv_groups,\n",
    "    conv_activation=conv_activation,\n",
    "    conv_activation_kwargs=conv_activation_kwargs,\n",
    "    conv_dropout_p=conv_dropout_p,\n",
    "    conv_dropout_first=conv_dropout_first,\n",
    "    conv_batch_norm=conv_batch_norm,\n",
    "    conv_batch_norm_momentum=conv_batch_norm_momentum,\n",
    "    conv_lstm_activation=conv_lstm_activation,\n",
    "    conv_lstm_activation_kwargs=conv_lstm_activation_kwargs,\n",
    "    conv_lstm_dropout_p=conv_lstm_dropout_p,\n",
    "    conv_lstm_dropout_first=conv_lstm_dropout_first,\n",
    "    conv_lstm_layer_norm=conv_lstm_layer_norm,\n",
    "    lstm_num_layers=lstm_num_layers,\n",
    "    lstm_input_size=lstm_input_size,\n",
    "    lstm_hidden_size=lstm_hidden_size,\n",
    "    lstm_proj_size=lstm_proj_size,\n",
    "    lstm_bidirectional=lstm_bidirectional,\n",
    "    lstm_dropout_p=lstm_dropout_p,\n",
    "    lstm_dropout_first=lstm_dropout_first,\n",
    "    lstm_layer_norm=lstm_layer_norm,\n",
    "    lstm_linear_dropout_p=lstm_linear_dropout_p,\n",
    "    lstm_linear_dropout_first=lstm_linear_dropout_first,\n",
    "    lstm_linear_batch_norm=lstm_linear_batch_norm,\n",
    "    lstm_linear_batch_norm_momentum=lstm_linear_batch_norm_momentum,\n",
    "    linear_num_layers=linear_num_layers,\n",
    "    linear_num_features=linear_num_features,\n",
    "    linear_activation=linear_activation,\n",
    "    linear_activation_kwargs=linear_activation_kwargs,\n",
    "    linear_dropout_p=linear_dropout_p,\n",
    "    linear_dropout_first=linear_dropout_first,\n",
    "    linear_batch_norm=linear_batch_norm,\n",
    "    linear_batch_norm_momentum=linear_batch_norm_momentum)\n",
    "model.to(device)"
   ],
   "id": "310fb8570ab8cf18"
  },
  {
   "metadata": {},
   "cell_type": "code",
   "outputs": [],
   "execution_count": null,
   "source": [
    "criterion = nn.BCEWithLogitsLoss()\n",
    "optimizer = torch.optim.Adam(params=model.parameters(), lr=learning_rate)\n",
    "scheduler = None"
   ],
   "id": "7fb087c0dd4eb813"
  },
  {
   "metadata": {},
   "cell_type": "code",
   "outputs": [],
   "execution_count": null,
   "source": [
    "trainer = TrainerAttackerLSTM(\n",
    "    model=model,\n",
    "    criterion=criterion,\n",
    "    optimizer=optimizer,\n",
    "    scheduler=scheduler,\n",
    "    train_loader=dataloader_train,\n",
    "    eval_loader=dataloader_eval,\n",
    "    device=device,\n",
    "    max_grad_norm=1.0,\n",
    "    norm_type=2\n",
    ")"
   ],
   "id": "12bb1296fad29192"
  },
  {
   "metadata": {},
   "cell_type": "code",
   "outputs": [],
   "execution_count": null,
   "source": [
    "tester = TesterAttackerLSTM(\n",
    "    model=model,\n",
    "    criterion=criterion,\n",
    "    test_loader=dataloader_test,\n",
    "    device=device\n",
    ")"
   ],
   "id": "bd5443e9ea1b41fa"
  },
  {
   "metadata": {},
   "cell_type": "code",
   "outputs": [],
   "execution_count": null,
   "source": [
    "manager = ManagerAttackerLSTM(\n",
    "    models_dir=models_dir,\n",
    "    models_file=models_file\n",
    ")"
   ],
   "id": "9a85e2915d630396"
  },
  {
   "metadata": {},
   "cell_type": "code",
   "outputs": [],
   "execution_count": null,
   "source": "trainer.train(num_epochs=num_epochs, verbose=True)",
   "id": "cbd7c2ba9f552d67"
  },
  {
   "metadata": {},
   "cell_type": "code",
   "outputs": [],
   "execution_count": null,
   "source": [
    "finish_time = datetime.now()\n",
    "best_eval_loss_epoch = trainer.best_eval_loss_epoch\n",
    "best_eval_loss = trainer.best_eval_loss\n",
    "best_eval_accuracy = trainer.eval_accuracies[best_eval_loss_epoch]\n",
    "\n",
    "print(f'Finished training at {finish_time}')\n",
    "print(f'Best evaluation loss epoch found at: {best_eval_loss_epoch}')\n",
    "print(f'Best evaluation loss found: {best_eval_loss:.4f}')\n",
    "print(f'Best evaluation accuracy found: {best_eval_accuracy:.4f}')"
   ],
   "id": "347fb3de88e31509"
  },
  {
   "metadata": {},
   "cell_type": "code",
   "outputs": [],
   "execution_count": null,
   "source": [
    "plot_train_eval_loss_accuracy(train_loss=trainer.train_losses,\n",
    "                              train_accuracy=trainer.train_accuracies,\n",
    "                              eval_loss=trainer.eval_losses,\n",
    "                              eval_accuracy=trainer.eval_accuracies,\n",
    "                              saved_epoch=best_eval_loss_epoch,\n",
    "                              output_path=plots_dir,\n",
    "                              output_file=f\"model_attacker_pool_{model_id}_train_eval_loss_acc.png\")"
   ],
   "id": "89eb30ca24dbe523"
  },
  {
   "metadata": {},
   "cell_type": "code",
   "outputs": [],
   "execution_count": null,
   "source": "tester.test()",
   "id": "821cfcb483be7e2d"
  },
  {
   "metadata": {},
   "cell_type": "code",
   "outputs": [],
   "execution_count": null,
   "source": [
    "print(f'Test loss: {tester.loss:.4f}')\n",
    "print(f'Test accuracy: {tester.accuracy_score:.2f}')\n",
    "print(f'Test precision: {tester.precision_score:.2f}')\n",
    "print(f'Test recall: {tester.recall_score:.2f}')\n",
    "print(f'Test f1: {tester.f1_score:.2f}')\n",
    "print(f'Test AUC: {tester.auroc_score:.2f}')"
   ],
   "id": "731589fee2a2e8ce"
  },
  {
   "metadata": {},
   "cell_type": "code",
   "outputs": [],
   "execution_count": null,
   "source": [
    "fpr, tpr, _ = tester.roc_curve\n",
    "plot_receiver_operating_characteristics_curve(false_positive_rates=fpr,\n",
    "                                              true_positive_rates=tpr,\n",
    "                                              auc=tester.auroc_score,\n",
    "                                              output_path=plots_dir,\n",
    "                                              output_file=f\"model_attacker_pool_{model_id}_roc_curve.png\")"
   ],
   "id": "b2f2cbd3e1a89f5c"
  },
  {
   "metadata": {},
   "cell_type": "code",
   "outputs": [],
   "execution_count": null,
   "source": [
    "plot_confusion_matrix(confusion_matrix=tester.confusion_matrix_scores,\n",
    "                      task=\"binary\",\n",
    "                      output_path=plots_dir,\n",
    "                      output_file=f\"model_attacker_pool_{model_id}_confusion_matrix.png\")"
   ],
   "id": "e80d9eca078c18ac"
  },
  {
   "metadata": {},
   "cell_type": "code",
   "outputs": [],
   "execution_count": null,
   "source": [
    "manager.add_model(\n",
    "    model_id=model_id,\n",
    "    random_seed=random_seed,\n",
    "    data=dataset,\n",
    "    loader=dataloader_train,\n",
    "    model=model,\n",
    "    trainer=trainer,\n",
    "    tester=tester\n",
    ")"
   ],
   "id": "4b8fd7118007ff"
  }
 ],
 "metadata": {
  "kernelspec": {
   "display_name": "Python 3",
   "language": "python",
   "name": "python3"
  },
  "language_info": {
   "codemirror_mode": {
    "name": "ipython",
    "version": 2
   },
   "file_extension": ".py",
   "mimetype": "text/x-python",
   "name": "python",
   "nbconvert_exporter": "python",
   "pygments_lexer": "ipython2",
   "version": "2.7.6"
  }
 },
 "nbformat": 4,
 "nbformat_minor": 5
}
