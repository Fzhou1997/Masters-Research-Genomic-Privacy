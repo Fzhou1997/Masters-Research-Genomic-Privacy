{
 "cells": [
  {
   "cell_type": "code",
   "id": "initial_id",
   "metadata": {
    "collapsed": true,
    "ExecuteTime": {
     "end_time": "2024-08-27T02:34:35.238723Z",
     "start_time": "2024-08-27T02:34:34.670534Z"
    }
   },
   "source": [
    "import os\n",
    "import warnings\n",
    "\n",
    "import pandas as pd\n",
    "from tqdm import tqdm\n",
    "\n",
    "from utils_data import IndividualGenome, SnpCounter"
   ],
   "outputs": [],
   "execution_count": 1
  },
  {
   "metadata": {
    "ExecuteTime": {
     "end_time": "2024-08-27T02:34:35.241973Z",
     "start_time": "2024-08-27T02:34:35.239912Z"
    }
   },
   "cell_type": "code",
   "source": "warnings.filterwarnings(\"ignore\", category=pd.errors.DtypeWarning)",
   "id": "70dba65064827cd8",
   "outputs": [],
   "execution_count": 2
  },
  {
   "metadata": {
    "ExecuteTime": {
     "end_time": "2024-08-27T02:36:48.054218Z",
     "start_time": "2024-08-27T02:36:48.049550Z"
    }
   },
   "cell_type": "code",
   "source": [
    "resources_dir = os.path.abspath('../res')\n",
    "build37_in_path = os.path.abspath('../data/ind_genomes/cleaned/37/')\n",
    "build37_in_files = os.listdir(build37_in_path)\n",
    "counter_path = os.path.abspath('../data/snp_count/raw/37/counter.csv')"
   ],
   "id": "82c54b92b3f5a40d",
   "outputs": [],
   "execution_count": 7
  },
  {
   "metadata": {
    "ExecuteTime": {
     "end_time": "2024-08-27T02:36:50.444594Z",
     "start_time": "2024-08-27T02:36:48.807560Z"
    }
   },
   "cell_type": "code",
   "source": [
    "counter = SnpCounter()\n",
    "for f in tqdm(build37_in_files):\n",
    "    genome = IndividualGenome(f)\n",
    "    counter.update(genome.get_snps())\n",
    "counter.save(counter_path)"
   ],
   "id": "2b276f42a7e6bb49",
   "outputs": [],
   "execution_count": 8
  },
  {
   "metadata": {},
   "cell_type": "code",
   "outputs": [],
   "execution_count": null,
   "source": "",
   "id": "b10e1ece67601b80"
  }
 ],
 "metadata": {
  "kernelspec": {
   "display_name": "Python 3",
   "language": "python",
   "name": "python3"
  },
  "language_info": {
   "codemirror_mode": {
    "name": "ipython",
    "version": 2
   },
   "file_extension": ".py",
   "mimetype": "text/x-python",
   "name": "python",
   "nbconvert_exporter": "python",
   "pygments_lexer": "ipython2",
   "version": "2.7.6"
  }
 },
 "nbformat": 4,
 "nbformat_minor": 5
}
