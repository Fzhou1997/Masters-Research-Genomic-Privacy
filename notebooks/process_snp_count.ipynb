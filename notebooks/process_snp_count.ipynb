{
 "cells": [
  {
   "cell_type": "code",
   "id": "initial_id",
   "metadata": {
    "collapsed": true,
    "ExecuteTime": {
     "end_time": "2024-08-27T14:00:35.555948Z",
     "start_time": "2024-08-27T14:00:35.168949Z"
    }
   },
   "source": [
    "import os\n",
    "import warnings\n",
    "\n",
    "import pandas as pd\n",
    "from tqdm import tqdm\n",
    "\n",
    "from utils_data import IndividualGenome, SnpCounter"
   ],
   "outputs": [],
   "execution_count": 1
  },
  {
   "metadata": {
    "ExecuteTime": {
     "end_time": "2024-08-27T14:00:35.559325Z",
     "start_time": "2024-08-27T14:00:35.556946Z"
    }
   },
   "cell_type": "code",
   "source": "warnings.filterwarnings(\"ignore\", category=pd.errors.DtypeWarning)",
   "id": "70dba65064827cd8",
   "outputs": [],
   "execution_count": 2
  },
  {
   "metadata": {
    "ExecuteTime": {
     "end_time": "2024-08-27T14:00:35.570169Z",
     "start_time": "2024-08-27T14:00:35.559325Z"
    }
   },
   "cell_type": "code",
   "source": [
    "resources_dir = os.path.abspath('../res')\n",
    "build37_in_path = os.path.abspath('../data/ind_genomes/cleaned/37/')\n",
    "build37_in_files = os.listdir(build37_in_path)\n",
    "counter_path = os.path.abspath('../data/snp_count/raw/37/counter.csv')"
   ],
   "id": "82c54b92b3f5a40d",
   "outputs": [],
   "execution_count": 3
  },
  {
   "metadata": {
    "ExecuteTime": {
     "end_time": "2024-08-27T16:29:04.840609Z",
     "start_time": "2024-08-27T14:00:35.570169Z"
    }
   },
   "cell_type": "code",
   "source": [
    "counter = SnpCounter()\n",
    "for f in tqdm(build37_in_files):\n",
    "    genome = IndividualGenome(f'{build37_in_path}/{f}')\n",
    "    counter.update(genome.get_snps())\n",
    "counter.save(counter_path)"
   ],
   "id": "2b276f42a7e6bb49",
   "outputs": [
    {
     "name": "stderr",
     "output_type": "stream",
     "text": [
      "100%|██████████| 5721/5721 [2:28:10<00:00,  1.55s/it]  \n"
     ]
    }
   ],
   "execution_count": 4
  },
  {
   "metadata": {
    "ExecuteTime": {
     "end_time": "2024-08-27T16:29:04.843725Z",
     "start_time": "2024-08-27T16:29:04.842117Z"
    }
   },
   "cell_type": "code",
   "source": "",
   "id": "b10e1ece67601b80",
   "outputs": [],
   "execution_count": 4
  }
 ],
 "metadata": {
  "kernelspec": {
   "display_name": "Python 3",
   "language": "python",
   "name": "python3"
  },
  "language_info": {
   "codemirror_mode": {
    "name": "ipython",
    "version": 2
   },
   "file_extension": ".py",
   "mimetype": "text/x-python",
   "name": "python",
   "nbconvert_exporter": "python",
   "pygments_lexer": "ipython2",
   "version": "2.7.6"
  }
 },
 "nbformat": 4,
 "nbformat_minor": 5
}
