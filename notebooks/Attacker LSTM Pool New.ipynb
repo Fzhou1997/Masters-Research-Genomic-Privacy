{
 "cells": [
  {
   "metadata": {},
   "cell_type": "markdown",
   "source": "## Import Libraries",
   "id": "a7b7e44464304f7a"
  },
  {
   "metadata": {},
   "cell_type": "markdown",
   "source": "### Python Libraries",
   "id": "9d8cf4afe950b0f"
  },
  {
   "cell_type": "code",
   "execution_count": null,
   "id": "initial_id",
   "metadata": {
    "collapsed": true
   },
   "outputs": [],
   "source": "from datetime import datetime"
  },
  {
   "metadata": {},
   "cell_type": "markdown",
   "source": "### External Libraries",
   "id": "6c0015685cde92d6"
  },
  {
   "metadata": {},
   "cell_type": "code",
   "outputs": [],
   "execution_count": null,
   "source": [
    "import numpy as np\n",
    "import torch\n",
    "import torch.nn as nn"
   ],
   "id": "c81833762007e814"
  },
  {
   "metadata": {},
   "cell_type": "markdown",
   "source": "### Custom Libraries",
   "id": "c29784b9d8f64f91"
  },
  {
   "metadata": {},
   "cell_type": "code",
   "outputs": [],
   "execution_count": null,
   "source": [
    "from utils_random import set_random_seed\n",
    "from utils_io import read_bitarrays\n",
    "from utils_torch.data import stratified_random_split\n",
    "from utils_attacker_lstm.data import DatasetAttackerLSTMPool, DataLoaderAttackerLSTM\n",
    "from utils_attacker_lstm.models import ModelAttackerConvLSTMLinear, TrainerAttackerLSTM, TesterAttackerLSTM, ManagerAttackerLSTM"
   ],
   "id": "a7079510746aa99d"
  },
  {
   "metadata": {},
   "cell_type": "markdown",
   "source": "## Set Parameters",
   "id": "6ec895d3bf12b80b"
  },
  {
   "metadata": {},
   "cell_type": "markdown",
   "source": "### Model Id",
   "id": "7713f6ce003c6e1e"
  },
  {
   "metadata": {},
   "cell_type": "code",
   "outputs": [],
   "execution_count": null,
   "source": "model_id = datetime.now().strftime('%m%d%H%M')",
   "id": "51d565423dc3b8de"
  },
  {
   "metadata": {},
   "cell_type": "code",
   "outputs": [],
   "execution_count": null,
   "source": "random_seed = 42",
   "id": "78c2bbfee2c6579c"
  },
  {
   "metadata": {},
   "cell_type": "markdown",
   "source": "### Data Params",
   "id": "2b5f5209e0eb0d73"
  },
  {
   "metadata": {},
   "cell_type": "code",
   "outputs": [],
   "execution_count": null,
   "source": [
    "num_snps = 40000\n",
    "train_eval_test_split = [0.7, 0.15, 0.15]"
   ],
   "id": "d9bcbc13ad4453b7"
  },
  {
   "metadata": {},
   "cell_type": "markdown",
   "source": "### Loader Params",
   "id": "f974bf1f786a5caf"
  },
  {
   "metadata": {},
   "cell_type": "code",
   "outputs": [],
   "execution_count": null,
   "source": [
    "genome_batch_size = 32\n",
    "snp_batch_size = 20000"
   ],
   "id": "84bde9044b3c68bf"
  },
  {
   "metadata": {},
   "cell_type": "markdown",
   "source": "### Model Params",
   "id": "9f1ea065e6c057eb"
  },
  {
   "metadata": {},
   "cell_type": "markdown",
   "source": "#### Conv1d Params",
   "id": "2391207ac50635e9"
  },
  {
   "metadata": {},
   "cell_type": "code",
   "outputs": [],
   "execution_count": null,
   "source": [
    "conv_num_layers = 1\n",
    "conv_channel_size = [3, 8]\n",
    "conv_kernel_size = [20]\n",
    "conv_stride = [2]\n",
    "conv_dilation = [1]\n",
    "conv_groups = [1]\n",
    "\n",
    "conv_activation = []\n",
    "conv_activation_kwargs = []\n",
    "\n",
    "conv_dropout_p = []\n",
    "conv_dropout_first = []\n",
    "\n",
    "conv_batch_norm = []\n",
    "conv_batch_norm_momentum = []"
   ],
   "id": "796bd8bb6de32599"
  },
  {
   "metadata": {},
   "cell_type": "markdown",
   "source": "#### Conv1d to LSTM Params",
   "id": "8e07c2837ae26bd7"
  },
  {
   "metadata": {},
   "cell_type": "code",
   "outputs": [],
   "execution_count": null,
   "source": [
    "conv_lstm_activation = nn.ReLU\n",
    "conv_lstm_activation_kwargs = {}\n",
    "conv_lstm_dropout_p = 0.5\n",
    "conv_lstm_dropout_first = True\n",
    "conv_lstm_layer_norm = True"
   ],
   "id": "537a72508b85a658"
  },
  {
   "metadata": {},
   "cell_type": "markdown",
   "source": "#### LSTM Params",
   "id": "5162b2e344f83fc"
  },
  {
   "metadata": {},
   "cell_type": "code",
   "outputs": [],
   "execution_count": null,
   "source": [
    "lstm_num_layers = 1\n",
    "lstm_input_size = 8\n",
    "lstm_hidden_size = [16]\n",
    "lstm_proj_size = [0]\n",
    "lstm_bidirectional = [False]\n",
    "\n",
    "lstm_dropout_p = []\n",
    "lstm_dropout_first = []\n",
    "\n",
    "lstm_layer_norm = []"
   ],
   "id": "326f09850324570e"
  },
  {
   "metadata": {},
   "cell_type": "markdown",
   "source": "#### LSTM to Linear Params",
   "id": "44ae38c99b6aa85b"
  },
  {
   "metadata": {},
   "cell_type": "code",
   "outputs": [],
   "execution_count": null,
   "source": [
    "lstm_linear_dropout_p = 0.25\n",
    "lstm_linear_dropout_first = True\n",
    "\n",
    "lstm_linear_batch_norm = True\n",
    "lstm_linear_batch_norm_momentum = 0.1"
   ],
   "id": "7c8506081458c530"
  },
  {
   "metadata": {},
   "cell_type": "markdown",
   "source": "#### Linear Params",
   "id": "355130bc32a55c8d"
  },
  {
   "metadata": {},
   "cell_type": "code",
   "outputs": [],
   "execution_count": null,
   "source": [
    "linear_num_layers = 1\n",
    "linear_num_features = [16, 1]\n",
    "\n",
    "linear_activation = []\n",
    "linear_activation_kwargs = []\n",
    "\n",
    "linear_dropout_p = []\n",
    "linear_dropout_first = []\n",
    "\n",
    "linear_batch_norm = []\n",
    "linear_batch_norm_momentum = []"
   ],
   "id": "e68ebad2c8b2ae6a"
  },
  {
   "metadata": {},
   "cell_type": "markdown",
   "source": "### Trainer Params",
   "id": "4899d3e43b6cbcc9"
  },
  {
   "metadata": {},
   "cell_type": "code",
   "outputs": [],
   "execution_count": null,
   "source": [
    "num_epochs = 256\n",
    "learning_rate = 0.001"
   ],
   "id": "c87d5d53f44b8bc7"
  },
  {
   "metadata": {},
   "cell_type": "markdown",
   "source": "## Set Torch Device",
   "id": "b02437072bd61f7"
  },
  {
   "metadata": {},
   "cell_type": "code",
   "outputs": [],
   "execution_count": null,
   "source": [
    "if torch.backends.mps.is_available():\n",
    "    device = torch.device('mps')\n",
    "elif torch.cuda.is_available():\n",
    "    device = torch.device('cuda')\n",
    "else:\n",
    "    device = torch.device('cpu')"
   ],
   "id": "1cb642c604c1098d"
  },
  {
   "metadata": {},
   "cell_type": "markdown",
   "source": "## Set Random Seed",
   "id": "5391a0a68c0afb04"
  },
  {
   "metadata": {},
   "cell_type": "code",
   "outputs": [],
   "execution_count": null,
   "source": "set_random_seed(random_seed)",
   "id": "dfed5e45a302df45"
  },
  {
   "metadata": {},
   "cell_type": "markdown",
   "source": "## Load Data",
   "id": "2386d88a7f9061b2"
  },
  {
   "metadata": {},
   "cell_type": "markdown",
   "source": "### Load Genomes",
   "id": "d91c0b5cb2ecf50b"
  },
  {
   "metadata": {},
   "cell_type": "code",
   "outputs": [],
   "execution_count": null,
   "source": [
    "genomes_pool = read_bitarrays('../data/test/In_Pop.pkl')[:, :num_snps]\n",
    "genomes_reference = read_bitarrays('../data/test/Not_In_Pop.pkl')[:, :num_snps]\n",
    "genomes = np.concatenate((genomes_pool, genomes_reference), axis=0)"
   ],
   "id": "8c4b51e2a71503d7"
  },
  {
   "metadata": {},
   "cell_type": "markdown",
   "source": "### Load Labels",
   "id": "be2aff9bc4e6360e"
  },
  {
   "metadata": {},
   "cell_type": "code",
   "outputs": [],
   "execution_count": null,
   "source": [
    "labels_beacon = np.ones(genomes_pool.shape[0], dtype=bool)\n",
    "labels_reference = np.zeros(genomes_reference.shape[0], dtype=bool)\n",
    "labels = np.concatenate((labels_beacon, labels_reference), axis=0).astype(bool)"
   ],
   "id": "ac4c99cd1ee93eb7"
  },
  {
   "metadata": {},
   "cell_type": "markdown",
   "source": "### Compute Frequencies",
   "id": "cc5bef3ad486f59a"
  },
  {
   "metadata": {},
   "cell_type": "code",
   "outputs": [],
   "execution_count": null,
   "source": [
    "frequencies_pool = np.mean(genomes_pool, axis=0)\n",
    "frequencies_reference = np.mean(genomes_reference, axis=0)"
   ],
   "id": "6107f26dde682508"
  },
  {
   "metadata": {},
   "cell_type": "markdown",
   "source": "## Create Dataset",
   "id": "7c2bc9e3cb930343"
  },
  {
   "metadata": {},
   "cell_type": "code",
   "outputs": [],
   "execution_count": null,
   "source": [
    "dataset = DatasetAttackerLSTMPool(\n",
    "    target_genomes=genomes,\n",
    "    pool_frequencies=frequencies_pool,\n",
    "    reference_frequencies=frequencies_reference,\n",
    "    targets=labels)\n",
    "subset_train, subset_eval, subset_test = stratified_random_split(dataset, train_eval_test_split)"
   ],
   "id": "ccb194f1068e326c"
  },
  {
   "metadata": {},
   "cell_type": "markdown",
   "source": "## Create DataLoaders",
   "id": "8501e2153e140cd9"
  },
  {
   "metadata": {},
   "cell_type": "code",
   "outputs": [],
   "execution_count": null,
   "source": [
    "loader_train = DataLoaderAttackerLSTM(subset_train, genome_batch_size, snp_batch_size, shuffle=True)\n",
    "loader_eval = DataLoaderAttackerLSTM(subset_eval, genome_batch_size, snp_batch_size, shuffle=False)\n",
    "loader_test = DataLoaderAttackerLSTM(subset_test, genome_batch_size, snp_batch_size, shuffle=False)"
   ],
   "id": "89f0d57a2235320e"
  },
  {
   "metadata": {},
   "cell_type": "markdown",
   "source": "## Create Model",
   "id": "116a2c0c1acf995e"
  },
  {
   "metadata": {},
   "cell_type": "code",
   "outputs": [],
   "execution_count": null,
   "source": [
    "model = ModelAttackerConvLSTMLinear(\n",
    "    conv_num_layers=conv_num_layers,\n",
    "    conv_channel_size=conv_channel_size,\n",
    "    conv_kernel_size=conv_kernel_size,\n",
    "    conv_stride=conv_stride,\n",
    "    conv_dilation=conv_dilation,\n",
    "    conv_groups=conv_groups,\n",
    "    conv_activation=conv_activation,\n",
    "    conv_activation_kwargs=conv_activation_kwargs,\n",
    "    conv_dropout_p=conv_dropout_p,\n",
    "    conv_dropout_first=conv_dropout_first,\n",
    "    conv_batch_norm=conv_batch_norm,\n",
    "    conv_batch_norm_momentum=conv_batch_norm_momentum,\n",
    "    conv_lstm_activation=conv_lstm_activation,\n",
    "    conv_lstm_activation_kwargs=conv_lstm_activation_kwargs,\n",
    "    conv_lstm_dropout_p=conv_lstm_dropout_p,\n",
    "    conv_lstm_dropout_first=conv_lstm_dropout_first,\n",
    "    conv_lstm_layer_norm=conv_lstm_layer_norm,\n",
    "    lstm_num_layers=lstm_num_layers,\n",
    "    lstm_input_size=lstm_input_size,\n",
    "    lstm_hidden_size=lstm_hidden_size,\n",
    "    lstm_proj_size=lstm_proj_size,\n",
    "    lstm_bidirectional=lstm_bidirectional,\n",
    "    lstm_dropout_p=lstm_dropout_p,\n",
    "    lstm_dropout_first=lstm_dropout_first,\n",
    "    lstm_layer_norm=lstm_layer_norm,\n",
    "    lstm_linear_dropout_p=lstm_linear_dropout_p,\n",
    "    lstm_linear_dropout_first=lstm_linear_dropout_first,\n",
    "    lstm_linear_batch_norm=lstm_linear_batch_norm,\n",
    "    lstm_linear_batch_norm_momentum=lstm_linear_batch_norm_momentum,\n",
    "    linear_num_layers=linear_num_layers,\n",
    "    linear_num_features=linear_num_features,\n",
    "    linear_activation=linear_activation,\n",
    "    linear_activation_kwargs=linear_activation_kwargs,\n",
    "    linear_dropout_p=linear_dropout_p,\n",
    "    linear_dropout_first=linear_dropout_first,\n",
    "    linear_batch_norm=linear_batch_norm,\n",
    "    linear_batch_norm_momentum=linear_batch_norm_momentum\n",
    ")\n",
    "model.to(device)"
   ],
   "id": "3d2618ec60cd9846"
  },
  {
   "metadata": {},
   "cell_type": "markdown",
   "source": "## Create Trainer",
   "id": "89ef84c555981c50"
  },
  {
   "metadata": {},
   "cell_type": "markdown",
   "source": "### Create Criterion and Optimizer",
   "id": "a5f5ae80888cace9"
  },
  {
   "metadata": {},
   "cell_type": "code",
   "outputs": [],
   "execution_count": null,
   "source": [
    "criterion = nn.BCEWithLogitsLoss()\n",
    "optimizer = torch.optim.Adam(model.parameters(), lr=learning_rate)"
   ],
   "id": "8d056d32d35eb3af"
  },
  {
   "metadata": {},
   "cell_type": "markdown",
   "source": "### Create Trainer",
   "id": "aa1fdd472d2395d2"
  },
  {
   "metadata": {},
   "cell_type": "code",
   "outputs": [],
   "execution_count": null,
   "source": [
    "trainer = TrainerAttackerLSTM(\n",
    "    model=model,\n",
    "    criterion=criterion,\n",
    "    optimizer=optimizer,\n",
    "    train_loader=loader_train,\n",
    "    eval_loader=loader_eval,\n",
    "    device=device,\n",
    "    max_grad_norm=1.0,\n",
    "    norm_type=2\n",
    ")"
   ],
   "id": "4fddc2b5a1d42fc0"
  },
  {
   "metadata": {},
   "cell_type": "markdown",
   "source": "## Create Tester",
   "id": "4c845ab80dc45c38"
  },
  {
   "metadata": {},
   "cell_type": "code",
   "outputs": [],
   "execution_count": null,
   "source": [
    "tester = TesterAttackerLSTM(\n",
    "    model=model,\n",
    "    criterion=criterion,\n",
    "    test_loader=loader_test,\n",
    "    device=device\n",
    ")"
   ],
   "id": "d8ecd2c4a14f7937"
  },
  {
   "metadata": {},
   "cell_type": "markdown",
   "source": "## Create Manager",
   "id": "f90f534b0dd78a9d"
  },
  {
   "metadata": {},
   "cell_type": "code",
   "outputs": [],
   "execution_count": null,
   "source": [
    "manager = ManagerAttackerLSTM(\n",
    "    models_dir='../models/',\n",
    "    models_file=None\n",
    ")"
   ],
   "id": "1c75c0e8dc68c290"
  },
  {
   "metadata": {},
   "cell_type": "markdown",
   "source": "## Train Model",
   "id": "f546d3d0142aa65"
  },
  {
   "metadata": {},
   "cell_type": "markdown",
   "source": "### Train Model",
   "id": "9f5aa03bb3d300b9"
  },
  {
   "metadata": {},
   "cell_type": "code",
   "outputs": [],
   "execution_count": null,
   "source": "trainer.train(num_epochs=num_epochs, verbose=True)",
   "id": "98b4e83ad4186253"
  },
  {
   "metadata": {},
   "cell_type": "markdown",
   "source": "### Print Metrics",
   "id": "5d9bdab880ffe0e5"
  },
  {
   "metadata": {},
   "cell_type": "code",
   "outputs": [],
   "execution_count": null,
   "source": [
    "finish_time = datetime.now()\n",
    "best_eval_loss_epoch = trainer.best_eval_loss_epoch\n",
    "best_eval_loss = trainer.best_eval_loss\n",
    "best_eval_accuracy = trainer.eval_accuracies[best_eval_loss_epoch]\n",
    "\n",
    "print(f'Finished training at {finish_time}')\n",
    "print(f'Best evaluation loss epoch found at: {best_eval_loss_epoch}')\n",
    "print(f'Best evaluation loss found: {best_eval_loss:.4f}')\n",
    "print(f'Best evaluation accuracy found: {best_eval_accuracy:.4f}')"
   ],
   "id": "8e8ec64e8de7cfb9"
  },
  {
   "metadata": {},
   "cell_type": "markdown",
   "source": "## Test Model",
   "id": "3d50b35f8b1d9882"
  },
  {
   "metadata": {},
   "cell_type": "markdown",
   "source": "### Test Model",
   "id": "b2126f8fdab8dad8"
  },
  {
   "metadata": {},
   "cell_type": "code",
   "outputs": [],
   "execution_count": null,
   "source": "tester.test()",
   "id": "70d47e25df917204"
  },
  {
   "metadata": {},
   "cell_type": "markdown",
   "source": "### Print Metrics",
   "id": "142af79c95fa3baa"
  },
  {
   "metadata": {},
   "cell_type": "code",
   "outputs": [],
   "execution_count": null,
   "source": [
    "print(f'Test loss: {tester.test_loss:.4f}')\n",
    "print(f'Test accuracy: {tester.test_accuracy:.2f}')\n",
    "print(f'Test precision: {tester.test_precision:.2f}')\n",
    "print(f'Test recall: {tester.test_recall:.2f}')\n",
    "print(f'Test f1: {tester.test_f1:.2f}')\n",
    "print(f'Test AUC: {tester.test_auc:.2f}')"
   ],
   "id": "ae825dd14a94c72f"
  },
  {
   "metadata": {},
   "cell_type": "markdown",
   "source": "## Save Model\n",
   "id": "4e09410733ef6cb"
  },
  {
   "metadata": {},
   "cell_type": "code",
   "outputs": [],
   "execution_count": null,
   "source": [
    "manager.add_model(\n",
    "    model_id=model_id,\n",
    "    data=dataset,\n",
    "    loader=loader_train,\n",
    "    model=model,\n",
    "    trainer=trainer,\n",
    "    tester=tester\n",
    ")"
   ],
   "id": "517eb3691eb16b12"
  },
  {
   "metadata": {},
   "cell_type": "markdown",
   "source": "",
   "id": "ade9f1c1a5771c2b"
  }
 ],
 "metadata": {
  "kernelspec": {
   "display_name": "Python 3",
   "language": "python",
   "name": "python3"
  },
  "language_info": {
   "codemirror_mode": {
    "name": "ipython",
    "version": 2
   },
   "file_extension": ".py",
   "mimetype": "text/x-python",
   "name": "python",
   "nbconvert_exporter": "python",
   "pygments_lexer": "ipython2",
   "version": "2.7.6"
  }
 },
 "nbformat": 4,
 "nbformat_minor": 5
}
