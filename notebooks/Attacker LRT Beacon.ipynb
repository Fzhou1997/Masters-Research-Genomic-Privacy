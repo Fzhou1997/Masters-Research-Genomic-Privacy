{
 "cells": [
  {
   "metadata": {},
   "cell_type": "markdown",
   "source": [
    "<H1 align=\"middle\"> Likelihood Ratio Test for Membership Inference Attack on Beacon Data </H1>\n",
    "\n",
    "<br>\n",
    "<strong> This notebook performs a likelihood ratio test-based membership inference attack on the Beacon data for a single sequence length. </strong>"
   ],
   "id": "47ff963d16325e86"
  },
  {
   "metadata": {},
   "cell_type": "markdown",
   "source": "## 1. Importing Required Libraries",
   "id": "fb7468c48689973e"
  },
  {
   "cell_type": "code",
   "id": "initial_id",
   "metadata": {
    "collapsed": true
   },
   "source": [
    "import numpy as np\n",
    "from sklearn.metrics import accuracy_score, precision_score, recall_score, f1_score, roc_auc_score, roc_curve\n",
    "\n",
    "from src.utils_attacker_lrt import likelihood_ratio_statistic_beacon_optimized, likelihood_ratio_test_threshold, \\\n",
    "    likelihood_ratio_test\n",
    "from src.utils_io import read_bitarrays\n",
    "from src.utils_plot import plot_likelihood_ratio_statistics, plot_receiver_operating_characteristics_curve"
   ],
   "outputs": [],
   "execution_count": null
  },
  {
   "metadata": {},
   "cell_type": "markdown",
   "source": "## 2. Setting Parameters",
   "id": "9759d537308f9b04"
  },
  {
   "metadata": {},
   "cell_type": "code",
   "source": [
    "false_positive_rate = 0.05\n",
    "num_snps = 1338843"
   ],
   "id": "38e96bdda4ccb0e9",
   "outputs": [],
   "execution_count": null
  },
  {
   "metadata": {},
   "cell_type": "markdown",
   "source": "## 3. Reading Data",
   "id": "ea20de02c792d72f"
  },
  {
   "metadata": {},
   "cell_type": "code",
   "source": [
    "genomes_beacon = read_bitarrays(\"../data/test/In_Pop.pkl\")[:, :num_snps]\n",
    "genomes_reference = read_bitarrays(\"../data/test/Not_In_Pop.pkl\")[:, :num_snps]\n",
    "genomes = np.concatenate((genomes_beacon, genomes_reference), axis=0)"
   ],
   "id": "e8a7362eda39e395",
   "outputs": [],
   "execution_count": null
  },
  {
   "metadata": {},
   "cell_type": "markdown",
   "source": "## 4. Labeling Data",
   "id": "84e55929c518ab6f"
  },
  {
   "metadata": {},
   "cell_type": "code",
   "source": [
    "labels_beacon = np.ones(genomes_beacon.shape[0], dtype=bool)\n",
    "labels_reference = np.zeros(genomes_reference.shape[0], dtype=bool)\n",
    "labels = np.concatenate((labels_beacon, labels_reference), axis=0)"
   ],
   "id": "4546087ab0ac07a4",
   "outputs": [],
   "execution_count": null
  },
  {
   "metadata": {},
   "cell_type": "markdown",
   "source": "## 5. Computing Beacon Responses and Auxiliary Variables",
   "id": "b5f84de54fcc8f21"
  },
  {
   "metadata": {},
   "cell_type": "code",
   "source": [
    "minor_allele_presences_beacon = np.any(genomes_beacon, axis=0)\n",
    "minor_allele_frequencies_reference = np.mean(genomes, axis=0)"
   ],
   "id": "2a684417fc899168",
   "outputs": [],
   "execution_count": null
  },
  {
   "metadata": {},
   "cell_type": "markdown",
   "source": "## 6. Computing Likelihood Ratio Statistics",
   "id": "fef1ced6f0da6b4b"
  },
  {
   "metadata": {},
   "cell_type": "code",
   "source": [
    "likelihood_ratio_statistics_beacon = likelihood_ratio_statistic_beacon_optimized(\n",
    "    target_genomes=genomes_beacon,\n",
    "    beacon_presences=minor_allele_presences_beacon,\n",
    "    reference_frequencies=minor_allele_frequencies_reference,\n",
    "    num_beacon_genomes=genomes_beacon.shape[0])\n",
    "likelihood_ratio_statistics_reference = likelihood_ratio_statistic_beacon_optimized(\n",
    "    target_genomes=genomes_reference,\n",
    "    beacon_presences=minor_allele_presences_beacon,\n",
    "    reference_frequencies=minor_allele_frequencies_reference,\n",
    "    num_beacon_genomes=genomes_beacon.shape[0])\n",
    "likelihood_ratio_statistics = np.concatenate(\n",
    "    (likelihood_ratio_statistics_beacon, likelihood_ratio_statistics_reference), axis=0)"
   ],
   "id": "b8560b78046102ca",
   "outputs": [],
   "execution_count": null
  },
  {
   "metadata": {},
   "cell_type": "markdown",
   "source": "## 7. Computing Likelihood Ratio Test Threshold",
   "id": "2e6099f7166c0e16"
  },
  {
   "metadata": {},
   "cell_type": "code",
   "source": [
    "threshold = likelihood_ratio_test_threshold(\n",
    "    likelihood_ratio_statistics=likelihood_ratio_statistics,\n",
    "    labels=labels,\n",
    "    false_positive_rate=false_positive_rate)"
   ],
   "id": "70d58ae8fb25b42a",
   "outputs": [],
   "execution_count": null
  },
  {
   "metadata": {},
   "cell_type": "markdown",
   "source": "## 8. Plotting Likelihood Ratio Statistics",
   "id": "e59fe1bd17bb11"
  },
  {
   "metadata": {},
   "cell_type": "code",
   "source": [
    "plot_likelihood_ratio_statistics(\n",
    "    likelihood_ratio_statistics=likelihood_ratio_statistics,\n",
    "    membership_labels=labels,\n",
    "    threshold=threshold)"
   ],
   "id": "6263dc749cbe0b2c",
   "outputs": [],
   "execution_count": null
  },
  {
   "metadata": {},
   "cell_type": "markdown",
   "source": "## 9. Performing Likelihood Ratio Test",
   "id": "cdc1314c7f7e8ee1"
  },
  {
   "metadata": {},
   "cell_type": "code",
   "source": [
    "inverted = np.mean(likelihood_ratio_statistics_beacon) < np.mean(likelihood_ratio_statistics_reference)\n",
    "predicted = likelihood_ratio_test(\n",
    "    likelihood_ratio_statistics=likelihood_ratio_statistics,\n",
    "    threshold=threshold,\n",
    "    inverted=inverted)"
   ],
   "id": "aa0d7c1b0d76a64",
   "outputs": [],
   "execution_count": null
  },
  {
   "metadata": {},
   "cell_type": "markdown",
   "source": "## 10. Computing Metrics",
   "id": "14849fc2431a09e9"
  },
  {
   "metadata": {},
   "cell_type": "code",
   "source": [
    "accuracy = accuracy_score(labels, predicted)\n",
    "precision = precision_score(labels, predicted)\n",
    "recall = recall_score(labels, predicted)\n",
    "f1 = f1_score(labels, predicted)\n",
    "roc_auc = roc_auc_score(labels, 1 - likelihood_ratio_statistics)\n",
    "print(f\"Accuracy: {accuracy:.2f}\")\n",
    "print(f\"Precision: {precision:.2f}\")\n",
    "print(f\"Recall: {recall:.2f}\")\n",
    "print(f\"F1: {f1:.2f}\")\n",
    "print(f\"ROC AUC: {roc_auc:.2f}\")"
   ],
   "id": "1c4b7c6fd0fd223a",
   "outputs": [],
   "execution_count": null
  },
  {
   "metadata": {},
   "cell_type": "markdown",
   "source": "## 11. Plotting Receiver Operating Characteristics Curve",
   "id": "8a23b41cf50a5f99"
  },
  {
   "metadata": {},
   "cell_type": "code",
   "source": [
    "fpr, tpr, _ = roc_curve(labels, 1 - likelihood_ratio_statistics)\n",
    "plot_receiver_operating_characteristics_curve(fpr, tpr)"
   ],
   "id": "56bff06eeada7c13",
   "outputs": [],
   "execution_count": null
  }
 ],
 "metadata": {
  "kernelspec": {
   "display_name": "Python 3",
   "language": "python",
   "name": "python3"
  },
  "language_info": {
   "codemirror_mode": {
    "name": "ipython",
    "version": 2
   },
   "file_extension": ".py",
   "mimetype": "text/x-python",
   "name": "python",
   "nbconvert_exporter": "python",
   "pygments_lexer": "ipython2",
   "version": "2.7.6"
  }
 },
 "nbformat": 4,
 "nbformat_minor": 5
}
