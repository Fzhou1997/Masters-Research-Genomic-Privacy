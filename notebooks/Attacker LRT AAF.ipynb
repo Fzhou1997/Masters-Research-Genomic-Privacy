{
 "cells": [
  {
   "metadata": {},
   "cell_type": "markdown",
   "source": [
    "<H1 align=\"center\">Likelihood Ratio Test for Membership Inference Attack on AAF Data</H1>\n",
    "\n",
    "<br>\n",
    "<strong>This notebook performs a likelihood ratio test-based membership inference attack on the AAF data for a single sequence length</strong>"
   ],
   "id": "e344a552a84e2a4"
  },
  {
   "metadata": {},
   "cell_type": "markdown",
   "source": "## 1. Importing Required Libraries",
   "id": "7cb4185f54e2d7a0"
  },
  {
   "metadata": {},
   "cell_type": "code",
   "source": [
    "import numpy as np\n",
    "from sklearn.metrics import accuracy_score, precision_score, recall_score, f1_score, roc_auc_score, roc_curve\n",
    "\n",
    "from src.utils_attacker_lrt import likelihood_ratio_statistic_pool_haploid_approximate, likelihood_ratio_test_threshold, \\\n",
    "    likelihood_ratio_test\n",
    "from src.utils_io import read_bitarrays\n",
    "from src.utils_plot import plot_likelihood_ratio_statistics, plot_receiver_operating_characteristics_curve"
   ],
   "id": "cb000e8ea43e0fd7",
   "outputs": [],
   "execution_count": null
  },
  {
   "metadata": {},
   "cell_type": "markdown",
   "source": "## 2. Setting Parameters",
   "id": "b7ada9a50a3872db"
  },
  {
   "cell_type": "code",
   "id": "initial_id",
   "metadata": {
    "collapsed": true
   },
   "source": [
    "false_positive_rate = 0.05\n",
    "num_snps = 1338843"
   ],
   "outputs": [],
   "execution_count": null
  },
  {
   "metadata": {},
   "cell_type": "markdown",
   "source": "## 3. Reading Data",
   "id": "f06e9f966863c571"
  },
  {
   "metadata": {},
   "cell_type": "code",
   "source": [
    "genomes_pool = read_bitarrays(\"../data/test/In_Pop.pkl\")[:, :num_snps]\n",
    "genomes_reference = read_bitarrays(\"../data/test/Not_In_Pop.pkl\")[:, :num_snps]\n",
    "genomes = np.concatenate((genomes_pool, genomes_reference), axis=0)"
   ],
   "id": "e9e755011cc32df9",
   "outputs": [],
   "execution_count": null
  },
  {
   "metadata": {},
   "cell_type": "markdown",
   "source": "## 4. Labeling Data",
   "id": "4964bc8b6eb4e72a"
  },
  {
   "metadata": {},
   "cell_type": "code",
   "source": [
    "labels_pool = np.ones(genomes_pool.shape[0], dtype=bool)\n",
    "labels_reference = np.zeros(genomes_reference.shape[0], dtype=bool)\n",
    "labels = np.concatenate((labels_pool, labels_reference), axis=0).astype(bool)"
   ],
   "id": "5fc6765d0b09ad97",
   "outputs": [],
   "execution_count": null
  },
  {
   "metadata": {},
   "cell_type": "markdown",
   "source": "## 5. Computing AAF Pool Responses and Auxiliary Variables",
   "id": "61809ae54003c663"
  },
  {
   "metadata": {},
   "cell_type": "code",
   "source": [
    "minor_allele_frequencies_pool = np.mean(genomes_pool, axis=0)\n",
    "minor_allele_frequencies_reference = np.mean(genomes_reference, axis=0)"
   ],
   "id": "de9e79177c9e4108",
   "outputs": [],
   "execution_count": null
  },
  {
   "metadata": {},
   "cell_type": "markdown",
   "source": "## 6. Computing Likelihood Ratio Statistics",
   "id": "9a93bcc42fe05f52"
  },
  {
   "metadata": {},
   "cell_type": "code",
   "source": [
    "likelihood_ratio_statistics_pool = likelihood_ratio_statistic_pool_haploid_approximate(\n",
    "    target_genomes=genomes_pool,\n",
    "    pool_frequencies=minor_allele_frequencies_pool,\n",
    "    reference_frequencies=minor_allele_frequencies_reference)\n",
    "likelihood_ratio_statistics_reference = likelihood_ratio_statistic_pool_haploid_approximate(\n",
    "    target_genomes=genomes_reference,\n",
    "    pool_frequencies=minor_allele_frequencies_pool,\n",
    "    reference_frequencies=minor_allele_frequencies_reference)\n",
    "likelihood_ratio_statistics = np.concatenate((likelihood_ratio_statistics_pool, likelihood_ratio_statistics_reference),\n",
    "                                             axis=0)"
   ],
   "id": "9840980991052792",
   "outputs": [],
   "execution_count": null
  },
  {
   "metadata": {},
   "cell_type": "markdown",
   "source": "## 7. Computing Likelihood Ratio Test Threshold",
   "id": "9aebf2c8f684cb3"
  },
  {
   "metadata": {},
   "cell_type": "code",
   "source": [
    "threshold = likelihood_ratio_test_threshold(\n",
    "    likelihood_ratio_statistics=likelihood_ratio_statistics,\n",
    "    labels=labels,\n",
    "    false_positive_rate=false_positive_rate)"
   ],
   "id": "dd0024aa8ef76886",
   "outputs": [],
   "execution_count": null
  },
  {
   "metadata": {},
   "cell_type": "markdown",
   "source": "## 8. Plotting Likelihood Ratio Statistics",
   "id": "c774410d003eb823"
  },
  {
   "metadata": {},
   "cell_type": "code",
   "source": [
    "plot_likelihood_ratio_statistics(\n",
    "    likelihood_ratio_statistics=likelihood_ratio_statistics,\n",
    "    membership_labels=labels,\n",
    "    threshold=threshold)"
   ],
   "id": "357a11a88a95a7d6",
   "outputs": [],
   "execution_count": null
  },
  {
   "metadata": {},
   "cell_type": "markdown",
   "source": "## 9. Performing Likelihood Ratio Test",
   "id": "a011129b43eb5a64"
  },
  {
   "metadata": {},
   "cell_type": "code",
   "source": [
    "inverted = np.mean(likelihood_ratio_statistics_pool) < np.mean(likelihood_ratio_statistics_reference)\n",
    "predicted = likelihood_ratio_test(\n",
    "    likelihood_ratio_statistics=likelihood_ratio_statistics,\n",
    "    threshold=threshold,\n",
    "    inverted=inverted)"
   ],
   "id": "167e8cfbf9a3ec3d",
   "outputs": [],
   "execution_count": null
  },
  {
   "metadata": {},
   "cell_type": "markdown",
   "source": "## 10. Computing Metrics",
   "id": "f3de3e7df6d4f03a"
  },
  {
   "metadata": {},
   "cell_type": "code",
   "source": [
    "accuracy = accuracy_score(labels, predicted)\n",
    "precision = precision_score(labels, predicted)\n",
    "recall = recall_score(labels, predicted)\n",
    "f1 = f1_score(labels, predicted)\n",
    "roc_auc = roc_auc_score(labels, likelihood_ratio_statistics)\n",
    "print(f\"Accuracy: {accuracy:.2f}\")\n",
    "print(f\"Precision: {precision:.2f}\")\n",
    "print(f\"Recall: {recall:.2f}\")\n",
    "print(f\"F1: {f1:.2f}\")\n",
    "print(f\"ROC AUC: {roc_auc:.2f}\")"
   ],
   "id": "4570d5e18bf9a71c",
   "outputs": [],
   "execution_count": null
  },
  {
   "metadata": {},
   "cell_type": "markdown",
   "source": "## 11. Plotting Receiver Operating Characteristics Curve",
   "id": "f14d4eaa748a2e59"
  },
  {
   "metadata": {},
   "cell_type": "code",
   "source": [
    "fpr, tpr, _ = roc_curve(labels, likelihood_ratio_statistics)\n",
    "plot_receiver_operating_characteristics_curve(fpr, tpr)"
   ],
   "id": "412d07284eaafb65",
   "outputs": [],
   "execution_count": null
  }
 ],
 "metadata": {
  "kernelspec": {
   "display_name": "Python 3",
   "language": "python",
   "name": "python3"
  },
  "language_info": {
   "codemirror_mode": {
    "name": "ipython",
    "version": 2
   },
   "file_extension": ".py",
   "mimetype": "text/x-python",
   "name": "python",
   "nbconvert_exporter": "python",
   "pygments_lexer": "ipython2",
   "version": "2.7.6"
  }
 },
 "nbformat": 4,
 "nbformat_minor": 5
}
