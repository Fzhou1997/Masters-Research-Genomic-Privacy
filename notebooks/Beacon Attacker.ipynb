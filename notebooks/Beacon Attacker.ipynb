{
 "cells": [
  {
   "cell_type": "code",
   "id": "initial_id",
   "metadata": {
    "collapsed": true,
    "ExecuteTime": {
     "end_time": "2024-09-16T13:25:03.533838Z",
     "start_time": "2024-09-16T13:25:01.981765Z"
    }
   },
   "source": [
    "import pickle\n",
    "from datetime import datetime\n",
    "\n",
    "import numpy as np\n",
    "import torch\n",
    "import torch.nn as nn\n",
    "from sklearn.model_selection import train_test_split\n",
    "from torch.utils.data import TensorDataset, DataLoader\n",
    "\n",
    "from utils_classification.Attacker import Attacker"
   ],
   "outputs": [],
   "execution_count": 1
  },
  {
   "metadata": {
    "ExecuteTime": {
     "end_time": "2024-09-16T13:25:03.741622Z",
     "start_time": "2024-09-16T13:25:03.536639Z"
    }
   },
   "cell_type": "code",
   "source": [
    "with open(\"../data/test/In_Pop.pkl\", \"rb\") as f:\n",
    "    in_beacon = pickle.load(f)\n",
    "in_beacon = np.array([np.unpackbits(np.frombuffer(genome.tobytes(), dtype=np.uint8)) for genome in in_beacon])"
   ],
   "id": "6f6f40c2dcb7e558",
   "outputs": [],
   "execution_count": 2
  },
  {
   "metadata": {
    "ExecuteTime": {
     "end_time": "2024-09-16T13:25:04.230152Z",
     "start_time": "2024-09-16T13:25:04.018779Z"
    }
   },
   "cell_type": "code",
   "source": [
    "with open(\"../data/test/Not_In_Pop.pkl\", \"rb\") as f:\n",
    "    not_in_beacon = pickle.load(f)\n",
    "not_in_beacon = np.array([np.unpackbits(np.frombuffer(genome.tobytes(), dtype=np.uint8)) for genome in not_in_beacon])"
   ],
   "id": "1a5d56af8cc3af7a",
   "outputs": [],
   "execution_count": 3
  },
  {
   "metadata": {
    "ExecuteTime": {
     "end_time": "2024-09-16T13:25:04.466954Z",
     "start_time": "2024-09-16T13:25:04.234423Z"
    }
   },
   "cell_type": "code",
   "source": [
    "in_population_beacon = np.loadtxt(\"../data/test/In_Pop_Beacon.txt\", delimiter=\"\\t\")\n",
    "beacon_allele_presence = in_population_beacon[:, 0]\n",
    "beacon_allele_frequency = in_population_beacon[:, 1]"
   ],
   "id": "ae56d7fe01f7902e",
   "outputs": [],
   "execution_count": 4
  },
  {
   "metadata": {
    "ExecuteTime": {
     "end_time": "2024-09-16T13:25:04.477228Z",
     "start_time": "2024-09-16T13:25:04.474442Z"
    }
   },
   "cell_type": "code",
   "source": [
    "num_genomes_in_beacon = len(in_beacon)\n",
    "num_genomes_not_in_beacon = len(not_in_beacon)\n",
    "num_genomes = num_genomes_in_beacon + num_genomes_not_in_beacon\n",
    "num_snps = len(in_beacon[0])\n",
    "target_num_snps = 40000"
   ],
   "id": "fd987ab70afa9d53",
   "outputs": [],
   "execution_count": 5
  },
  {
   "metadata": {
    "ExecuteTime": {
     "end_time": "2024-09-16T13:25:04.486246Z",
     "start_time": "2024-09-16T13:25:04.483470Z"
    }
   },
   "cell_type": "code",
   "source": [
    "labels_in_beacon = np.ones(len(in_beacon))\n",
    "labels_not_in_beacon = np.zeros(len(not_in_beacon))"
   ],
   "id": "5303f5f77b55575b",
   "outputs": [],
   "execution_count": 6
  },
  {
   "metadata": {
    "ExecuteTime": {
     "end_time": "2024-09-16T13:25:04.615603Z",
     "start_time": "2024-09-16T13:25:04.493998Z"
    }
   },
   "cell_type": "code",
   "source": [
    "genomes = np.concatenate((in_beacon, not_in_beacon), axis=0)\n",
    "labels = np.concatenate((labels_in_beacon, labels_not_in_beacon), axis=0)"
   ],
   "id": "b6e12e170b998867",
   "outputs": [],
   "execution_count": 7
  },
  {
   "metadata": {
    "ExecuteTime": {
     "end_time": "2024-09-16T13:25:04.627949Z",
     "start_time": "2024-09-16T13:25:04.624788Z"
    }
   },
   "cell_type": "code",
   "source": [
    "genomes_selected = genomes[:, :target_num_snps]\n",
    "beacon_allele_presence_selected = beacon_allele_presence[:target_num_snps]\n",
    "beacon_allele_frequency_selected = beacon_allele_frequency[:target_num_snps]"
   ],
   "id": "d2ef3dbb1552a14e",
   "outputs": [],
   "execution_count": 8
  },
  {
   "metadata": {
    "ExecuteTime": {
     "end_time": "2024-09-16T13:25:04.798113Z",
     "start_time": "2024-09-16T13:25:04.638447Z"
    }
   },
   "cell_type": "code",
   "source": [
    "beacon_allele_presence_selected_expanded = np.broadcast_to(beacon_allele_presence_selected, (num_genomes, target_num_snps))[..., np.newaxis]\n",
    "beacon_allele_frequency_selected_expanded = np.broadcast_to(beacon_allele_frequency_selected, (num_genomes, target_num_snps))[..., np.newaxis]\n",
    "genomes_selected_expanded = genomes_selected[..., np.newaxis]\n",
    "x = np.concatenate((genomes_selected_expanded, beacon_allele_presence_selected_expanded, beacon_allele_frequency_selected_expanded), axis=2)\n",
    "y = labels"
   ],
   "id": "2ffb68fc3c54c08f",
   "outputs": [],
   "execution_count": 9
  },
  {
   "metadata": {
    "ExecuteTime": {
     "end_time": "2024-09-16T13:25:04.813735Z",
     "start_time": "2024-09-16T13:25:04.811314Z"
    }
   },
   "cell_type": "code",
   "source": [
    "print(x.shape)\n",
    "print(y.shape)"
   ],
   "id": "91952bc6102fccab",
   "outputs": [
    {
     "name": "stdout",
     "output_type": "stream",
     "text": [
      "(800, 40000, 3)\n",
      "(800,)\n"
     ]
    }
   ],
   "execution_count": 10
  },
  {
   "metadata": {
    "ExecuteTime": {
     "end_time": "2024-09-16T13:25:04.864148Z",
     "start_time": "2024-09-16T13:25:04.825871Z"
    }
   },
   "cell_type": "code",
   "source": [
    "x_tensor = torch.tensor(x, dtype=torch.float32)\n",
    "y_tensor = torch.tensor(y, dtype=torch.float32)"
   ],
   "id": "95a57237eb163689",
   "outputs": [],
   "execution_count": 11
  },
  {
   "metadata": {
    "ExecuteTime": {
     "end_time": "2024-09-16T13:25:04.916277Z",
     "start_time": "2024-09-16T13:25:04.882118Z"
    }
   },
   "cell_type": "code",
   "source": "x_train, x_test, y_train, y_test = train_test_split(x_tensor, y_tensor, test_size=0.2, random_state=42)",
   "id": "ed0251c984651915",
   "outputs": [],
   "execution_count": 12
  },
  {
   "metadata": {
    "ExecuteTime": {
     "end_time": "2024-09-16T13:25:04.944673Z",
     "start_time": "2024-09-16T13:25:04.941985Z"
    }
   },
   "cell_type": "code",
   "source": [
    "batch_size = 32\n",
    "train_dataset = TensorDataset(x_train, y_train)\n",
    "test_dataset = TensorDataset(x_test, y_test)\n",
    "\n",
    "train_loader = DataLoader(train_dataset, batch_size=batch_size, shuffle=True)\n",
    "test_loader = DataLoader(test_dataset, batch_size=batch_size, shuffle=False)"
   ],
   "id": "6088299d7bb0865e",
   "outputs": [],
   "execution_count": 13
  },
  {
   "metadata": {
    "ExecuteTime": {
     "end_time": "2024-09-16T13:25:05.094486Z",
     "start_time": "2024-09-16T13:25:04.969864Z"
    }
   },
   "cell_type": "code",
   "source": [
    "model = Attacker(input_size=3, hidden_size=64, num_layers=1, bidirectional=False, dropout=0.5)\n",
    "device = torch.device(\"cuda\" if torch.cuda.is_available() else \"cpu\")\n",
    "model.to(device)"
   ],
   "id": "64b2ad3e77b74873",
   "outputs": [
    {
     "data": {
      "text/plain": [
       "Attacker(\n",
       "  (lstm): LSTM(3, 64, batch_first=True)\n",
       "  (linear): Linear(in_features=64, out_features=1, bias=True)\n",
       ")"
      ]
     },
     "execution_count": 14,
     "metadata": {},
     "output_type": "execute_result"
    }
   ],
   "execution_count": 14
  },
  {
   "metadata": {
    "ExecuteTime": {
     "end_time": "2024-09-16T13:25:05.895032Z",
     "start_time": "2024-09-16T13:25:05.114572Z"
    }
   },
   "cell_type": "code",
   "source": [
    "criterion = nn.BCEWithLogitsLoss()\n",
    "optimizer = torch.optim.Adam(model.parameters(), lr=0.001)"
   ],
   "id": "49c6480752277241",
   "outputs": [],
   "execution_count": 15
  },
  {
   "metadata": {
    "jupyter": {
     "is_executing": true
    },
    "ExecuteTime": {
     "start_time": "2024-09-16T13:25:05.914740Z"
    }
   },
   "cell_type": "code",
   "source": [
    "num_epochs = 256\n",
    "best_epoch = -1\n",
    "best_val_loss = np.inf\n",
    "best_state_dict = None\n",
    "counter = 0\n",
    "\n",
    "for epoch in range(num_epochs):\n",
    "    model.train()\n",
    "    train_losses = []\n",
    "    for x_batch, y_batch in train_loader:\n",
    "        x_batch, y_batch = x_batch.to(device), y_batch.to(device)\n",
    "        optimizer.zero_grad()\n",
    "        output = model(x_batch)\n",
    "        loss = criterion(output, y_batch)\n",
    "        loss.backward()\n",
    "        optimizer.step()\n",
    "        train_losses.append(loss.item())\n",
    "    model.eval()\n",
    "    val_losses = []\n",
    "    with torch.no_grad():\n",
    "        for x_batch, y_batch in test_loader:\n",
    "            x_batch, y_batch = x_batch.to(device), y_batch.to(device)\n",
    "            output = model(x_batch)\n",
    "            loss = criterion(output, y_batch)\n",
    "            val_losses.append(loss.item())\n",
    "    train_loss = np.mean(train_losses)\n",
    "    val_loss = np.mean(val_losses)\n",
    "    print(f\"Epoch {epoch + 1}/{num_epochs}, Train Loss: {train_loss:.4f}, Val Loss: {val_loss:.4f}\")\n",
    "    if val_loss < best_val_loss:\n",
    "        best_epoch = epoch\n",
    "        best_val_loss = val_loss\n",
    "        best_state_dict = model.state_dict()\n",
    "        counter = 0\n",
    "model.load_state_dict(best_state_dict)\n",
    "print(f\"Best Model found at Epoch {best_epoch + 1}\")"
   ],
   "id": "2fd608b5cd596024",
   "outputs": [],
   "execution_count": null
  },
  {
   "metadata": {
    "ExecuteTime": {
     "end_time": "2024-09-16T13:22:55.729917Z",
     "start_time": "2024-09-16T13:22:55.511076Z"
    }
   },
   "cell_type": "code",
   "source": [
    "model.eval()\n",
    "test_losses = []\n",
    "correct = 0\n",
    "total = 0\n",
    "with torch.no_grad():\n",
    "    for x_batch, y_batch in test_loader:\n",
    "        x_batch, y_batch = x_batch.to(device), y_batch.to(device)\n",
    "        output = model(x_batch)\n",
    "        loss = criterion(output, y_batch)\n",
    "        test_losses.append(loss.item())\n",
    "        predictions = (torch.sigmoid(output) >= 0.5).float()\n",
    "        correct += (predictions == y_batch).sum().item()\n",
    "        total += len(y_batch)\n",
    "test_loss = np.mean(test_losses)\n",
    "test_accuracy = correct / total"
   ],
   "id": "bf16a544fc227d5f",
   "outputs": [],
   "execution_count": 37
  },
  {
   "metadata": {
    "ExecuteTime": {
     "end_time": "2024-09-16T13:22:55.786281Z",
     "start_time": "2024-09-16T13:22:55.783663Z"
    }
   },
   "cell_type": "code",
   "source": "print(f\"Test Loss: {test_loss:.4f}, Test Accuracy: {test_accuracy:.4f}\")",
   "id": "3990689652207d39",
   "outputs": [
    {
     "name": "stdout",
     "output_type": "stream",
     "text": [
      "Test Loss: 0.6931, Test Accuracy: 0.5000\n"
     ]
    }
   ],
   "execution_count": 38
  },
  {
   "metadata": {
    "ExecuteTime": {
     "end_time": "2024-09-16T13:22:55.850421Z",
     "start_time": "2024-09-16T13:22:55.839524Z"
    }
   },
   "cell_type": "code",
   "source": "model.save(\"../models\", f\"attacker_{datetime.now().strftime('%Y%m%d%H%M%S')}\")",
   "id": "4be6219e67c78e12",
   "outputs": [],
   "execution_count": 39
  },
  {
   "metadata": {
    "ExecuteTime": {
     "end_time": "2024-09-16T13:22:55.908392Z",
     "start_time": "2024-09-16T13:22:55.905662Z"
    }
   },
   "cell_type": "code",
   "source": [
    "chance = y_test.mean()\n",
    "print(f\"Chance: {chance}\")"
   ],
   "id": "202b0182c6ea8b8b",
   "outputs": [
    {
     "name": "stdout",
     "output_type": "stream",
     "text": [
      "Chance: 0.5\n"
     ]
    }
   ],
   "execution_count": 40
  },
  {
   "metadata": {
    "ExecuteTime": {
     "end_time": "2024-09-16T13:22:55.960849Z",
     "start_time": "2024-09-16T13:22:55.959204Z"
    }
   },
   "cell_type": "code",
   "source": "",
   "id": "5bb481157c333bf8",
   "outputs": [],
   "execution_count": null
  }
 ],
 "metadata": {
  "kernelspec": {
   "display_name": "Python 3",
   "language": "python",
   "name": "python3"
  },
  "language_info": {
   "codemirror_mode": {
    "name": "ipython",
    "version": 2
   },
   "file_extension": ".py",
   "mimetype": "text/x-python",
   "name": "python",
   "nbconvert_exporter": "python",
   "pygments_lexer": "ipython2",
   "version": "2.7.6"
  }
 },
 "nbformat": 4,
 "nbformat_minor": 5
}
