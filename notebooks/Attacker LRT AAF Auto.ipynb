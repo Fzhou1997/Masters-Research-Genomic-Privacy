{
 "cells": [
  {
   "metadata": {},
   "cell_type": "markdown",
   "source": [
    "<H1 align=\"center\">Likelihood Ratio Test for Membership Inference Attack on AAF Data</H1>\n",
    "\n",
    "<br>\n",
    "<strong>This notebook performs likelihood ratio test-based membership inference attacks on AAF data for multiple sequence lengths.</strong>"
   ],
   "id": "a3f14c491d704333"
  },
  {
   "metadata": {},
   "cell_type": "markdown",
   "source": "## 1. Import Required Libraries",
   "id": "8757f69b9da5500d"
  },
  {
   "cell_type": "code",
   "id": "initial_id",
   "metadata": {
    "collapsed": true
   },
   "source": [
    "import numpy as np\n",
    "from sklearn.metrics import accuracy_score, precision_score, recall_score, f1_score, roc_auc_score, roc_curve\n",
    "\n",
    "from src.utils_attacker_lrt import likelihood_ratio_statistic_pool_haploid_approximate, \\\n",
    "    likelihood_ratio_test_threshold, likelihood_ratio_test\n",
    "from src.utils_io import read_bitarrays\n",
    "from src.utils_plot import plot_likelihood_ratio_statistics, plot_receiver_operating_characteristics_curve, \\\n",
    "    plot_likelihood_ratio_test_hyper_num_snps"
   ],
   "outputs": [],
   "execution_count": null
  },
  {
   "metadata": {},
   "cell_type": "markdown",
   "source": "## 2. Setting Parameters",
   "id": "5027d4a42069f31c"
  },
  {
   "metadata": {},
   "cell_type": "code",
   "outputs": [],
   "execution_count": null,
   "source": [
    "false_positive_rate = 0.05\n",
    "num_snps_space = [10000, 20000, 30000, 40000, 50000, 60000, 70000, 80000, 90000, 100000]"
   ],
   "id": "5180c603592cab4f"
  },
  {
   "metadata": {},
   "cell_type": "markdown",
   "source": "## 3. Setting Environment Variables",
   "id": "8b7efd4323b039ce"
  },
  {
   "metadata": {},
   "cell_type": "code",
   "source": [
    "plot_dir = \"../plots/lrt/aaf/\"\n",
    "plot_name_lrt = \"likelihood_ratio_statistics\"\n",
    "plot_title_lrt = \"Likelihood Ratio Statistics: Pool\"\n",
    "plot_name_roc = \"roc_curve\"\n",
    "plot_title_roc = \"AUROC: Pool\""
   ],
   "id": "7bae1a404adb4fd1",
   "outputs": [],
   "execution_count": null
  },
  {
   "metadata": {},
   "cell_type": "markdown",
   "source": "## 4. Initializing Evaluation Metrics",
   "id": "cf17807d8af7527b"
  },
  {
   "metadata": {},
   "cell_type": "code",
   "source": [
    "accuracy_scores = []\n",
    "precision_scores = []\n",
    "recall_scores = []\n",
    "f1_scores = []\n",
    "roc_auc_scores = []"
   ],
   "id": "e233349afdb74d6a",
   "outputs": [],
   "execution_count": null
  },
  {
   "metadata": {},
   "cell_type": "markdown",
   "source": "## 5. Performing Likelihood Ratio Test",
   "id": "9a5187abf75c815f"
  },
  {
   "metadata": {},
   "cell_type": "code",
   "source": [
    "for num_snps in num_snps_space:\n",
    "    print(\"=\" * 25)\n",
    "    print(f\"Number of SNPs: {num_snps}\")\n",
    "    # Load the data\n",
    "    genomes_pool = read_bitarrays(\"../data/idash/In_Pop.pkl\")[:, :num_snps]\n",
    "    genomes_reference = read_bitarrays(\"../data/idash/Not_In_Pop.pkl\")[:, :num_snps]\n",
    "    genomes = np.concatenate((genomes_pool, genomes_reference), axis=0)\n",
    "    # Compute the labels\n",
    "    labels_pool = np.ones(genomes_pool.shape[0], dtype=bool)\n",
    "    labels_reference = np.zeros(genomes_reference.shape[0], dtype=bool)\n",
    "    labels = np.concatenate((labels_pool, labels_reference), axis=0).astype(bool)\n",
    "    # Compute the aaf frequencies\n",
    "    minor_allele_frequencies_pool = np.mean(genomes_pool, axis=0)\n",
    "    minor_allele_frequencies_reference = np.mean(genomes_reference, axis=0)\n",
    "    # Compute the likelihood ratio statistics\n",
    "    likelihood_ratio_statistics_pool = likelihood_ratio_statistic_pool_haploid_approximate(\n",
    "        target_genomes=genomes_pool,\n",
    "        pool_frequencies=minor_allele_frequencies_pool,\n",
    "        reference_frequencies=minor_allele_frequencies_reference)\n",
    "    likelihood_ratio_statistics_reference = likelihood_ratio_statistic_pool_haploid_approximate(\n",
    "        target_genomes=genomes_reference,\n",
    "        pool_frequencies=minor_allele_frequencies_pool,\n",
    "        reference_frequencies=minor_allele_frequencies_reference)\n",
    "    likelihood_ratio_statistics = np.concatenate(\n",
    "        (likelihood_ratio_statistics_pool, likelihood_ratio_statistics_reference), axis=0)\n",
    "    # Compute the threshold\n",
    "    threshold = likelihood_ratio_test_threshold(\n",
    "        likelihood_ratio_statistics=likelihood_ratio_statistics,\n",
    "        labels=labels,\n",
    "        false_positive_rate=false_positive_rate)\n",
    "    # Plot the likelihood ratio statistics\n",
    "    inverted = np.mean(likelihood_ratio_statistics_pool) < np.mean(likelihood_ratio_statistics_reference)\n",
    "    plot_likelihood_ratio_statistics(likelihood_ratio_statistics=likelihood_ratio_statistics,\n",
    "                                     membership_labels=labels,\n",
    "                                     threshold=threshold,\n",
    "                                     inverted=inverted,\n",
    "                                     title=plot_title_lrt,\n",
    "                                     output_file=f\"{plot_dir}{plot_name_lrt}_{num_snps}.png\",\n",
    "                                     show=False)\n",
    "    # Compute the predictions\n",
    "    predicted = likelihood_ratio_test(\n",
    "        likelihood_ratio_statistics=likelihood_ratio_statistics,\n",
    "        threshold=threshold,\n",
    "        inverted=inverted)\n",
    "    # Compute the evaluation metrics\n",
    "    accuracy = accuracy_score(labels, predicted)\n",
    "    precision = precision_score(labels, predicted)\n",
    "    recall = recall_score(labels, predicted)\n",
    "    f1 = f1_score(labels, predicted)\n",
    "    roc_auc = roc_auc_score(labels, likelihood_ratio_statistics)\n",
    "    # Append the evaluation metrics\n",
    "    accuracy_scores.append(accuracy)\n",
    "    precision_scores.append(precision)\n",
    "    recall_scores.append(recall)\n",
    "    f1_scores.append(f1)\n",
    "    roc_auc_scores.append(roc_auc)\n",
    "    # Print the evaluation metrics\n",
    "    print(f\"Accuracy: {accuracy:.2f}\")\n",
    "    print(f\"Precision: {precision:.2f}\")\n",
    "    print(f\"Recall: {recall:.2f}\")\n",
    "    print(f\"F1: {f1:.2f}\")\n",
    "    print(f\"AUROC: {roc_auc:.2f}\")\n",
    "    # Plot the ROC curve\n",
    "    fpr, tpr, _ = roc_curve(labels, likelihood_ratio_statistics)\n",
    "    plot_receiver_operating_characteristics_curve(true_positive_rates=tpr,\n",
    "                                                  false_positive_rates=fpr,\n",
    "                                                  auc=roc_auc,\n",
    "                                                  title=plot_title_roc,\n",
    "                                                  output_file=f\"{plot_dir}{plot_name_roc}_{num_snps}.png\",\n",
    "                                                  show=False)"
   ],
   "id": "ac29fbc1b0381225",
   "outputs": [],
   "execution_count": null
  },
  {
   "metadata": {},
   "cell_type": "markdown",
   "source": "## 6. Plotting Evaluation Metrics",
   "id": "574847ad23581d74"
  },
  {
   "metadata": {},
   "cell_type": "code",
   "source": [
    "# Plot the evaluation metrics\n",
    "plot_likelihood_ratio_test_hyper_num_snps(num_snps=num_snps_space,\n",
    "                                          acc=accuracy_scores,\n",
    "                                          prec=precision_scores,\n",
    "                                          rec=recall_scores,\n",
    "                                          f1=f1_scores,\n",
    "                                          roc_auc=roc_auc_scores,\n",
    "                                          output_file=f\"{plot_dir}lrt_metrics_by_num_snps.png\",\n",
    "                                          show=True)"
   ],
   "id": "c0d2a98b41416e79",
   "outputs": [],
   "execution_count": null
  },
  {
   "metadata": {},
   "cell_type": "code",
   "source": "",
   "id": "40daec6018b1254",
   "outputs": [],
   "execution_count": null
  }
 ],
 "metadata": {
  "kernelspec": {
   "display_name": "Python 3",
   "language": "python",
   "name": "python3"
  },
  "language_info": {
   "codemirror_mode": {
    "name": "ipython",
    "version": 2
   },
   "file_extension": ".py",
   "mimetype": "text/x-python",
   "name": "python",
   "nbconvert_exporter": "python",
   "pygments_lexer": "ipython2",
   "version": "2.7.6"
  }
 },
 "nbformat": 4,
 "nbformat_minor": 5
}
