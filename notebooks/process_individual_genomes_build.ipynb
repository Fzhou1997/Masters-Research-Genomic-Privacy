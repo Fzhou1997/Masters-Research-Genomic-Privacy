{
 "cells": [
  {
   "metadata": {},
   "cell_type": "markdown",
   "source": "# Process Individual Genome Builds",
   "id": "af7af27971a318ec"
  },
  {
   "metadata": {},
   "cell_type": "markdown",
   "source": "## Step 1: Environment Setup",
   "id": "892d0bb2a32f9fd8"
  },
  {
   "metadata": {},
   "cell_type": "markdown",
   "source": "### Import Libraries",
   "id": "8f3a8f6faffedf91"
  },
  {
   "cell_type": "code",
   "id": "initial_id",
   "metadata": {
    "collapsed": true,
    "ExecuteTime": {
     "end_time": "2024-08-22T23:23:28.512874Z",
     "start_time": "2024-08-22T23:23:28.186638Z"
    }
   },
   "source": [
    "import os\n",
    "import re\n",
    "import warnings\n",
    "\n",
    "import pandas as pd\n",
    "from snps import SNPs\n",
    "from tqdm import tqdm\n",
    "\n",
    "from utils_io import capture_print"
   ],
   "outputs": [],
   "execution_count": 1
  },
  {
   "metadata": {},
   "cell_type": "markdown",
   "source": "### Configure Environment",
   "id": "2a803992552338df"
  },
  {
   "metadata": {
    "ExecuteTime": {
     "end_time": "2024-08-22T23:23:28.516208Z",
     "start_time": "2024-08-22T23:23:28.513878Z"
    }
   },
   "cell_type": "code",
   "source": "warnings.filterwarnings('ignore', category=pd.errors.DtypeWarning)",
   "id": "95666b7e346fbf34",
   "outputs": [],
   "execution_count": 2
  },
  {
   "metadata": {},
   "cell_type": "markdown",
   "source": "## Step 2: Process Individual Genome Builds",
   "id": "6ca7a53eb11a8054"
  },
  {
   "metadata": {},
   "cell_type": "markdown",
   "source": "### Define Paths",
   "id": "db9e554f9e32d7e2"
  },
  {
   "metadata": {
    "ExecuteTime": {
     "end_time": "2024-08-22T23:23:28.530426Z",
     "start_time": "2024-08-22T23:23:28.516208Z"
    }
   },
   "cell_type": "code",
   "source": [
    "mixed_path = '../data/ind_genomes/raw/mixed/'\n",
    "build36_path = os.path.abspath('../data/ind_genomes/raw/36/')\n",
    "build37_path = os.path.abspath('../data/ind_genomes/raw/37/')\n",
    "build38_path = os.path.abspath('../data/ind_genomes/raw/38/')\n",
    "\n",
    "mixed_files = os.listdir(mixed_path)\n",
    "mixed_files = [f for f in mixed_files if f.endswith('.txt') and 'exome-vcf' not in f]"
   ],
   "id": "31846c722ff524fb",
   "outputs": [],
   "execution_count": 3
  },
  {
   "metadata": {},
   "cell_type": "markdown",
   "source": "### Process Individual Genome Builds",
   "id": "c81e0efb93cc9137"
  },
  {
   "metadata": {
    "ExecuteTime": {
     "end_time": "2024-08-23T03:11:24.187202Z",
     "start_time": "2024-08-22T23:23:28.530426Z"
    }
   },
   "cell_type": "code",
   "source": [
    "for f in tqdm(mixed_files):\n",
    "    user_id = int(re.match(r'.*user(\\d+)', f)[1])\n",
    "    file_id = int(re.match(r'.*file(\\d+)', f)[1])\n",
    "    try:\n",
    "        with capture_print() as captured_output:\n",
    "            snps = SNPs(os.path.join(mixed_path, f))\n",
    "    except Exception as e:\n",
    "        continue\n",
    "    build = snps.build\n",
    "    match build:\n",
    "        case 36:\n",
    "            out_path = f'{build36_path}/user.{user_id}.file.{file_id}.csv'\n",
    "        case 37:\n",
    "            out_path = f'{build37_path}/user.{user_id}.file.{file_id}.csv'\n",
    "        case 38:\n",
    "            out_path = f'{build38_path}/user.{user_id}.file.{file_id}.csv'\n",
    "        case _:\n",
    "            continue\n",
    "    try:\n",
    "        with capture_print() as captured_output:\n",
    "            snps.to_csv(out_path)\n",
    "    except Exception as e:\n",
    "        continue"
   ],
   "id": "2dd75efec1d9ad47",
   "outputs": [
    {
     "name": "stderr",
     "output_type": "stream",
     "text": [
      "100%|██████████| 6820/6820 [3:47:55<00:00,  2.01s/it]   \n"
     ]
    }
   ],
   "execution_count": 4
  }
 ],
 "metadata": {
  "kernelspec": {
   "display_name": "Python 3",
   "language": "python",
   "name": "python3"
  },
  "language_info": {
   "codemirror_mode": {
    "name": "ipython",
    "version": 2
   },
   "file_extension": ".py",
   "mimetype": "text/x-python",
   "name": "python",
   "nbconvert_exporter": "python",
   "pygments_lexer": "ipython2",
   "version": "2.7.6"
  }
 },
 "nbformat": 4,
 "nbformat_minor": 5
}
