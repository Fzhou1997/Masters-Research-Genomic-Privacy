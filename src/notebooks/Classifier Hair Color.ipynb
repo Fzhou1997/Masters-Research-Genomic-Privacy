{
 "cells": [
  {
   "metadata": {},
   "cell_type": "markdown",
   "source": "### Import Statements",
   "id": "1b19d092bf19530e"
  },
  {
   "cell_type": "code",
   "id": "initial_id",
   "metadata": {
    "collapsed": true,
    "ExecuteTime": {
     "end_time": "2024-04-30T04:06:35.360012Z",
     "start_time": "2024-04-30T04:06:32.630886Z"
    }
   },
   "source": [
    "import seaborn as sns\n",
    "from torch.nn import CrossEntropyLoss\n",
    "from torch.optim import Adam\n",
    "from torch.optim.lr_scheduler import StepLR\n",
    "from matplotlib import pyplot as plt\n",
    "\n",
    "from src.hair_color.dataset import HairColorDataset\n",
    "from src.hair_color.dataloader import HairColorDataLoader\n",
    "from src.hair_color.classifier import Classifier, Trainer, Tester"
   ],
   "outputs": [],
   "execution_count": 1
  },
  {
   "metadata": {},
   "cell_type": "markdown",
   "source": "",
   "id": "31a47b95d4efb1da"
  },
  {
   "metadata": {},
   "cell_type": "markdown",
   "source": "### Environment Variables",
   "id": "781e18e17de519d5"
  },
  {
   "metadata": {
    "ExecuteTime": {
     "end_time": "2024-04-30T04:06:36.055650Z",
     "start_time": "2024-04-30T04:06:36.051914Z"
    }
   },
   "cell_type": "code",
   "source": [
    "dataset_path = '../../data/hair_color/build37_autosomal/dataset'\n",
    "classifier_out_path = '../../models/hair_color'\n",
    "\n",
    "dataset_file_name = 'dataset'\n",
    "classifier_file_name = 'classifier'\n",
    "\n",
    "train_test_split_ratio = 0.8\n",
    "batch_size = 16\n",
    "shuffle_train = True\n",
    "shuffle_test = False\n",
    "weighted_sampling_train = True\n",
    "weighted_sampling_test = False\n",
    "one_hot_features = False\n",
    "one_hot_labels = True\n",
    "input_size = 1\n",
    "hidden_size = 96\n",
    "num_layers = 1\n",
    "bidirectional = False\n",
    "dropout = 0\n",
    "learning_rate = 0.01\n",
    "step_size = 1\n",
    "gamma = 0.9\n",
    "num_epochs = 32"
   ],
   "id": "ea9022f6e55a2a83",
   "outputs": [],
   "execution_count": 2
  },
  {
   "metadata": {},
   "cell_type": "markdown",
   "source": "",
   "id": "303ddf9de26cadc8"
  },
  {
   "metadata": {},
   "cell_type": "markdown",
   "source": "### Load Data",
   "id": "275c03b215bb7a89"
  },
  {
   "metadata": {
    "ExecuteTime": {
     "end_time": "2024-04-30T04:06:37.820121Z",
     "start_time": "2024-04-30T04:06:37.364242Z"
    }
   },
   "cell_type": "code",
   "source": "dataset = HairColorDataset().load(dataset_path, dataset_file_name)",
   "id": "8e2aa3e25bec61bf",
   "outputs": [],
   "execution_count": 3
  },
  {
   "metadata": {},
   "cell_type": "markdown",
   "source": "",
   "id": "eac939d6b96c30db"
  },
  {
   "metadata": {},
   "cell_type": "markdown",
   "source": "### Split Data",
   "id": "c4305b5c10dd9573"
  },
  {
   "metadata": {
    "ExecuteTime": {
     "end_time": "2024-04-30T04:06:38.702734Z",
     "start_time": "2024-04-30T04:06:38.429281Z"
    }
   },
   "cell_type": "code",
   "source": "train_set, test_set = dataset.split_train_test(train_test_split_ratio)",
   "id": "1247283423efbbb7",
   "outputs": [],
   "execution_count": 4
  },
  {
   "metadata": {},
   "cell_type": "markdown",
   "source": "",
   "id": "61a551719c50ecb2"
  },
  {
   "metadata": {},
   "cell_type": "markdown",
   "source": "### Load Data Loaders",
   "id": "179290e68c75ac7f"
  },
  {
   "metadata": {
    "ExecuteTime": {
     "end_time": "2024-04-30T04:11:47.328706Z",
     "start_time": "2024-04-30T04:11:44.446311Z"
    }
   },
   "cell_type": "code",
   "source": [
    "train_loader = HairColorDataLoader(train_set, batch_size=batch_size, shuffle=shuffle_train, weighted_sampling=weighted_sampling_train, one_hot_features=one_hot_features, one_hot_labels=one_hot_labels)\n",
    "test_loader = HairColorDataLoader(test_set, batch_size=batch_size, shuffle=shuffle_test, weighted_sampling=weighted_sampling_test,  one_hot_features=one_hot_features, one_hot_labels=one_hot_labels)"
   ],
   "id": "94cbc5d803a4d94",
   "outputs": [],
   "execution_count": 11
  },
  {
   "metadata": {},
   "cell_type": "markdown",
   "source": "",
   "id": "e3fa9f8310c6ad89"
  },
  {
   "metadata": {},
   "cell_type": "markdown",
   "source": "### Initialize Classifier",
   "id": "994e07870e15065"
  },
  {
   "metadata": {
    "ExecuteTime": {
     "end_time": "2024-04-30T04:11:57.757551Z",
     "start_time": "2024-04-30T04:11:57.754610Z"
    }
   },
   "cell_type": "code",
   "source": "classifier = Classifier(input_size, hidden_size, num_layers, bidirectional, dropout)",
   "id": "86db275e1bfdbc6a",
   "outputs": [],
   "execution_count": 12
  },
  {
   "metadata": {},
   "cell_type": "markdown",
   "source": "",
   "id": "836643cafbc08682"
  },
  {
   "metadata": {},
   "cell_type": "markdown",
   "source": "### Initialize Trainer",
   "id": "ce1af0efaec0c540"
  },
  {
   "metadata": {
    "ExecuteTime": {
     "end_time": "2024-04-30T04:11:58.675621Z",
     "start_time": "2024-04-30T04:11:58.670139Z"
    }
   },
   "cell_type": "code",
   "source": [
    "loss = CrossEntropyLoss()\n",
    "optimizer = Adam(classifier.parameters(), lr=learning_rate)\n",
    "scheduler = StepLR(optimizer, step_size=step_size, gamma=gamma)\n",
    "trainer = Trainer(classifier, loss, optimizer, scheduler, train_loader, test_loader, classifier_out_path, classifier_file_name)"
   ],
   "id": "f2c71c567f24939",
   "outputs": [],
   "execution_count": 13
  },
  {
   "metadata": {},
   "cell_type": "markdown",
   "source": "",
   "id": "9d641cc785c5b182"
  },
  {
   "metadata": {},
   "cell_type": "markdown",
   "source": "### Train Classifier",
   "id": "7625c4aebda4855"
  },
  {
   "metadata": {
    "ExecuteTime": {
     "end_time": "2024-04-30T04:12:46.663162Z",
     "start_time": "2024-04-30T04:12:07.453560Z"
    }
   },
   "cell_type": "code",
   "source": "train_losses, train_accuracies, val_losses, val_accuracies = trainer.train(num_epochs)",
   "id": "76444990f5b2d735",
   "outputs": [
    {
     "ename": "KeyboardInterrupt",
     "evalue": "",
     "output_type": "error",
     "traceback": [
      "\u001B[1;31m---------------------------------------------------------------------------\u001B[0m",
      "\u001B[1;31mKeyboardInterrupt\u001B[0m                         Traceback (most recent call last)",
      "Cell \u001B[1;32mIn[15], line 1\u001B[0m\n\u001B[1;32m----> 1\u001B[0m train_losses, train_accuracies, val_losses, val_accuracies \u001B[38;5;241m=\u001B[39m \u001B[43mtrainer\u001B[49m\u001B[38;5;241;43m.\u001B[39;49m\u001B[43mtrain\u001B[49m\u001B[43m(\u001B[49m\u001B[43mnum_epochs\u001B[49m\u001B[43m)\u001B[49m\n",
      "File \u001B[1;32m~\\Documents\\Education\\NEU\\S24 - CS7675 - Master's Research\\Projects\\Genomic Privacy\\src\\hair_color\\classifier.py:126\u001B[0m, in \u001B[0;36mTrainer.train\u001B[1;34m(self, num_epochs)\u001B[0m\n\u001B[0;32m    124\u001B[0m validation_accuracies \u001B[38;5;241m=\u001B[39m []\n\u001B[0;32m    125\u001B[0m \u001B[38;5;28;01mfor\u001B[39;00m epoch \u001B[38;5;129;01min\u001B[39;00m \u001B[38;5;28mrange\u001B[39m(num_epochs):\n\u001B[1;32m--> 126\u001B[0m     train_loss, train_accuracy \u001B[38;5;241m=\u001B[39m \u001B[38;5;28;43mself\u001B[39;49m\u001B[38;5;241;43m.\u001B[39;49m\u001B[43m_train\u001B[49m\u001B[43m(\u001B[49m\u001B[43m)\u001B[49m\n\u001B[0;32m    127\u001B[0m     validation_loss, validation_accuracy \u001B[38;5;241m=\u001B[39m \u001B[38;5;28mself\u001B[39m\u001B[38;5;241m.\u001B[39m_validate()\n\u001B[0;32m    128\u001B[0m     training_losses\u001B[38;5;241m.\u001B[39mappend(train_loss)\n",
      "File \u001B[1;32m~\\Documents\\Education\\NEU\\S24 - CS7675 - Master's Research\\Projects\\Genomic Privacy\\src\\hair_color\\classifier.py:87\u001B[0m, in \u001B[0;36mTrainer._train\u001B[1;34m(self)\u001B[0m\n\u001B[0;32m     85\u001B[0m \u001B[38;5;28mself\u001B[39m\u001B[38;5;241m.\u001B[39maccuracy\u001B[38;5;241m.\u001B[39mreset()\n\u001B[0;32m     86\u001B[0m \u001B[38;5;28mself\u001B[39m\u001B[38;5;241m.\u001B[39mmodel\u001B[38;5;241m.\u001B[39mtrain()\n\u001B[1;32m---> 87\u001B[0m \u001B[43m\u001B[49m\u001B[38;5;28;43;01mfor\u001B[39;49;00m\u001B[43m \u001B[49m\u001B[43mfeatures\u001B[49m\u001B[43m,\u001B[49m\u001B[43m \u001B[49m\u001B[43mlabels\u001B[49m\u001B[43m \u001B[49m\u001B[38;5;129;43;01min\u001B[39;49;00m\u001B[43m \u001B[49m\u001B[38;5;28;43mself\u001B[39;49m\u001B[38;5;241;43m.\u001B[39;49m\u001B[43mtrain_loader\u001B[49m\u001B[43m:\u001B[49m\n\u001B[0;32m     88\u001B[0m \u001B[43m    \u001B[49m\u001B[43mfeatures\u001B[49m\u001B[43m,\u001B[49m\u001B[43m \u001B[49m\u001B[43mlabels\u001B[49m\u001B[43m \u001B[49m\u001B[38;5;241;43m=\u001B[39;49m\u001B[43m \u001B[49m\u001B[43mfeatures\u001B[49m\u001B[38;5;241;43m.\u001B[39;49m\u001B[43mto\u001B[49m\u001B[43m(\u001B[49m\u001B[43mdevice\u001B[49m\u001B[43m)\u001B[49m\u001B[43m,\u001B[49m\u001B[43m \u001B[49m\u001B[43mlabels\u001B[49m\u001B[38;5;241;43m.\u001B[39;49m\u001B[43mto\u001B[49m\u001B[43m(\u001B[49m\u001B[43mdevice\u001B[49m\u001B[43m)\u001B[49m\n\u001B[0;32m     89\u001B[0m \u001B[43m    \u001B[49m\u001B[38;5;28;43mself\u001B[39;49m\u001B[38;5;241;43m.\u001B[39;49m\u001B[43moptimizer\u001B[49m\u001B[38;5;241;43m.\u001B[39;49m\u001B[43mzero_grad\u001B[49m\u001B[43m(\u001B[49m\u001B[43m)\u001B[49m\n",
      "File \u001B[1;32m~\\Documents\\Education\\NEU\\S24 - CS7675 - Master's Research\\Projects\\Genomic Privacy\\src\\hair_color\\dataloader.py:29\u001B[0m, in \u001B[0;36mHairColorDataLoader.__iter__\u001B[1;34m(self)\u001B[0m\n\u001B[0;32m     27\u001B[0m \u001B[38;5;28;01mif\u001B[39;00m \u001B[38;5;28mself\u001B[39m\u001B[38;5;241m.\u001B[39mone_hot_features:\n\u001B[0;32m     28\u001B[0m     features \u001B[38;5;241m=\u001B[39m one_hot(features, num_classes\u001B[38;5;241m=\u001B[39m\u001B[38;5;241m3\u001B[39m)\n\u001B[1;32m---> 29\u001B[0m \u001B[38;5;28;01mif\u001B[39;00m \u001B[38;5;28;43mself\u001B[39;49m\u001B[38;5;241m.\u001B[39mone_hot_labels:\n\u001B[0;32m     30\u001B[0m     labels \u001B[38;5;241m=\u001B[39m one_hot(labels\u001B[38;5;241m.\u001B[39mlong(), num_classes\u001B[38;5;241m=\u001B[39m\u001B[38;5;241m3\u001B[39m)\n\u001B[0;32m     31\u001B[0m \u001B[38;5;28;01myield\u001B[39;00m features\u001B[38;5;241m.\u001B[39mfloat(), labels\u001B[38;5;241m.\u001B[39mfloat()\n",
      "File \u001B[1;32m_pydevd_bundle\\\\pydevd_cython_win32_311_64.pyx:1187\u001B[0m, in \u001B[0;36m_pydevd_bundle.pydevd_cython_win32_311_64.SafeCallWrapper.__call__\u001B[1;34m()\u001B[0m\n",
      "File \u001B[1;32m_pydevd_bundle\\\\pydevd_cython_win32_311_64.pyx:627\u001B[0m, in \u001B[0;36m_pydevd_bundle.pydevd_cython_win32_311_64.PyDBFrame.trace_dispatch\u001B[1;34m()\u001B[0m\n",
      "File \u001B[1;32m_pydevd_bundle\\\\pydevd_cython_win32_311_64.pyx:937\u001B[0m, in \u001B[0;36m_pydevd_bundle.pydevd_cython_win32_311_64.PyDBFrame.trace_dispatch\u001B[1;34m()\u001B[0m\n",
      "File \u001B[1;32m_pydevd_bundle\\\\pydevd_cython_win32_311_64.pyx:928\u001B[0m, in \u001B[0;36m_pydevd_bundle.pydevd_cython_win32_311_64.PyDBFrame.trace_dispatch\u001B[1;34m()\u001B[0m\n",
      "File \u001B[1;32m_pydevd_bundle\\\\pydevd_cython_win32_311_64.pyx:585\u001B[0m, in \u001B[0;36m_pydevd_bundle.pydevd_cython_win32_311_64.PyDBFrame.do_wait_suspend\u001B[1;34m()\u001B[0m\n",
      "File \u001B[1;32m~\\AppData\\Local\\Programs\\PyCharm Professional\\plugins\\python\\helpers\\pydev\\pydevd.py:1185\u001B[0m, in \u001B[0;36mPyDB.do_wait_suspend\u001B[1;34m(self, thread, frame, event, arg, send_suspend_message, is_unhandled_exception)\u001B[0m\n\u001B[0;32m   1182\u001B[0m         from_this_thread\u001B[38;5;241m.\u001B[39mappend(frame_id)\n\u001B[0;32m   1184\u001B[0m \u001B[38;5;28;01mwith\u001B[39;00m \u001B[38;5;28mself\u001B[39m\u001B[38;5;241m.\u001B[39m_threads_suspended_single_notification\u001B[38;5;241m.\u001B[39mnotify_thread_suspended(thread_id, stop_reason):\n\u001B[1;32m-> 1185\u001B[0m     \u001B[38;5;28;43mself\u001B[39;49m\u001B[38;5;241;43m.\u001B[39;49m\u001B[43m_do_wait_suspend\u001B[49m\u001B[43m(\u001B[49m\u001B[43mthread\u001B[49m\u001B[43m,\u001B[49m\u001B[43m \u001B[49m\u001B[43mframe\u001B[49m\u001B[43m,\u001B[49m\u001B[43m \u001B[49m\u001B[43mevent\u001B[49m\u001B[43m,\u001B[49m\u001B[43m \u001B[49m\u001B[43marg\u001B[49m\u001B[43m,\u001B[49m\u001B[43m \u001B[49m\u001B[43msuspend_type\u001B[49m\u001B[43m,\u001B[49m\u001B[43m \u001B[49m\u001B[43mfrom_this_thread\u001B[49m\u001B[43m)\u001B[49m\n",
      "File \u001B[1;32m~\\AppData\\Local\\Programs\\PyCharm Professional\\plugins\\python\\helpers\\pydev\\pydevd.py:1200\u001B[0m, in \u001B[0;36mPyDB._do_wait_suspend\u001B[1;34m(self, thread, frame, event, arg, suspend_type, from_this_thread)\u001B[0m\n\u001B[0;32m   1197\u001B[0m             \u001B[38;5;28mself\u001B[39m\u001B[38;5;241m.\u001B[39m_call_mpl_hook()\n\u001B[0;32m   1199\u001B[0m         \u001B[38;5;28mself\u001B[39m\u001B[38;5;241m.\u001B[39mprocess_internal_commands()\n\u001B[1;32m-> 1200\u001B[0m         time\u001B[38;5;241m.\u001B[39msleep(\u001B[38;5;241m0.01\u001B[39m)\n\u001B[0;32m   1202\u001B[0m \u001B[38;5;28mself\u001B[39m\u001B[38;5;241m.\u001B[39mcancel_async_evaluation(get_current_thread_id(thread), \u001B[38;5;28mstr\u001B[39m(\u001B[38;5;28mid\u001B[39m(frame)))\n\u001B[0;32m   1204\u001B[0m \u001B[38;5;66;03m# process any stepping instructions\u001B[39;00m\n",
      "\u001B[1;31mKeyboardInterrupt\u001B[0m: "
     ]
    }
   ],
   "execution_count": 15
  },
  {
   "metadata": {},
   "cell_type": "markdown",
   "source": "",
   "id": "5071786be03a9542"
  },
  {
   "metadata": {},
   "cell_type": "markdown",
   "source": "### Plot Training",
   "id": "f94999534129e948"
  },
  {
   "metadata": {
    "ExecuteTime": {
     "end_time": "2024-04-30T03:54:06.236709Z",
     "start_time": "2024-04-30T03:54:06.236709Z"
    }
   },
   "cell_type": "code",
   "source": [
    "plt.figure(figsize=(12, 6))\n",
    "plt.subplot(1, 2, 1)\n",
    "plt.plot(train_losses, label='Train Loss')\n",
    "plt.plot(val_losses, label='Validation Loss')\n",
    "plt.xlabel('Epoch')\n",
    "plt.ylabel('Loss')\n",
    "plt.title('Loss over Epochs')\n",
    "plt.legend()\n",
    "\n",
    "plt.subplot(1, 2, 2)\n",
    "plt.plot(train_accuracies, label='Train Accuracy')\n",
    "plt.plot(val_accuracies, label='Validation Accuracy')\n",
    "plt.xlabel('Epoch')\n",
    "plt.ylabel('Accuracy')\n",
    "plt.title('Accuracy over Epochs')\n",
    "plt.legend()\n",
    "\n",
    "plt.show()"
   ],
   "id": "5cbc4f9a17972ce3",
   "outputs": [],
   "execution_count": null
  },
  {
   "metadata": {},
   "cell_type": "markdown",
   "source": "",
   "id": "eae614ab03c05531"
  },
  {
   "metadata": {},
   "cell_type": "markdown",
   "source": "### Load Best Classifier",
   "id": "7608a7329b33c641"
  },
  {
   "metadata": {},
   "cell_type": "code",
   "source": "classifier.load(classifier_out_path, classifier_file_name)",
   "id": "5d310ed878824b74",
   "outputs": [],
   "execution_count": null
  },
  {
   "metadata": {},
   "cell_type": "markdown",
   "source": "",
   "id": "e624d95858ad67b4"
  },
  {
   "metadata": {},
   "cell_type": "markdown",
   "source": "### Initialize Tester",
   "id": "32ab5aed2704ec1f"
  },
  {
   "metadata": {},
   "cell_type": "code",
   "source": "tester = Tester(classifier, loss, test_loader)",
   "id": "d58a4a409585618c",
   "outputs": [],
   "execution_count": null
  },
  {
   "metadata": {},
   "cell_type": "markdown",
   "source": "",
   "id": "f35df3e4b79c761d"
  },
  {
   "metadata": {},
   "cell_type": "markdown",
   "source": "### Test Classifier",
   "id": "a972f1bf980c1051"
  },
  {
   "metadata": {},
   "cell_type": "code",
   "source": [
    "test_loss, test_accuracy, test_precision, test_recall, test_f1, test_auroc, test_cm = tester.test()\n",
    "print(f'Test Loss: {test_loss}')\n",
    "print(f'Test Accuracy: {test_accuracy}')\n",
    "print(f'Test Precision: {test_precision}')\n",
    "print(f'Test Recall: {test_recall}')\n",
    "print(f'Test F1: {test_f1}')\n",
    "print(f'Test AUROC: {test_auroc}')"
   ],
   "id": "970ba44045eca9a9",
   "outputs": [],
   "execution_count": null
  },
  {
   "metadata": {},
   "cell_type": "markdown",
   "source": "",
   "id": "b509065ff2f4c1b"
  },
  {
   "metadata": {},
   "cell_type": "markdown",
   "source": "### Confusion Matrix",
   "id": "78bfac7a3c3b3a06"
  },
  {
   "metadata": {},
   "cell_type": "code",
   "source": [
    "plt.figure(figsize=(8, 6))\n",
    "sns.heatmap(test_cm, annot=True, fmt='d', cmap='Blues', xticklabels=[\"Blonde\", \"Brown\", \"Black\"], yticklabels=[\"Blonde\", \"Brown\", \"Black\"])\n",
    "plt.xlabel('Predicted')\n",
    "plt.ylabel('Actual')\n",
    "plt.title('Confusion Matrix')\n",
    "plt.show()"
   ],
   "id": "6974410b2161a6d0",
   "outputs": [],
   "execution_count": null
  }
 ],
 "metadata": {
  "kernelspec": {
   "display_name": "Python 3",
   "language": "python",
   "name": "python3"
  },
  "language_info": {
   "codemirror_mode": {
    "name": "ipython",
    "version": 2
   },
   "file_extension": ".py",
   "mimetype": "text/x-python",
   "name": "python",
   "nbconvert_exporter": "python",
   "pygments_lexer": "ipython2",
   "version": "2.7.6"
  }
 },
 "nbformat": 4,
 "nbformat_minor": 5
}
