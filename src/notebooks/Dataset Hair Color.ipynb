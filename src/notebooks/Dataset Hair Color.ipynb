{
 "cells": [
  {
   "metadata": {},
   "cell_type": "markdown",
   "source": "### Import Statements",
   "id": "bbf1b2cc087194ec"
  },
  {
   "metadata": {
    "ExecuteTime": {
     "end_time": "2024-04-29T01:57:40.970153Z",
     "start_time": "2024-04-29T01:57:39.247730Z"
    }
   },
   "cell_type": "code",
   "source": [
    "import os\n",
    "from concurrent.futures import ThreadPoolExecutor\n",
    "\n",
    "from tqdm import tqdm\n",
    "\n",
    "from genome_utils import *\n",
    "from src.hair_color.dataset import HairColorDataset"
   ],
   "id": "42a43bd727b25776",
   "outputs": [],
   "execution_count": 1
  },
  {
   "metadata": {},
   "cell_type": "markdown",
   "source": "",
   "id": "ece8da92e2ed10dc"
  },
  {
   "metadata": {},
   "cell_type": "markdown",
   "source": "### Environment Variables",
   "id": "79426087a2c548cf"
  },
  {
   "metadata": {
    "ExecuteTime": {
     "end_time": "2024-04-29T01:57:41.771417Z",
     "start_time": "2024-04-29T01:57:41.767704Z"
    }
   },
   "cell_type": "code",
   "source": [
    "num_threads = os.cpu_count() - 1\n",
    "\n",
    "res_path = '../../res/'\n",
    "phenotypes_in_path = '../../data/opensnps/phenotypes/'\n",
    "genotype_in_path = '../../data/opensnps/genotypes/'\n",
    "\n",
    "phenotypes_out_path = '../../data/hair_color/build37_autosomal/phenotypes/'\n",
    "rsids_out_path = '../../data/hair_color/build37_autosomal/rsids/'\n",
    "genotypes_out_path = '../../data/hair_color/build37_autosomal/genotypes/'\n",
    "genomes_out_path = '../../data/hair_color/build37_autosomal/genomes/'\n",
    "genotype_formatted_out_path = '../../data/hair_color/build37_autosomal/genotype/formatted'\n",
    "genotype_filtered_out_path = '../../data/hair_color/build37_autosomal/genotype/filtered'\n",
    "genotype_imputed_out_path = '../../data/hair_color/build37_autosomal/genotype/imputed'\n",
    "genotype_encoded_out_path = '../../data/hair_color/build37_autosomal/genotype/encoded'\n",
    "dataset_out_path = '../../data/hair_color/build37_autosomal/dataset/'\n",
    "\n",
    "phenotypes_out_file_name = 'phenotypes'\n",
    "rsids_out_file_name = 'rsids'\n",
    "genotypes_all_out_file_name = 'genotypes_all'\n",
    "genotypes_blonde_out_file_name = 'genotypes_blonde'\n",
    "genotypes_brown_out_file_name = 'genotypes_brown'\n",
    "genotypes_black_out_file_name = 'genotypes_black'\n",
    "genomes_out_file_name = 'genomes'\n",
    "genotype_out_file_name = 'genotype'\n",
    "dataset_out_file_name = 'dataset'\n",
    "\n",
    "build = 37\n",
    "chromosomes = [str(i) for i in range(1, 23)]"
   ],
   "id": "84fd80fb6fc87de8",
   "outputs": [],
   "execution_count": 2
  },
  {
   "metadata": {},
   "cell_type": "markdown",
   "source": "",
   "id": "1a7114275297c181"
  },
  {
   "metadata": {},
   "cell_type": "markdown",
   "source": "### Load Phenotypes",
   "id": "63b9b3e083d0859e"
  },
  {
   "cell_type": "code",
   "id": "initial_id",
   "metadata": {
    "collapsed": true,
    "ExecuteTime": {
     "end_time": "2024-04-29T01:57:43.292826Z",
     "start_time": "2024-04-29T01:57:43.078181Z"
    }
   },
   "source": [
    "phenotypes = Phenotype()\n",
    "phenotypes.from_feature(phenotypes_in_path, 'hair_color')\n",
    "phenotypes.clean()\n",
    "phenotypes.encode(HAIR_COLOR_ENCODER_READABLE)\n",
    "phenotypes.encode(HAIR_COLOR_ENCODER_ORDINAL)\n",
    "phenotypes.save(phenotypes_out_path, phenotypes_out_file_name)"
   ],
   "outputs": [],
   "execution_count": 3
  },
  {
   "metadata": {},
   "cell_type": "markdown",
   "source": "",
   "id": "9a5fd23404d69135"
  },
  {
   "metadata": {},
   "cell_type": "markdown",
   "source": "### Get User IDs",
   "id": "1b26dfe6812f9217"
  },
  {
   "metadata": {
    "ExecuteTime": {
     "end_time": "2024-04-29T01:57:44.609964Z",
     "start_time": "2024-04-29T01:57:44.607398Z"
    }
   },
   "cell_type": "code",
   "source": "user_ids = phenotypes.get_user_ids()",
   "id": "2cad2bce17de4288",
   "outputs": [],
   "execution_count": 4
  },
  {
   "metadata": {},
   "cell_type": "markdown",
   "source": "",
   "id": "f82d5ac31eac8ee0"
  },
  {
   "metadata": {},
   "cell_type": "markdown",
   "source": "### Format Genotype",
   "id": "128280b38027a4a1"
  },
  {
   "metadata": {
    "jupyter": {
     "is_executing": true
    }
   },
   "cell_type": "code",
   "source": [
    "def format_genotype(user_id: int):\n",
    "    try:\n",
    "        genotype = Genotype()\n",
    "        genotype.from_user_id(genotype_in_path, res_path, user_id, build)\n",
    "        genotype.clean()\n",
    "        genotype.filter_rsids_proprietary()\n",
    "        genotype.filter_chromosomes(chromosomes)\n",
    "        genotype.save(genotype_formatted_out_path, f\"{genotype_out_file_name}{user_id}\")\n",
    "    except FileNotFoundError or ValueError:\n",
    "        pass\n",
    "\n",
    "with ThreadPoolExecutor(max_workers=num_threads) as pool:\n",
    "    pool.map(format_genotype, user_ids)"
   ],
   "id": "344e0e1ddc8e6c51",
   "outputs": [],
   "execution_count": null
  },
  {
   "metadata": {},
   "cell_type": "markdown",
   "source": "",
   "id": "afd6a243e0f63b69"
  },
  {
   "metadata": {},
   "cell_type": "markdown",
   "source": "### Filter Genotype",
   "id": "80210f7aea160233"
  },
  {
   "metadata": {
    "jupyter": {
     "is_executing": true
    }
   },
   "cell_type": "code",
   "source": [
    "def filter_genotype(user_id: int, common_rsids: set[str]):\n",
    "    try:\n",
    "        genotype = Genotype()\n",
    "        genotype.load(genotype_formatted_out_path, f\"{genotype_out_file_name}{user_id}\")\n",
    "        genotype.filter_rsids(common_rsids)\n",
    "        genotype.drop_rsid_map()\n",
    "        genotype.save(genotype_filtered_out_path, f\"{genotype_out_file_name}{user_id}\")\n",
    "    except FileNotFoundError or ValueError:\n",
    "        pass\n",
    "\n",
    "rsids = Rsids(build)\n",
    "for user_id in tqdm(user_ids):\n",
    "    try:\n",
    "        genotype = Genotype()\n",
    "        genotype.load(genotype_formatted_out_path, f\"{genotype_out_file_name}{user_id}\")\n",
    "        rsids.concat_genotype(genotype)\n",
    "    except FileNotFoundError or ValueError:\n",
    "        continue\n",
    "rsids.save(rsids_out_path, rsids_out_file_name)\n",
    "common_rsids = rsids.get_common_rsids()\n",
    "sorted_rsids = rsids.get_sorted_rsids()\n",
    "sorted_rsids = [rsid for rsid in sorted_rsids if rsid in common_rsids]\n",
    "with ThreadPoolExecutor(max_workers=num_threads) as pool:\n",
    "    pool.map(lambda user_id: filter_genotype(user_id, common_rsids), user_ids)"
   ],
   "id": "e32d59bbc487aae5",
   "outputs": [],
   "execution_count": null
  },
  {
   "metadata": {},
   "cell_type": "markdown",
   "source": "",
   "id": "9d9a196a21278f74"
  },
  {
   "metadata": {},
   "cell_type": "markdown",
   "source": "### Impute Genotype",
   "id": "93ddb38637849d74"
  },
  {
   "metadata": {
    "jupyter": {
     "is_executing": true
    }
   },
   "cell_type": "code",
   "source": [
    "def impute_genotype(user_id: int, mode_genotypes: dict[str, str | int]):\n",
    "    try:\n",
    "        genotype = Genotype()\n",
    "        genotype.load(genotype_filtered_out_path, f\"{genotype_out_file_name}{user_id}\")\n",
    "        genotype.impute_bayesian(mode_genotypes)\n",
    "        genotype.save(genotype_imputed_out_path, f\"{genotype_out_file_name}{user_id}\")\n",
    "    except FileNotFoundError or ValueError:\n",
    "        pass\n",
    "\n",
    "genotypes = {\n",
    "    0: Genotypes(build),\n",
    "    1: Genotypes(build),\n",
    "    2: Genotypes(build)\n",
    "}\n",
    "for user_id in tqdm(user_ids):\n",
    "    try:\n",
    "        genotype = Genotype()\n",
    "        genotype.load(genotype_filtered_out_path, f\"{genotype_out_file_name}{user_id}\")\n",
    "        phenotype = phenotypes[user_id]\n",
    "        genotypes[phenotype].concat_genotype(genotype)\n",
    "    except FileNotFoundError or ValueError:\n",
    "        continue\n",
    "genotypes[0].save(genotypes_out_path, genotypes_blonde_out_file_name)\n",
    "genotypes[1].save(genotypes_out_path, genotypes_brown_out_file_name)\n",
    "genotypes[2].save(genotypes_out_path, genotypes_black_out_file_name)\n",
    "mode_genotypes = {\n",
    "    0: genotypes[0].get_mode_genotypes(),\n",
    "    1: genotypes[1].get_mode_genotypes(),\n",
    "    2: genotypes[2].get_mode_genotypes()\n",
    "}\n",
    "with ThreadPoolExecutor(max_workers=num_threads) as pool:\n",
    "    pool.map(lambda user_id: impute_genotype(user_id, mode_genotypes[phenotypes[user_id]]), user_ids)"
   ],
   "id": "dbb78ebb5b83cd7e",
   "outputs": [],
   "execution_count": null
  },
  {
   "metadata": {},
   "cell_type": "markdown",
   "source": "",
   "id": "7543ee9773472620"
  },
  {
   "metadata": {},
   "cell_type": "markdown",
   "source": "### Encode Genotype",
   "id": "b663c923b3eee2a1"
  },
  {
   "metadata": {
    "jupyter": {
     "is_executing": true
    }
   },
   "cell_type": "code",
   "source": [
    "def encode_genotype(user_id: int, reference_alleles: dict[str, str]):\n",
    "    try:\n",
    "        genotype = Genotype()\n",
    "        genotype.load(genotype_imputed_out_path, f\"{genotype_out_file_name}{user_id}\")\n",
    "        genotype.encode_alternate_allele_count(reference_alleles)\n",
    "        genotype.save(genotype_encoded_out_path, f\"{genotype_out_file_name}{user_id}\")\n",
    "    except FileNotFoundError or ValueError:\n",
    "        pass\n",
    "\n",
    "genotypes_all = Genotypes(build)\n",
    "for user_id in tqdm(user_ids):\n",
    "    try:\n",
    "        genotype = Genotype()\n",
    "        genotype.load(genotype_imputed_out_path, f\"{genotype_out_file_name}{user_id}\")\n",
    "        genotypes_all.concat_genotype(genotype)\n",
    "    except FileNotFoundError or ValueError:\n",
    "        continue\n",
    "genotypes_all.save(genotypes_out_path, genotypes_all_out_file_name)\n",
    "reference_alleles = genotypes_all.get_reference_alleles()\n",
    "with ThreadPoolExecutor(max_workers=num_threads) as pool:\n",
    "    pool.map(lambda user_id: encode_genotype(user_id, reference_alleles), user_ids)"
   ],
   "id": "6ed0e547c6f0cbb6",
   "outputs": [],
   "execution_count": null
  },
  {
   "metadata": {},
   "cell_type": "markdown",
   "source": "",
   "id": "bc1e153326d828cd"
  },
  {
   "metadata": {},
   "cell_type": "markdown",
   "source": "### Construct Genomes",
   "id": "4d22183cfa07c214"
  },
  {
   "metadata": {
    "jupyter": {
     "is_executing": true
    }
   },
   "cell_type": "code",
   "source": [
    "genomes = Genomes(build)\n",
    "for user_id in tqdm(user_ids):\n",
    "    try:\n",
    "        genotype = Genotype()\n",
    "        genotype.load(genotype_encoded_out_path, f\"{genotype_out_file_name}{user_id}\")\n",
    "        genomes.concat_genotype(genotype)\n",
    "    except FileNotFoundError or ValueError:\n",
    "        continue\n",
    "genomes.concat_phenotypes(phenotypes)\n",
    "genomes.filter_phenotypes_genotypes()\n",
    "genomes.sort_rsids(sorted_rsids)\n",
    "genomes.save(genomes_out_path, genomes_out_file_name)"
   ],
   "id": "f0762829f364a3c7",
   "outputs": [],
   "execution_count": null
  },
  {
   "metadata": {},
   "cell_type": "markdown",
   "source": "",
   "id": "40b1229c139bbc58"
  },
  {
   "metadata": {},
   "cell_type": "markdown",
   "source": "### Construct Dataset",
   "id": "f464c8efb437511c"
  },
  {
   "metadata": {
    "jupyter": {
     "is_executing": true
    }
   },
   "cell_type": "code",
   "source": [
    "dataset = HairColorDataset()\n",
    "dataset.from_genomes(genomes)\n",
    "dataset.save(dataset_out_path, dataset_out_file_name)"
   ],
   "id": "f073e365b708b97c",
   "outputs": [],
   "execution_count": null
  }
 ],
 "metadata": {
  "kernelspec": {
   "display_name": "Python 3",
   "language": "python",
   "name": "python3"
  },
  "language_info": {
   "codemirror_mode": {
    "name": "ipython",
    "version": 2
   },
   "file_extension": ".py",
   "mimetype": "text/x-python",
   "name": "python",
   "nbconvert_exporter": "python",
   "pygments_lexer": "ipython2",
   "version": "2.7.6"
  }
 },
 "nbformat": 4,
 "nbformat_minor": 5
}
