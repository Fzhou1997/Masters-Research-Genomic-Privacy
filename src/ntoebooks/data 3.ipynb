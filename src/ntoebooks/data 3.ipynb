{
 "cells": [
  {
   "cell_type": "code",
   "execution_count": 8,
   "metadata": {
    "ExecuteTime": {
     "end_time": "2024-01-30T16:29:32.594148Z",
     "start_time": "2024-01-30T16:29:31.658768Z"
    }
   },
   "outputs": [],
   "source": [
    "import pandas as pd\n",
    "\n",
    "\n",
    "def combine_reduntant_columns(df, column):\n",
    "    combined_columns = df[column].bfill(axis=1).iloc[:, 0]\n",
    "    new_df = df.drop(column, axis=1)\n",
    "    new_df[column] = combined_columns\n",
    "    return new_df\n",
    "\n",
    "# read in phenotypes from CSV file\n",
    "df = pd.read_csv('../../datasets/OpenSNP/phenotypes.csv',\n",
    "                 delimiter=';', na_values=['-','rather not say'], low_memory=False)\n",
    "\n",
    "# clean column names\n",
    "df.columns = map(str.lower, df.columns)\n",
    "df.columns = map(lambda column: column.replace(' ', '_'), df.columns)\n",
    "\n",
    "# combine duplicate columns into one\n",
    "df = combine_reduntant_columns(df, 'hair_color')\n",
    "\n",
    "# lowercase hair colors\n",
    "df['hair_color'] = df['hair_color'].str.lower()\n",
    "\n",
    "# drop rows with missing hair colors\n",
    "df.dropna(subset=['hair_color'], inplace=True)\n",
    "\n",
    "# drop exome-vcf files\n",
    "df = df[df.apply(lambda row: 'exome-vcf' not in row['genotype_filename'], axis=1)]\n",
    "\n",
    "# convert DOB years to integers\n",
    "df['date_of_birth'] = df['date_of_birth'].astype('Int64')"
   ]
  },
  {
   "cell_type": "code",
   "execution_count": 9,
   "metadata": {
    "ExecuteTime": {
     "end_time": "2024-01-30T16:29:32.596371Z",
     "start_time": "2024-01-30T16:29:32.195736Z"
    }
   },
   "outputs": [],
   "source": [
    "# figure out the reference builds being used by each file\n",
    "\n",
    "reference_builds = []\n",
    "\n",
    "def get_file_type_and_name(row):\n",
    "    row = row.fillna('unknown')\n",
    "    user_id, file_type, file_id = row['genotype_filename'].split('.')\n",
    "    yob = row['date_of_birth']\n",
    "    sex = row['chrom_sex']\n",
    "    file_name = f'user{user_id}_file{file_id}_yearofbirth_{yob}_sex_{sex}.{file_type}.txt'\n",
    "    return file_type, file_name\n",
    "\n",
    "\n",
    "def read_23andme(file_name):\n",
    "    try:\n",
    "        # read the file!\n",
    "        return '?'\n",
    "    except UnicodeDecodeError:\n",
    "        return '?'\n",
    "\n",
    "def read_ftdna_illumina(file_name):\n",
    "    try:\n",
    "        # read the file!\n",
    "        return '?'\n",
    "    except UnicodeDecodeError:\n",
    "        return '?'\n",
    "\n",
    "def read_ancestry(file_name):\n",
    "    try:\n",
    "        with open('../../datasets/OpenSNP/' + file_name) as input_file:\n",
    "            head = [next(input_file) for _ in range(18)]\n",
    "        return head[15].split()[7]\n",
    "    except UnicodeDecodeError:\n",
    "        return '?'\n",
    "\n",
    "\n",
    "for index, row in df.iterrows():\n",
    "    file_type, file_name = get_file_type_and_name(row)\n",
    "\n",
    "    if file_type == '23andme':\n",
    "        reference_builds.append(read_23andme(file_name))\n",
    "    elif file_type == 'ancestry':\n",
    "        reference_builds.append(read_ancestry(file_name))\n",
    "    elif file_type == 'ftdna-illumina':\n",
    "        reference_builds.append(read_ftdna_illumina(file_name))\n",
    "    else:\n",
    "        reference_builds.append('?')\n",
    "\n",
    "df['reference_build'] = reference_builds"
   ]
  },
  {
   "cell_type": "code",
   "execution_count": 10,
   "metadata": {
    "ExecuteTime": {
     "end_time": "2024-01-30T16:29:32.599341Z",
     "start_time": "2024-01-30T16:29:32.404106Z"
    }
   },
   "outputs": [
    {
     "data": {
      "text/plain": "      user_id           genotype_filename  date_of_birth chrom_sex  \\\n0           1                 1.23andme.9           1985        XY   \n1           1              1.23andme.2995           1985        XY   \n3           1              1.23andme.5299           1985        XY   \n5           8                 8.23andme.2           <NA>        XX   \n6          10                10.23andme.3           1982        XY   \n...       ...                         ...            ...       ...   \n6865    12123         12123.ancestry.9981           <NA>       NaN   \n6902    12200  12200.ftdna-illumina.10050           <NA>        XY   \n6915    12223         12223.23andme.10068           <NA>       NaN   \n6918    12226         12226.23andme.10072           1980        XY   \n6924    12235         12235.23andme.10082           <NA>        XY   \n\n                                   hair_color reference_build  \n0                                      blonde               ?  \n1                                      blonde               ?  \n3                                      blonde               ?  \n5                                       brown               ?  \n6                                       brown               ?  \n...                                       ...             ...  \n6865                              light brown            37.1  \n6902  blonde as a child, to brown as an adult               ?  \n6915                                   black                ?  \n6918                                   black                ?  \n6924                              dark blonde               ?  \n\n[1094 rows x 6 columns]",
      "text/html": "<div>\n<style scoped>\n    .dataframe tbody tr th:only-of-type {\n        vertical-align: middle;\n    }\n\n    .dataframe tbody tr th {\n        vertical-align: top;\n    }\n\n    .dataframe thead th {\n        text-align: right;\n    }\n</style>\n<table border=\"1\" class=\"dataframe\">\n  <thead>\n    <tr style=\"text-align: right;\">\n      <th></th>\n      <th>user_id</th>\n      <th>genotype_filename</th>\n      <th>date_of_birth</th>\n      <th>chrom_sex</th>\n      <th>hair_color</th>\n      <th>reference_build</th>\n    </tr>\n  </thead>\n  <tbody>\n    <tr>\n      <th>0</th>\n      <td>1</td>\n      <td>1.23andme.9</td>\n      <td>1985</td>\n      <td>XY</td>\n      <td>blonde</td>\n      <td>?</td>\n    </tr>\n    <tr>\n      <th>1</th>\n      <td>1</td>\n      <td>1.23andme.2995</td>\n      <td>1985</td>\n      <td>XY</td>\n      <td>blonde</td>\n      <td>?</td>\n    </tr>\n    <tr>\n      <th>3</th>\n      <td>1</td>\n      <td>1.23andme.5299</td>\n      <td>1985</td>\n      <td>XY</td>\n      <td>blonde</td>\n      <td>?</td>\n    </tr>\n    <tr>\n      <th>5</th>\n      <td>8</td>\n      <td>8.23andme.2</td>\n      <td>&lt;NA&gt;</td>\n      <td>XX</td>\n      <td>brown</td>\n      <td>?</td>\n    </tr>\n    <tr>\n      <th>6</th>\n      <td>10</td>\n      <td>10.23andme.3</td>\n      <td>1982</td>\n      <td>XY</td>\n      <td>brown</td>\n      <td>?</td>\n    </tr>\n    <tr>\n      <th>...</th>\n      <td>...</td>\n      <td>...</td>\n      <td>...</td>\n      <td>...</td>\n      <td>...</td>\n      <td>...</td>\n    </tr>\n    <tr>\n      <th>6865</th>\n      <td>12123</td>\n      <td>12123.ancestry.9981</td>\n      <td>&lt;NA&gt;</td>\n      <td>NaN</td>\n      <td>light brown</td>\n      <td>37.1</td>\n    </tr>\n    <tr>\n      <th>6902</th>\n      <td>12200</td>\n      <td>12200.ftdna-illumina.10050</td>\n      <td>&lt;NA&gt;</td>\n      <td>XY</td>\n      <td>blonde as a child, to brown as an adult</td>\n      <td>?</td>\n    </tr>\n    <tr>\n      <th>6915</th>\n      <td>12223</td>\n      <td>12223.23andme.10068</td>\n      <td>&lt;NA&gt;</td>\n      <td>NaN</td>\n      <td>black</td>\n      <td>?</td>\n    </tr>\n    <tr>\n      <th>6918</th>\n      <td>12226</td>\n      <td>12226.23andme.10072</td>\n      <td>1980</td>\n      <td>XY</td>\n      <td>black</td>\n      <td>?</td>\n    </tr>\n    <tr>\n      <th>6924</th>\n      <td>12235</td>\n      <td>12235.23andme.10082</td>\n      <td>&lt;NA&gt;</td>\n      <td>XY</td>\n      <td>dark blonde</td>\n      <td>?</td>\n    </tr>\n  </tbody>\n</table>\n<p>1094 rows × 6 columns</p>\n</div>"
     },
     "execution_count": 10,
     "metadata": {},
     "output_type": "execute_result"
    }
   ],
   "source": [
    "df.loc[:, ('user_id', 'genotype_filename', 'date_of_birth', 'chrom_sex', 'hair_color', 'reference_build')]"
   ]
  },
  {
   "cell_type": "code",
   "execution_count": 11,
   "metadata": {
    "ExecuteTime": {
     "end_time": "2024-01-30T16:29:32.599816Z",
     "start_time": "2024-01-30T16:29:32.423898Z"
    }
   },
   "outputs": [
    {
     "name": "stdout",
     "output_type": "stream",
     "text": [
      "0 \t blonde \t 59 \t blonde\n",
      "1 \t brown  \t 181 \t brown\n",
      "2 \t black  \t 72 \t brown-black\n",
      "3 \t brown  \t 44 \t light to medium brown\n",
      "4 \t        \t 2 \t strawberry brown\n",
      "5 \t brown  \t 26 \t auburn (reddish-brown)\n",
      "6 \t brown  \t 6 \t dirt-brown\n",
      "7 \t black  \t 71 \t black\n",
      "8 \t brown  \t 156 \t dark brown\n",
      "9 \t        \t 4 \t brown going to white in early 40s\n",
      "10 \t blonde \t 26 \t dirt-blonde\n",
      "11 \t brown  \t 37 \t light brown\n",
      "12 \t        \t 4 \t cc\n",
      "13 \t brown  \t 28 \t blond born, today dark brown\n",
      "14 \t brown  \t 9 \t auburn\n",
      "15 \t brown  \t 35 \t medium brown\n",
      "16 \t        \t 24 \t dark brown; red highlights\n",
      "17 \t        \t 12 \t dirty blonde, light brown, something?\n",
      "18 \t        \t 24 \t red\n",
      "19 \t        \t 8 \t medium golden brown\n",
      "20 \t        \t 15 \t strawberry blonde\n",
      "21 \t        \t 38 \t dark blonde (light brown)\n",
      "22 \t        \t 10 \t light ashy brown\n",
      "23 \t        \t 3 \t blackish brown\n",
      "24 \t        \t 11 \t blonde as a child, to brown as an adult\n",
      "25 \t blonde \t 7 \t blond\n",
      "26 \t        \t 1 \t dark brown; blonde highlights\n",
      "27 \t        \t 2 \t red (gone blond-grey)\n",
      "28 \t        \t 12 \t medium brown with highlights\n",
      "29 \t        \t 6 \t very dark brown\n",
      "30 \t        \t 3 \t blondish reddish brown\n",
      "31 \t        \t 12 \t blonde to light brown as child, medium brown as adult with blonde highlights from sun\n",
      "32 \t        \t 17 \t dark blonde\n",
      "33 \t        \t 1 \t dark blonde with a little of every colour but black.\n",
      "34 \t        \t 4 \t dark blonde, strawberry\n",
      "35 \t        \t 6 \t toe head to dark reddish brown\n",
      "36 \t        \t 5 \t dark blonde as a child, dark brown as an adult\n",
      "37 \t        \t 19 \t blond as a child and light brown as an adult\n",
      "38 \t        \t 4 \t dark blonde \n",
      "39 \t        \t 9 \t black \n",
      "40 \t        \t 1 \t dark blonde as a child, chestnut brown as an adult\n",
      "41 \t        \t 6 \t copper/red\n",
      "42 \t        \t 3 \t reddish-brown\n",
      "43 \t        \t 4 \t hair darkening with age, starting blonde, ending dark brown\n",
      "44 \t        \t 2 \t brown and silver\n",
      "45 \t        \t 6 \t medium brown, red highlights\n",
      "46 \t        \t 3 \t blonde as a child, light brown as an adult\n",
      "47 \t        \t 1 \t grey head, strawberry blonde facial and body\n",
      "48 \t        \t 8 \t darkest brown to black\n",
      "49 \t        \t 12 \t blond as child. started turning dark brown after puberty\n",
      "50 \t        \t 1 \t black (very slight tint of red)\n",
      "51 \t        \t 4 \t  light blonde as a child and medium blonde as an adult. \n",
      "52 \t        \t 1 \t dirty blond, dark red beard\n",
      "53 \t        \t 7 \t blond as a child.  dark blond as an adult.\n",
      "54 \t        \t 3 \t grey and brown\n",
      "55 \t        \t 3 \t reddish brown\n",
      "56 \t        \t 1 \t towhead to light ashy brown by 20s\n",
      "57 \t        \t 3 \t brown,red,blond\n",
      "58 \t        \t 2 \t chestnut brown\n",
      "59 \t        \t 4 \t blonde as child, ash blonde as adult, early white\n",
      "60 \t        \t 1 \t strawberry blond as a child, now dark auburn brown\n",
      "61 \t        \t 1 \t bright copper ginger into my 40s. light auburn with grey temples as i age.\n",
      "62 \t        \t 2 \t dark blonde, \n",
      "63 \t        \t 1 \t darkest brown to black \n",
      "64 \t        \t 1 \t blue\n"
     ]
    }
   ],
   "source": [
    "# reconcile hair colors into one of three categories: blonde, brown, or black\n",
    "\n",
    "blonde = {'blonde', 'blond', 'dirt-blonde'}\n",
    "brown = {'brown', 'medium brown', 'dark brown', 'auburn', 'dirt-brown', 'light brown',\n",
    "         'blond born, today dark brown', 'light to medium brown', 'auburn (reddish-brown)'}\n",
    "black = {'black', 'brown-black'}\n",
    "\n",
    "for i, hair_color in enumerate(df['hair_color'].unique()):\n",
    "    label = '      '\n",
    "    if hair_color in blonde:\n",
    "        label = 'blonde'\n",
    "    elif hair_color in brown:\n",
    "        label = 'brown '\n",
    "    elif hair_color in black:\n",
    "        label = 'black '\n",
    "\n",
    "\n",
    "    num_samples = len(df[df['hair_color'] == hair_color])\n",
    "    print(i, '\\t', label, '\\t', num_samples, '\\t', hair_color)"
   ]
  },
  {
   "cell_type": "code",
   "execution_count": 12,
   "metadata": {
    "ExecuteTime": {
     "end_time": "2024-01-30T16:29:32.602204Z",
     "start_time": "2024-01-30T16:29:32.451795Z"
    }
   },
   "outputs": [
    {
     "data": {
      "text/plain": "92"
     },
     "execution_count": 12,
     "metadata": {},
     "output_type": "execute_result"
    }
   ],
   "source": [
    "# number of blonde samples\n",
    "len(df[df['hair_color'].str.lower().isin(blonde)])"
   ]
  },
  {
   "cell_type": "code",
   "execution_count": 13,
   "metadata": {
    "ExecuteTime": {
     "end_time": "2024-01-30T16:29:32.602514Z",
     "start_time": "2024-01-30T16:29:32.456516Z"
    }
   },
   "outputs": [
    {
     "data": {
      "text/plain": "522"
     },
     "execution_count": 13,
     "metadata": {},
     "output_type": "execute_result"
    }
   ],
   "source": [
    "# number of brown samples\n",
    "len(df[df['hair_color'].str.lower().isin(brown)])"
   ]
  },
  {
   "cell_type": "code",
   "execution_count": 14,
   "metadata": {
    "ExecuteTime": {
     "end_time": "2024-01-30T16:29:32.603342Z",
     "start_time": "2024-01-30T16:29:32.461882Z"
    }
   },
   "outputs": [
    {
     "data": {
      "text/plain": "143"
     },
     "execution_count": 14,
     "metadata": {},
     "output_type": "execute_result"
    }
   ],
   "source": [
    "# number of black samples\n",
    "len(df[df['hair_color'].str.lower().isin(black)])"
   ]
  }
 ],
 "metadata": {
  "kernelspec": {
   "display_name": "base",
   "language": "python",
   "name": "python3"
  },
  "language_info": {
   "codemirror_mode": {
    "name": "ipython",
    "version": 3
   },
   "file_extension": ".py",
   "mimetype": "text/x-python",
   "name": "python",
   "nbconvert_exporter": "python",
   "pygments_lexer": "ipython3",
   "version": "3.9.18"
  }
 },
 "nbformat": 4,
 "nbformat_minor": 2
}
